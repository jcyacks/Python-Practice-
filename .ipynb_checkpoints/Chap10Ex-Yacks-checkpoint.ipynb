{
 "cells": [
  {
   "cell_type": "markdown",
   "id": "1787f51b",
   "metadata": {},
   "source": [
    "# Chapter 10 Coding Set "
   ]
  },
  {
   "cell_type": "markdown",
   "id": "9e1bb0d0",
   "metadata": {},
   "source": [
    "### Question 1 "
   ]
  },
  {
   "cell_type": "markdown",
   "id": "f2720515",
   "metadata": {},
   "source": [
    "Pet Class - Write a class named pet, which should have the following data attributes: \n",
    "- __name (for the name of the pet \n",
    "- __animal_type (for the typep of animal that the pet is, Ex. Cat, Dog) \n",
    "- __age (for pets age) \n",
    "The pet class should have an __int__ method that creates these attributes. It should also have the following methods: \n",
    "- set_name \n",
    "   \n",
    "   -This method assigns a value to the __name field \n",
    "\n",
    "\n",
    "- set_animal_type\n",
    "   \n",
    "   -This should assign a value to the _animal_type field\n",
    "\n",
    "\n",
    "- set_age \n",
    "  \n",
    "  -This should assign a value to the __age field\n",
    "\n",
    "\n",
    "- get_name \n",
    "  \n",
    "  -This method should return the value of the __name field \n",
    "\n",
    "\n",
    "- get_animal_type \n",
    "   \n",
    "   -This should return the value of the _animal_type field \n",
    "\n",
    "\n",
    "- get_age \n",
    "    \n",
    "    -This should return the value of the __age field\n",
    "Once you have written the class, write a program that creates an object of the class and prompts the user to enter the name, type, and age of his or pet. This data should be stored as the objects attributes. Use the obect accessor methods to retrieve the pet's name, type and age and display on the screen. "
   ]
  },
  {
   "cell_type": "code",
   "execution_count": null,
   "id": "8350b573",
   "metadata": {},
   "outputs": [],
   "source": []
  },
  {
   "cell_type": "markdown",
   "id": "a7d56b9a",
   "metadata": {},
   "source": [
    "## Question 5 \n",
    "Retail Item Class - Write a classed named RetailITem that holds data aboout an item in a retail store. The class should store the following data in atttributes: Item Description, Units in inventory, and Price. Once you have written the class, write a program that creates three RetailItem objects and stores the following data in them: \n",
    "\n",
    "Item 1 - Jacket - Inventory 12 - Price 59.95\n",
    "\n",
    "Item 2 - Designer Jeans - Inventory 40 - Price 34.95 \n",
    "\n",
    "Item 3 - Shirt - Inventory 20 - Price 24.95\n"
   ]
  },
  {
   "cell_type": "code",
   "execution_count": null,
   "id": "15a81333",
   "metadata": {},
   "outputs": [],
   "source": []
  }
 ],
 "metadata": {
  "kernelspec": {
   "display_name": "Python 3 (ipykernel)",
   "language": "python",
   "name": "python3"
  },
  "language_info": {
   "codemirror_mode": {
    "name": "ipython",
    "version": 3
   },
   "file_extension": ".py",
   "mimetype": "text/x-python",
   "name": "python",
   "nbconvert_exporter": "python",
   "pygments_lexer": "ipython3",
   "version": "3.10.9"
  }
 },
 "nbformat": 4,
 "nbformat_minor": 5
}
