{
 "cells": [
  {
   "cell_type": "markdown",
   "id": "b5cbea1c",
   "metadata": {},
   "source": [
    "# Chapter 2 Excercises"
   ]
  },
  {
   "cell_type": "markdown",
   "id": "3bf6c264",
   "metadata": {},
   "source": [
    "## Algorithm Workbench: Question 9\n",
    "    We are presented with a num and print function call and\n",
    "    asked what the outcome would be.\n",
    "    "
   ]
  },
  {
   "cell_type": "code",
   "execution_count": 2,
   "id": "4426a265",
   "metadata": {},
   "outputs": [
    {
     "name": "stdout",
     "output_type": "stream",
     "text": [
      "5\n"
     ]
    }
   ],
   "source": [
    "#code given from the book \n",
    "num = 99 \n",
    "num = 5 \n",
    "print(num)"
   ]
  },
  {
   "cell_type": "markdown",
   "id": "daee0136",
   "metadata": {},
   "source": [
    "## My predition for the above code: \n",
    "    I beleive the number 5 will be the output when the print (num) function is used. I think this because the \"num\" was first assigned to 99, however, it was reassigned to 5. Therefore the last assigned output is number 5. "
   ]
  },
  {
   "cell_type": "markdown",
   "id": "c24739bb",
   "metadata": {},
   "source": [
    "# Programming Exercises: Question 13"
   ]
  },
  {
   "cell_type": "markdown",
   "id": "0a5217f8",
   "metadata": {},
   "source": [
    "    A vineyard owner is planting serveral new rows of grapevines, and needs to know how many grapevines to plant in each row. She has determined that after measuring the length of a future row,  she can use the following formula to calculate the number of vines that will fit in the row, along with the trellis end-post assemblies that will need to be constructed at each end of the row: \n",
    "    \n",
    "    V = (R-2E)/ S \n",
    "    \n",
    "    The terms in the formula are: \n",
    "    - V is number of grapevines that will fit in the row \n",
    "    - R is the length of the row, in feet\n",
    "    - E is the amount of space, in feet, used by an end-post assembly \n",
    "    - S is the space between vines, in feet \n",
    "    \n",
    "    Once the input data has been entered, the program should calculate and display the number of grapevines that will fit in the row. "
   ]
  },
  {
   "cell_type": "code",
   "execution_count": null,
   "id": "5e257a82",
   "metadata": {},
   "outputs": [],
   "source": [
    "# there is a 5 set process to creating the correct output to this question \n",
    "# Step 1: Find the length of the row  \n",
    "length_of_row = float(input('Enter length of row, in feet'))"
   ]
  },
  {
   "cell_type": "code",
   "execution_count": null,
   "id": "c57f6fbf",
   "metadata": {},
   "outputs": [],
   "source": [
    "# Step 2: Find amount of space used by an end-post assembly \n",
    "endpost_space = float(input('Enter space ysed by endpost assembly, in feet'))"
   ]
  }
 ],
 "metadata": {
  "kernelspec": {
   "display_name": "Python 3 (ipykernel)",
   "language": "python",
   "name": "python3"
  },
  "language_info": {
   "codemirror_mode": {
    "name": "ipython",
    "version": 3
   },
   "file_extension": ".py",
   "mimetype": "text/x-python",
   "name": "python",
   "nbconvert_exporter": "python",
   "pygments_lexer": "ipython3",
   "version": "3.10.9"
  }
 },
 "nbformat": 4,
 "nbformat_minor": 5
}
