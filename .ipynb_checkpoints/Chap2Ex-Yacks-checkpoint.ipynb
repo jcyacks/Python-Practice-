{
 "cells": [
  {
   "cell_type": "markdown",
   "id": "4a0afa62",
   "metadata": {},
   "source": [
    "# Chapter 2 Excercises"
   ]
  },
  {
   "cell_type": "markdown",
   "id": "cbb2421e",
   "metadata": {},
   "source": [
    "## Algorithm Workbench: Question 9\n",
    "    We are presented with a num and print function call and\n",
    "    asked what the outcome would be.\n",
    "    "
   ]
  },
  {
   "cell_type": "code",
   "execution_count": 1,
   "id": "d1d8f25c",
   "metadata": {},
   "outputs": [
    {
     "name": "stdout",
     "output_type": "stream",
     "text": [
      "5\n"
     ]
    }
   ],
   "source": [
    "#code given from the book \n",
    "num = 99 \n",
    "num = 5 \n",
    "print(num)"
   ]
  },
  {
   "cell_type": "markdown",
   "id": "63857382",
   "metadata": {},
   "source": [
    "## My predition for the above code: \n",
    "    I beleive the number 5 will be the output when the print (num) function is used. I think this because the \"num\" was first assigned to 99, however, it was reassigned to 5. Therefore the last assigned output is number 5. "
   ]
  },
  {
   "cell_type": "markdown",
   "id": "0d0a16a6",
   "metadata": {},
   "source": [
    "# Programming Exercises: Question 13"
   ]
  },
  {
   "cell_type": "markdown",
   "id": "7628dd9c",
   "metadata": {},
   "source": [
    "    A vineyard owner is planting serveral new rows of grapevines, and needs to know how many grapevines to plant in each row. She has determined that after measuring the length of a future row,  she can use the following formula to calculate the number of vines that will fit in the row, along with the trellis end-post assemblies that will need to be constructed at each end of the row: \n",
    "    \n",
    "    V = (R-2E)/ S \n",
    "    \n",
    "    The terms in the formula are: \n",
    "    - V is number of grapevines that will fit in the row \n",
    "    - R is the length of the row, in feet\n",
    "    - E is the amount of space, in feet, used by an end-post assembly \n",
    "    - S is the space between vines, in feet \n",
    "    \n",
    "    Once the input data has been entered, the program should calculate and display the number of grapevines that will fit in the row. "
   ]
  },
  {
   "cell_type": "code",
   "execution_count": 2,
   "id": "8066bcce",
   "metadata": {},
   "outputs": [
    {
     "name": "stdout",
     "output_type": "stream",
     "text": [
      "Enter length of row, in feet:50\n"
     ]
    }
   ],
   "source": [
    "# There is a 5 set process to creating the correct output to this question\n",
    "\n",
    "# Step 1: Find the length of the row  \n",
    "length_of_row = float(input('Enter length of row, in feet:'))"
   ]
  },
  {
   "cell_type": "code",
   "execution_count": 3,
   "id": "28ce906b",
   "metadata": {},
   "outputs": [
    {
     "name": "stdout",
     "output_type": "stream",
     "text": [
      "Enter space used by endpost assembly, in feet:3\n"
     ]
    }
   ],
   "source": [
    "# Step 2: Find amount of space used by an end-post assembly \n",
    "endpost_space = float(input('Enter space used by endpost assembly, in feet:'))"
   ]
  },
  {
   "cell_type": "code",
   "execution_count": 4,
   "id": "d128d8ed",
   "metadata": {},
   "outputs": [
    {
     "name": "stdout",
     "output_type": "stream",
     "text": [
      "Enter space between grapevines, in feet2\n"
     ]
    }
   ],
   "source": [
    "# Step 3: Fine the space between vines\n",
    "space_between_vines = float(input('Enter space between grapevines, in feet'))\n",
    "# the book uses int(input()), however I am using the float to see if\n",
    "# my output is this the same"
   ]
  },
  {
   "cell_type": "code",
   "execution_count": 5,
   "id": "d0e4218f",
   "metadata": {},
   "outputs": [],
   "source": [
    "# Step 4: Calculate the amount of vines she will need per row \n",
    "grapevines_needed = (length_of_row- (2.0 * endpost_space))  / space_between_vines "
   ]
  },
  {
   "cell_type": "code",
   "execution_count": 6,
   "id": "703c19e1",
   "metadata": {},
   "outputs": [
    {
     "name": "stdout",
     "output_type": "stream",
     "text": [
      "You will need 22.0 in each row\n"
     ]
    }
   ],
   "source": [
    "# Step 5: Display amount og vines needed \n",
    "print('You will need', grapevines_needed, 'in each row')"
   ]
  },
  {
   "cell_type": "markdown",
   "id": "3ecdf680",
   "metadata": {},
   "source": [
    "After some slight tweaking I was able to get the correct answer! I found out that when in doubt parethesis it out, I did not use parenthesis for the beginning half of my equation. Once they were used my equation worked. I also learned that int() and float() did not changed anything when making this program. "
   ]
  },
  {
   "cell_type": "markdown",
   "id": "820da63b",
   "metadata": {},
   "source": [
    "## Programming Exercises: Question 1: "
   ]
  },
  {
   "cell_type": "markdown",
   "id": "342a7455",
   "metadata": {},
   "source": [
    "Write a program that displaued the following information: \n",
    "- Your name \n",
    "- Your address, with city, and ZIP \n",
    "- Your telephone number \n",
    "- Your college major "
   ]
  },
  {
   "cell_type": "code",
   "execution_count": null,
   "id": "406ae82e",
   "metadata": {},
   "outputs": [],
   "source": [
    "#Display my name \n",
    "print('Jaya Yacks')"
   ]
  },
  {
   "cell_type": "code",
   "execution_count": null,
   "id": "360bb934",
   "metadata": {},
   "outputs": [],
   "source": [
    "#Display the address to the A&S building \n",
    "print('419 N Washington Square')"
   ]
  },
  {
   "cell_type": "code",
   "execution_count": null,
   "id": "5a9dcd23",
   "metadata": {},
   "outputs": [],
   "source": [
    "#Display the City, State and ZIP code to the A&S building\n",
    "print('Lansing MI, 48933')"
   ]
  },
  {
   "cell_type": "code",
   "execution_count": null,
   "id": "afda8a4e",
   "metadata": {},
   "outputs": [],
   "source": [
    "#Display the ghostbusters phone number, yes this is from the movie \n",
    "# WHO YOU GONNA CALL! GHOSTBUSTERS! \n",
    "print('(0(800)222-9911')"
   ]
  },
  {
   "cell_type": "code",
   "execution_count": null,
   "id": "c7f82cc8",
   "metadata": {},
   "outputs": [],
   "source": [
    "#Display your major\n",
    "print('I am a major in accounting')"
   ]
  }
 ],
 "metadata": {
  "kernelspec": {
   "display_name": "Python 3 (ipykernel)",
   "language": "python",
   "name": "python3"
  },
  "language_info": {
   "codemirror_mode": {
    "name": "ipython",
    "version": 3
   },
   "file_extension": ".py",
   "mimetype": "text/x-python",
   "name": "python",
   "nbconvert_exporter": "python",
   "pygments_lexer": "ipython3",
   "version": "3.10.9"
  }
 },
 "nbformat": 4,
 "nbformat_minor": 5
}
