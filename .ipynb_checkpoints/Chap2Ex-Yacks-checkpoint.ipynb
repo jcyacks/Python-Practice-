{
 "cells": [
  {
   "cell_type": "markdown",
   "id": "b20f7f8f",
   "metadata": {},
   "source": [
    "# Chapter 2 Excercises"
   ]
  },
  {
   "cell_type": "markdown",
   "id": "45dcc66d",
   "metadata": {},
   "source": [
    "## Algorithm Workbench: Question 9\n",
    "    We are presented with a num and print function call and\n",
    "    asked what the outcome would be.\n",
    "    "
   ]
  },
  {
   "cell_type": "code",
   "execution_count": null,
   "id": "4fe92d5c",
   "metadata": {},
   "outputs": [],
   "source": [
    "num = 99 \n",
    "num = 5 \n",
    "print(num)"
   ]
  }
 ],
 "metadata": {
  "kernelspec": {
   "display_name": "Python 3 (ipykernel)",
   "language": "python",
   "name": "python3"
  },
  "language_info": {
   "codemirror_mode": {
    "name": "ipython",
    "version": 3
   },
   "file_extension": ".py",
   "mimetype": "text/x-python",
   "name": "python",
   "nbconvert_exporter": "python",
   "pygments_lexer": "ipython3",
   "version": "3.10.9"
  }
 },
 "nbformat": 4,
 "nbformat_minor": 5
}
