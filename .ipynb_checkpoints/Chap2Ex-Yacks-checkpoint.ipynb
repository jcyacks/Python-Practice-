{
 "cells": [
  {
   "cell_type": "markdown",
   "id": "ad6533bd",
   "metadata": {},
   "source": [
    "# Chapter 2 Excercises"
   ]
  },
  {
   "cell_type": "markdown",
   "id": "d320bd87",
   "metadata": {},
   "source": [
    "## Algorithm Workbench: Question 9\n",
    "    We are presented with a num and print function call and\n",
    "    asked what the outcome would be.\n",
    "    "
   ]
  },
  {
   "cell_type": "code",
   "execution_count": null,
   "id": "4c476ed6",
   "metadata": {},
   "outputs": [],
   "source": [
    "num = 99 \n",
    "num = 5 \n",
    "print(num)"
   ]
  },
  {
   "cell_type": "markdown",
   "id": "15ab5506",
   "metadata": {},
   "source": [
    "## My predition for the above code: \n",
    "    I beleive the number 5 will show up when the print (num) function is used. I think this because the \"num\" was first assigned to 99, however, it was reassigned to 5. Therefore the last assigned output is number 5. "
   ]
  },
  {
   "cell_type": "code",
   "execution_count": null,
   "id": "0901a6f9",
   "metadata": {},
   "outputs": [],
   "source": []
  }
 ],
 "metadata": {
  "kernelspec": {
   "display_name": "Python 3 (ipykernel)",
   "language": "python",
   "name": "python3"
  },
  "language_info": {
   "codemirror_mode": {
    "name": "ipython",
    "version": 3
   },
   "file_extension": ".py",
   "mimetype": "text/x-python",
   "name": "python",
   "nbconvert_exporter": "python",
   "pygments_lexer": "ipython3",
   "version": "3.10.9"
  }
 },
 "nbformat": 4,
 "nbformat_minor": 5
}
