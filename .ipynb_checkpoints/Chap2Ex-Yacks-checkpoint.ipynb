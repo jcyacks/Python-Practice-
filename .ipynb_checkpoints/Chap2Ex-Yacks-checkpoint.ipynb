{
 "cells": [
  {
   "cell_type": "markdown",
   "id": "ed6e3cec",
   "metadata": {},
   "source": [
    "# Chapter 2 Excercises"
   ]
  },
  {
   "cell_type": "markdown",
   "id": "85a7cffe",
   "metadata": {},
   "source": [
    "## Algorithm Workbench: Question 9\n",
    "    We are presented with a num and print function call and\n",
    "    asked what the outcome would be.\n",
    "    "
   ]
  },
  {
   "cell_type": "code",
   "execution_count": 1,
   "id": "3dfc2c3c",
   "metadata": {},
   "outputs": [
    {
     "name": "stdout",
     "output_type": "stream",
     "text": [
      "5\n"
     ]
    }
   ],
   "source": [
    "num = 99 \n",
    "num = 5 \n",
    "print(num)"
   ]
  },
  {
   "cell_type": "markdown",
   "id": "3b9b3969",
   "metadata": {},
   "source": [
    "## My predition for the above code: \n",
    "    I beleive the number 5 will be the output when the print (num) function is used. I think this because the \"num\" was first assigned to 99, however, it was reassigned to 5. Therefore the last assigned output is number 5. "
   ]
  },
  {
   "cell_type": "markdown",
   "id": "240a9b5b",
   "metadata": {},
   "source": [
    "# Programming Exercises: Question 13"
   ]
  },
  {
   "cell_type": "markdown",
   "id": "d8d9c940",
   "metadata": {},
   "source": [
    "    A vineyard owner is planting serveral new rows of grapevines, and needs to know how many grapevines to plant in each row. She has determined that after measuring the length of a future row,  she can use the following formula to calculate the number of vines that will fit in the row, along with the trellis end-post assemblies that will need to be constructed at each end of the row: \n",
    "    \n",
    "    V = (R-2E)/ S \n",
    "    \n",
    "    The terms in the formula are: \n",
    "    - V is number of grapevines that will fit in the row \n",
    "    - R is the length of the row, in feet\n",
    "    - E is the amount of space, in feet, used by an end-post assembly \n",
    "    - S is the space between vines, in feet \n",
    "    \n",
    "    Once the input data has been entered, the program should calculate and display the number of grapevines that will fit in the row. "
   ]
  },
  {
   "cell_type": "code",
   "execution_count": null,
   "id": "0f49fa6a",
   "metadata": {},
   "outputs": [],
   "source": []
  }
 ],
 "metadata": {
  "kernelspec": {
   "display_name": "Python 3 (ipykernel)",
   "language": "python",
   "name": "python3"
  },
  "language_info": {
   "codemirror_mode": {
    "name": "ipython",
    "version": 3
   },
   "file_extension": ".py",
   "mimetype": "text/x-python",
   "name": "python",
   "nbconvert_exporter": "python",
   "pygments_lexer": "ipython3",
   "version": "3.10.9"
  }
 },
 "nbformat": 4,
 "nbformat_minor": 5
}
