{
 "cells": [
  {
   "cell_type": "markdown",
   "id": "a2a5ba62",
   "metadata": {},
   "source": [
    "# Chapter 3 Coding Excercises"
   ]
  },
  {
   "cell_type": "markdown",
   "id": "cbbabefd",
   "metadata": {},
   "source": [
    "## Algorithm Worthbench"
   ]
  },
  {
   "cell_type": "markdown",
   "id": "4589afe2",
   "metadata": {},
   "source": [
    "Question 4:The following Code contains several nested if-else statements. Unfortunately, it was written without proper alignment and indentation. Rewrite the code and use the proper concenventions of alignment and indentation. \n",
    "\n",
    "if score >= A_score:\n",
    "\n",
    "print( 'your grade is A.') \n",
    "\n",
    "else :\n",
    "\n",
    "if score >= B_score:\n",
    "\n",
    "print( 'your grade is B.') \n",
    "\n",
    "else:\n",
    "\n",
    "if score >= C_score:\n",
    "\n",
    "print( 'your grade is C.') \n",
    "\n",
    "else:\n",
    "\n",
    "if score >= D_score:\n",
    "\n",
    "print( 'your grade is D.') \n",
    "\n",
    "else:\n",
    "\n",
    "if score >= F_score:\n",
    "\n",
    "print( 'your grade is F.')\n"
   ]
  },
  {
   "cell_type": "code",
   "execution_count": 1,
   "id": "0cc30d3c",
   "metadata": {},
   "outputs": [
    {
     "ename": "NameError",
     "evalue": "name 'score' is not defined",
     "output_type": "error",
     "traceback": [
      "\u001b[1;31m---------------------------------------------------------------------------\u001b[0m",
      "\u001b[1;31mNameError\u001b[0m                                 Traceback (most recent call last)",
      "Cell \u001b[1;32mIn[1], line 2\u001b[0m\n\u001b[0;32m      1\u001b[0m \u001b[38;5;66;03m# Correcting broken code above\u001b[39;00m\n\u001b[1;32m----> 2\u001b[0m \u001b[38;5;28;01mif\u001b[39;00m \u001b[43mscore\u001b[49m \u001b[38;5;241m>\u001b[39m\u001b[38;5;241m=\u001b[39m A_score: \n\u001b[0;32m      3\u001b[0m     \u001b[38;5;28mprint\u001b[39m(\u001b[38;5;124m'\u001b[39m\u001b[38;5;124mYour grade is A.\u001b[39m\u001b[38;5;124m'\u001b[39m)\n\u001b[0;32m      4\u001b[0m \u001b[38;5;28;01melse\u001b[39;00m: \n",
      "\u001b[1;31mNameError\u001b[0m: name 'score' is not defined"
     ]
    }
   ],
   "source": [
    "# Correcting broken code above\n",
    "if score >= A_score: \n",
    "    print('Your grade is A.')\n",
    "else: \n",
    "    if score >= B_score: \n",
    "        print('Your grade is B.')\n",
    "    else: \n",
    "        if score >= C_score: \n",
    "            print('Your grade is C.')\n",
    "        else: \n",
    "            if score >= D_score: \n",
    "                print('Your grade is D.')\n",
    "            else: \n",
    "                if score >= F_score: \n",
    "                    print('Your grade is F.')\n",
    "# is this supposed to run correctly or are we just typing this out? "
   ]
  },
  {
   "cell_type": "markdown",
   "id": "991ec328",
   "metadata": {},
   "source": [
    "Question 5: Write nested decision structures that preform the following: If amount1 is greater than 10 and amount2 is less than 100, display the greater of amount1 and amount2. "
   ]
  },
  {
   "cell_type": "code",
   "execution_count": 2,
   "id": "815bcfb1",
   "metadata": {},
   "outputs": [
    {
     "name": "stdout",
     "output_type": "stream",
     "text": [
      "Enter Amount1:6\n"
     ]
    }
   ],
   "source": [
    "## acknowledgment of Amount1\n",
    "amount1 = float(input('Enter Amount1:'))"
   ]
  },
  {
   "cell_type": "code",
   "execution_count": 3,
   "id": "f82c19c2",
   "metadata": {},
   "outputs": [
    {
     "name": "stdout",
     "output_type": "stream",
     "text": [
      "Enter Amount2:200\n"
     ]
    }
   ],
   "source": [
    "## acknowledgment of Amount2\n",
    "amount2 = float(input('Enter Amount2:'))"
   ]
  },
  {
   "cell_type": "code",
   "execution_count": 8,
   "id": "73f105a2",
   "metadata": {},
   "outputs": [
    {
     "name": "stdout",
     "output_type": "stream",
     "text": [
      "Error\n"
     ]
    }
   ],
   "source": [
    "if amount1 > 10 and amount2 < 100:\n",
    "    if amount1 > amount2:\n",
    "        print(amount1)\n",
    "    else: \n",
    "        print(amount2)\n",
    "else:\n",
    "    print('Error')"
   ]
  },
  {
   "cell_type": "markdown",
   "id": "fd20aef4",
   "metadata": {},
   "source": [
    "## Programming Exercises"
   ]
  },
  {
   "cell_type": "markdown",
   "id": "b65bb9b8",
   "metadata": {},
   "source": [
    "Question 1: Day of the Week- Write a program that asks the user for a number in the range of 1 through 7. The program should display the corresponding day of the week, where 1 = monday, 2 = Tuesday, etc. The program should display an error message if the user enters a number that is outside the range of 1 through 7. "
   ]
  },
  {
   "cell_type": "code",
   "execution_count": null,
   "id": "061a0dd8",
   "metadata": {},
   "outputs": [],
   "source": []
  },
  {
   "cell_type": "markdown",
   "id": "cc7cc33c",
   "metadata": {},
   "source": [
    "Question 5: Mass and Weight - scientists measure an pbjects mass in kilograms and its weight in newtons. If you know the amount of mass of an object in kilograms, you can calculate its weight in newtons with the following formula. \n",
    "\n",
    "weight = mass X 9.8 \n",
    "\n",
    "Write a program that asks the user to enter an objects mass, then calculates its weight. If the object weights more than 500 kilograms, displat a message indicating that it is too heavy. If the object weights less than 100 newtons, display a message indicating that it is too light. "
   ]
  },
  {
   "cell_type": "code",
   "execution_count": null,
   "id": "39883ee3",
   "metadata": {},
   "outputs": [],
   "source": []
  },
  {
   "cell_type": "markdown",
   "id": "751b77ae",
   "metadata": {},
   "source": [
    "Question 15: Time Calculator - Write a program that asks the user to enter a number of seconds and works as follow: \n",
    "\n",
    "- There are 60 seconds in a minute. If the number of seconds entered is greater than or equal to 60, the program should convert the number of seconds to minutes and secconds. \n",
    "\n",
    "- there are 3600 seconds in an hour. If the number of seconds entered by the user is greater than or equal to 3600, the program should convert the seconds to hours, minutes, seconds \n",
    "\n",
    "- there are 86400 seconds in a day. If the number of seconds is greater than or equal to 86400 the program should convert the seconds into days, hours, minutes, seconds "
   ]
  },
  {
   "cell_type": "code",
   "execution_count": null,
   "id": "d6667fdc",
   "metadata": {},
   "outputs": [],
   "source": []
  },
  {
   "cell_type": "markdown",
   "id": "b7da7cce",
   "metadata": {},
   "source": [
    "Questions 16: February Days - The month of February normally has 28 days. but if it is leap year, February has 29 days. Write a program that asks the user to enter a year. The program should then display the number of days in February that year. Use the following criteria to indentify leap years: \n",
    "\n",
    "- Determine whether the year is divisible by 100. If it is, then it is a leap year if and only if it also disivible by 400. For example 2000 is a leap year but 2010 is not. \n",
    "\n",
    "- If the year is not divisible by 100, then it is a leap year if and only if it is divisible by 4 . for example 2008 is a leap year, but 2009 is not "
   ]
  },
  {
   "cell_type": "code",
   "execution_count": null,
   "id": "347f00be",
   "metadata": {},
   "outputs": [],
   "source": []
  },
  {
   "cell_type": "code",
   "execution_count": null,
   "id": "1157d47d",
   "metadata": {},
   "outputs": [],
   "source": []
  }
 ],
 "metadata": {
  "kernelspec": {
   "display_name": "Python 3 (ipykernel)",
   "language": "python",
   "name": "python3"
  },
  "language_info": {
   "codemirror_mode": {
    "name": "ipython",
    "version": 3
   },
   "file_extension": ".py",
   "mimetype": "text/x-python",
   "name": "python",
   "nbconvert_exporter": "python",
   "pygments_lexer": "ipython3",
   "version": "3.10.9"
  }
 },
 "nbformat": 4,
 "nbformat_minor": 5
}
