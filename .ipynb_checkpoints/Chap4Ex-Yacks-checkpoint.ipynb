{
 "cells": [
  {
   "cell_type": "markdown",
   "id": "ceb5a8d8",
   "metadata": {},
   "source": [
    "# Chapter 4 Coding Exercises"
   ]
  },
  {
   "cell_type": "markdown",
   "id": "e005dfbf",
   "metadata": {},
   "source": [
    "## Algorithm Worthbench "
   ]
  },
  {
   "cell_type": "markdown",
   "id": "85670c90",
   "metadata": {},
   "source": [
    "Question 3: \n",
    "Write a loop the displays the following set of numbers: \n",
    "0, 10, 20, 30, 40, 50 ... 1000"
   ]
  },
  {
   "cell_type": "code",
   "execution_count": 1,
   "id": "4c52cb9e",
   "metadata": {},
   "outputs": [
    {
     "name": "stdout",
     "output_type": "stream",
     "text": [
      "0\n",
      "10\n",
      "20\n",
      "30\n",
      "40\n",
      "50\n",
      "60\n",
      "70\n",
      "80\n",
      "90\n",
      "100\n",
      "110\n",
      "120\n",
      "130\n",
      "140\n",
      "150\n",
      "160\n",
      "170\n",
      "180\n",
      "190\n",
      "200\n",
      "210\n",
      "220\n",
      "230\n",
      "240\n",
      "250\n",
      "260\n",
      "270\n",
      "280\n",
      "290\n",
      "300\n",
      "310\n",
      "320\n",
      "330\n",
      "340\n",
      "350\n",
      "360\n",
      "370\n",
      "380\n",
      "390\n",
      "400\n",
      "410\n",
      "420\n",
      "430\n",
      "440\n",
      "450\n",
      "460\n",
      "470\n",
      "480\n",
      "490\n",
      "500\n",
      "510\n",
      "520\n",
      "530\n",
      "540\n",
      "550\n",
      "560\n",
      "570\n",
      "580\n",
      "590\n",
      "600\n",
      "610\n",
      "620\n",
      "630\n",
      "640\n",
      "650\n",
      "660\n",
      "670\n",
      "680\n",
      "690\n",
      "700\n",
      "710\n",
      "720\n",
      "730\n",
      "740\n",
      "750\n",
      "760\n",
      "770\n",
      "780\n",
      "790\n",
      "800\n",
      "810\n",
      "820\n",
      "830\n",
      "840\n",
      "850\n",
      "860\n",
      "870\n",
      "880\n",
      "890\n",
      "900\n",
      "910\n",
      "920\n",
      "930\n",
      "940\n",
      "950\n",
      "960\n",
      "970\n",
      "980\n",
      "990\n",
      "1000\n"
     ]
    }
   ],
   "source": [
    "#Setting up Range for set of Numbers\n",
    "for num in range(0, 1001, 10):\n",
    "    #Displaying set of numbers \n",
    "    print(num)"
   ]
  },
  {
   "cell_type": "markdown",
   "id": "16e1e2d4",
   "metadata": {},
   "source": [
    "Question 2: Write a while loop that asks the user to enter two numbers. The numbers should be added and the sum displayed. The loop should ask the user if he or she wishes to preform the operation again. If so, the loop should repeat, otherwise it should termnate. "
   ]
  },
  {
   "cell_type": "code",
   "execution_count": 2,
   "id": "04713197",
   "metadata": {},
   "outputs": [
    {
     "name": "stdout",
     "output_type": "stream",
     "text": [
      "Enter First Number: 1\n",
      "Enter Second Number: 1\n",
      "2.0\n",
      "Do you wish to preform another calculation (Enter y for yes):n\n"
     ]
    }
   ],
   "source": [
    "#create a variable to control \n",
    "keep_going = 'y'\n",
    "\n",
    "#Ask user for numbers to enter into while loop \n",
    "while keep_going == 'y':\n",
    "    #Enter first number\n",
    "    first_num = float(input('Enter First Number: '))\n",
    "    #Enter second number \n",
    "    second_num = float(input('Enter Second Number: '))\n",
    "    \n",
    "    #Calculation (numbers should be added according to problem)\n",
    "    sum = first_num + second_num\n",
    "\n",
    "    #display the sum\n",
    "    print(sum)\n",
    "\n",
    "    # Ask if user would like to preform another calculation \n",
    "    keep_going = input('Do you wish to preform another ' + 'calculation (Enter y for yes):')"
   ]
  },
  {
   "cell_type": "markdown",
   "id": "5495e010",
   "metadata": {},
   "source": [
    "## Programming Exercises "
   ]
  },
  {
   "cell_type": "markdown",
   "id": "b9ee423f",
   "metadata": {},
   "source": [
    "Question 1: Bug Colector - a bug collector collects bugs every day for five days. Write a program that keeps a running total of the number of bugs collected during the five days. The loop should ask for the number of bugs collected each day, and when the loop is finished, the program should display the total number of bugs collected. "
   ]
  },
  {
   "cell_type": "code",
   "execution_count": 3,
   "id": "0ff5d8f6",
   "metadata": {},
   "outputs": [
    {
     "name": "stdout",
     "output_type": "stream",
     "text": [
      "Enter number of bugs collected on Day 1: 1\n",
      "Enter number of bugs collected on Day 2: 1\n",
      "Enter number of bugs collected on Day 3: 1\n",
      "Enter number of bugs collected on Day 4: 1\n",
      "Enter number of bugs collected on Day 5: 1\n",
      "5.0\n",
      "Do you wish to collect again next week?(Enter Y for Yes)n\n"
     ]
    }
   ],
   "source": [
    "#create variable to control \n",
    "keep_going = 'y'\n",
    "\n",
    "# Collect inputs and give meaning to y \n",
    "while keep_going == 'y':\n",
    "    #collect number of bugs on day 1 \n",
    "    day1 = float(input('Enter number of bugs collected on Day 1: '))\n",
    "    #collect number of bugs on day 2 \n",
    "    day2 = float(input('Enter number of bugs collected on Day 2: '))\n",
    "    #collect number of bugs on day 3 \n",
    "    day3 = float(input('Enter number of bugs collected on Day 3: '))\n",
    "    #collect number of bugs on day 4 \n",
    "    day4 = float(input('Enter number of bugs collected on Day 4: '))\n",
    "    #collect number of bugs on Day 5 \n",
    "    day5 = float(input('Enter number of bugs collected on Day 5: '))\n",
    "    \n",
    "    #Calculate the number of bugs collected \n",
    "    total_bugs = day1 + day2 + day3 + day4 + day5 \n",
    "    \n",
    "    #display total bugs \n",
    "    print(total_bugs)\n",
    "    \n",
    "    #ask if user would like to collect again \n",
    "    keep_going = input('Do you wish to collect ' + 'again next week?(Enter Y for Yes)')"
   ]
  },
  {
   "cell_type": "markdown",
   "id": "20c704c4",
   "metadata": {},
   "source": [
    "Question 4: Distance Traveled - The distance a vehicle travels can be calculated as follows: "
   ]
  },
  {
   "cell_type": "markdown",
   "id": "b48becb2",
   "metadata": {},
   "source": [
    "distance = speed * time "
   ]
  },
  {
   "cell_type": "markdown",
   "id": "52555ff0",
   "metadata": {},
   "source": [
    "For example, if a train travels 40 miles per hour for three hours, the distance traveled is 120 miles. Write a program that asks the user for the speed of a vehicle ( in miles per hour) and the number of hours it has traveled. It should then use a loop to display the distance the vehicle has traveled for each hour of the time period. "
   ]
  },
  {
   "cell_type": "code",
   "execution_count": 20,
   "id": "4331e491",
   "metadata": {
    "scrolled": true
   },
   "outputs": [
    {
     "name": "stdout",
     "output_type": "stream",
     "text": [
      "Enter Speed in MPH: 1\n",
      "Enter Time in Hours: 1\n",
      "1.0\n",
      "Do you wish to calculate again?(Enter y for Yes)m\n"
     ]
    }
   ],
   "source": [
    "#create variable to control loop \n",
    "keep_going = 'y'\n",
    "\n",
    "#collect inputs of speed and hours \n",
    "while keep_going == 'y':\n",
    "    #Collect speed in MPH \n",
    "    speed = float(input('Enter Speed in MPH: '))\n",
    "    #Collect time driving in hours \n",
    "    time = int(input('Enter Time in Hours: '))\n",
    "    \n",
    "    #Calculate distance with the equation distance = speed * time \n",
    "    distance = speed * time \n",
    "    \n",
    "    #Display distance \n",
    "    print(distance)\n",
    "         \n",
    "    #ask if user would like to calculate again\n",
    "    keep_going = input('Do you wish to calculate' + ' again?(Enter y for Yes)')\n",
    "    "
   ]
  },
  {
   "cell_type": "markdown",
   "id": "8514e45b",
   "metadata": {},
   "source": [
    "Question 12: Calculating the Factorial of a Number - Write a program that lets the user enter a nonnegative integer then uses a loop to calculate the factorial of that number. Display the factorial. \n"
   ]
  },
  {
   "cell_type": "code",
   "execution_count": 3,
   "id": "1ab8b778",
   "metadata": {},
   "outputs": [
    {
     "name": "stdout",
     "output_type": "stream",
     "text": [
      "Enter Nonnegative Number: 0\n",
      "The factorial of 0 is 1\n",
      "Do you wish to calculate again?(Enter y for Yes)y\n",
      "Enter Nonnegative Number: -5\n",
      "E - Must use Positive Number\n",
      "\n",
      "Do you wish to calculate again?(Enter y for Yes)n\n"
     ]
    }
   ],
   "source": [
    "#enter nonnegative number \n",
    "def main():\n",
    "    #get a nonnegative number from the user \n",
    "    number = int(input('Enter Nonnegative Number: '))\n",
    "    \n",
    "    #find factorial of the number \n",
    "    fact = factorial(number)\n",
    "    \n",
    "    #display factorial \n",
    "    if number < 0:\n",
    "        print('')\n",
    "    else:\n",
    "        print('The factorial of', number, 'is', fact)\n",
    "\n",
    "        \n",
    "#define factorial\n",
    "def factorial(num):\n",
    "    #create if-else statement\n",
    "    if num < 0: \n",
    "        print('E - Must use Positive Number') \n",
    "    elif num == 0: \n",
    "        return 1\n",
    "    else:\n",
    "        return num * factorial(num -1) \n",
    "        \n",
    "\n",
    "#create variable to control  \n",
    "keep_going = 'y'\n",
    "\n",
    "#collect inputs  \n",
    "while keep_going == 'y':\n",
    "    \n",
    "#Display distance \n",
    "    main()\n",
    "         \n",
    "    #ask if user would like to calculate again\n",
    "    keep_going = input('Do you wish to calculate' + ' again?(Enter y for Yes)')\n"
   ]
  },
  {
   "cell_type": "markdown",
   "id": "ea2efc2e",
   "metadata": {},
   "source": [
    "Question 15: Write a program that uses nested loops to draw the pattern listed in the book. "
   ]
  },
  {
   "cell_type": "code",
   "execution_count": 13,
   "id": "42d12c66",
   "metadata": {},
   "outputs": [
    {
     "name": "stdout",
     "output_type": "stream",
     "text": [
      "#\n",
      " #\n",
      "  #\n",
      "   #\n",
      "    #\n",
      "#\n",
      "#\n",
      "#\n"
     ]
    }
   ],
   "source": [
    "        \n",
    "#Display stair step pattern \n",
    "num_steps = 5\n",
    "\n",
    "for r in range(num_steps):\n",
    "    for c in range(r):\n",
    "        print(' ', end='')\n",
    "    print('#')\n",
    "    \n",
    "#Display colomn\n",
    "num_col = 3 \n",
    "\n",
    "for r in range(num_col):\n",
    "    for c in range(r):\n",
    "        print('#')\n"
   ]
  },
  {
   "cell_type": "code",
   "execution_count": null,
   "id": "552fa388",
   "metadata": {},
   "outputs": [],
   "source": []
  }
 ],
 "metadata": {
  "kernelspec": {
   "display_name": "Python 3 (ipykernel)",
   "language": "python",
   "name": "python3"
  },
  "language_info": {
   "codemirror_mode": {
    "name": "ipython",
    "version": 3
   },
   "file_extension": ".py",
   "mimetype": "text/x-python",
   "name": "python",
   "nbconvert_exporter": "python",
   "pygments_lexer": "ipython3",
   "version": "3.10.9"
  }
 },
 "nbformat": 4,
 "nbformat_minor": 5
}
