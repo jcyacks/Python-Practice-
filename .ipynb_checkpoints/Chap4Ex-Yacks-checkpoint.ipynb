{
 "cells": [
  {
   "cell_type": "markdown",
   "id": "6ba614cd",
   "metadata": {},
   "source": [
    "# Chapter 4 Coding Exercises"
   ]
  },
  {
   "cell_type": "markdown",
   "id": "13eccf2a",
   "metadata": {},
   "source": [
    "## Algorithm Worthbench "
   ]
  },
  {
   "cell_type": "markdown",
   "id": "898aac79",
   "metadata": {},
   "source": [
    "Question 3: Write a looop the displays the following set of numbers: \n",
    "0, 10, 20, 30, 40, 50 ... 1000"
   ]
  },
  {
   "cell_type": "markdown",
   "id": "04155a5c",
   "metadata": {},
   "source": []
  }
 ],
 "metadata": {
  "kernelspec": {
   "display_name": "Python 3 (ipykernel)",
   "language": "python",
   "name": "python3"
  },
  "language_info": {
   "codemirror_mode": {
    "name": "ipython",
    "version": 3
   },
   "file_extension": ".py",
   "mimetype": "text/x-python",
   "name": "python",
   "nbconvert_exporter": "python",
   "pygments_lexer": "ipython3",
   "version": "3.10.9"
  }
 },
 "nbformat": 4,
 "nbformat_minor": 5
}
