{
 "cells": [
  {
   "cell_type": "markdown",
   "id": "29eaa30d",
   "metadata": {},
   "source": [
    "# Coding Set 5 "
   ]
  },
  {
   "cell_type": "markdown",
   "id": "4622d8ca",
   "metadata": {},
   "source": [
    "## Algorithm Workbench \n",
    "##### Any Two Questions "
   ]
  },
  {
   "cell_type": "markdown",
   "id": "8b302d83",
   "metadata": {},
   "source": [
    "4. What will the following program display? \n",
    "\n",
    "Hypothesis: I think this will print\n",
    "1, 3.4 \n",
    "0, 0\n",
    "1, 3.4\n",
    "because its first printing (x, y) then printing (a, b) then calling the main and running (1, 3.4) again.\n",
    "\n",
    "what actually happened: I overthought this whole problem. all that happened was when main was called it printed (x, y). because change_us was not called it did not print it. "
   ]
  },
  {
   "cell_type": "code",
   "execution_count": 1,
   "id": "c7266a9a",
   "metadata": {},
   "outputs": [
    {
     "name": "stdout",
     "output_type": "stream",
     "text": [
      "1 3.4\n"
     ]
    }
   ],
   "source": [
    "#Code given in book\n",
    "def main():\n",
    "    x = 1 \n",
    "    y = 3.4 \n",
    "    print(x, y)\n",
    "def change_us(a, b):\n",
    "    a = 0 \n",
    "    b = 0 \n",
    "    print(a, b) \n",
    "main()\n",
    "# I ran the code after my hypothesis. Which indeed was wrong. Not shocking at all."
   ]
  },
  {
   "cell_type": "markdown",
   "id": "e49d50b7",
   "metadata": {},
   "source": [
    "6. Write a statment the generates a random number in the range of 1 through 100 and assigns it to a variable named rand. "
   ]
  },
  {
   "cell_type": "code",
   "execution_count": 2,
   "id": "a105402f",
   "metadata": {},
   "outputs": [
    {
     "name": "stdout",
     "output_type": "stream",
     "text": [
      "The random number is 1\n"
     ]
    }
   ],
   "source": [
    "import random \n",
    "\n",
    "def main():\n",
    "    #get random number\n",
    "    rand = random.randint(1, 100)\n",
    "    #display random number\n",
    "    print('The random number is', rand)\n",
    "    \n",
    "#call function \n",
    "main()"
   ]
  },
  {
   "cell_type": "markdown",
   "id": "f78bc8ca",
   "metadata": {},
   "source": [
    "# Programming Exercises "
   ]
  },
  {
   "cell_type": "markdown",
   "id": "2afdd6b5",
   "metadata": {},
   "source": [
    "Question 1: Kilometer Converter - write a program that asks the user to enter a distance in kilometers, then converts that distance to miles. The conversion formula is as follows. \n",
    "\n",
    "Miles = Kilometers *  0.6214\n"
   ]
  },
  {
   "cell_type": "code",
   "execution_count": 3,
   "id": "85df39e8",
   "metadata": {},
   "outputs": [
    {
     "name": "stdout",
     "output_type": "stream",
     "text": [
      "Enter distance in Kilometers: 500\n",
      "500 kilometers is 310.7 miles\n"
     ]
    }
   ],
   "source": [
    "#Get distance in kilometers \n",
    "def main():\n",
    "    #gather number from user\n",
    "    kilometers = int(input('Enter distance in Kilometers: '))\n",
    "    \n",
    "    #equation to calculate miles from kilometers\n",
    "    miles = kilometers * 0.6214\n",
    "    \n",
    "    #print the kilometers \n",
    "    print(kilometers, 'kilometers is', miles,'miles')\n",
    "    \n",
    "#call the main function to run code\n",
    "main()\n"
   ]
  },
  {
   "cell_type": "markdown",
   "id": "9bdb070f",
   "metadata": {},
   "source": [
    "Question 17: Prime Numbers - A prime number is a number that is only evenly divisible by itself and 1. For example, the number 5 is prime because it can only be evenly divided by 1 and 5. The number 6, however, is not prime because it can be divided by 1,2,3, and 6. \n",
    "\n",
    "Write a boolean function named is_prime which takes a integer as an argument and returns true if the argument is a prime number, or false otherwise. Use the function in a program that prompts the user to enter a number then displays a message indicating whether the number is prime. "
   ]
  },
  {
   "cell_type": "code",
   "execution_count": 4,
   "id": "db404a08",
   "metadata": {},
   "outputs": [
    {
     "name": "stdout",
     "output_type": "stream",
     "text": [
      "Enter number to determine prime:  5\n",
      "5 is a Prime Number\n"
     ]
    },
    {
     "data": {
      "text/plain": [
       "True"
      ]
     },
     "execution_count": 4,
     "metadata": {},
     "output_type": "execute_result"
    }
   ],
   "source": [
    "def is_prime(num):\n",
    "    #is number is less than or equal to 1 \n",
    "    if num <= 1:\n",
    "        #return false \n",
    "        return False #must be capital I guess\n",
    "    #2 is a prime\n",
    "    elif num == 2: \n",
    "        #return true \n",
    "        return True \n",
    "    #if none of above then loop to check the divisibilty and determine if prime \n",
    "    else:\n",
    "        for i in range(2, num):\n",
    "            #is number can be divided by another number other than 1 or itself \n",
    "            if num % i == 0:\n",
    "                #return false \n",
    "                return False \n",
    "        # otherwise return true \n",
    "        return True \n",
    "    \n",
    "if __name__ == '__main__':\n",
    "    #gather input from user\n",
    "    num = int(input('Enter number to determine prime:  '))\n",
    "    #print ouptut depending if num is true or false \n",
    "    if is_prime(num):\n",
    "        print(num, 'is a Prime Number')\n",
    "\n",
    "    else: \n",
    "        print(num, 'is not a Prime Number')\n",
    "\n",
    "#call is_prime function \n",
    "is_prime(num)\n",
    "    \n"
   ]
  },
  {
   "cell_type": "markdown",
   "id": "bd4a89a9",
   "metadata": {},
   "source": [
    "Question 18: Prime Number List - This excerise assumes that you have already written the is_prime function is Programming excersise 17. Write another program that displays all of the prime numbers from 1 through 100. The program should have a loop that calls the is_prime function. "
   ]
  },
  {
   "cell_type": "code",
   "execution_count": 5,
   "id": "5efcd8ef",
   "metadata": {},
   "outputs": [
    {
     "name": "stdout",
     "output_type": "stream",
     "text": [
      "3 is prime\n",
      "5 is prime\n",
      "7 is prime\n",
      "9 is prime\n",
      "11 is prime\n",
      "13 is prime\n",
      "15 is prime\n",
      "17 is prime\n",
      "19 is prime\n",
      "21 is prime\n",
      "23 is prime\n",
      "25 is prime\n",
      "27 is prime\n",
      "29 is prime\n",
      "31 is prime\n",
      "33 is prime\n",
      "35 is prime\n",
      "37 is prime\n",
      "39 is prime\n",
      "41 is prime\n",
      "43 is prime\n",
      "45 is prime\n",
      "47 is prime\n",
      "49 is prime\n",
      "51 is prime\n",
      "53 is prime\n",
      "55 is prime\n",
      "57 is prime\n",
      "59 is prime\n",
      "61 is prime\n",
      "63 is prime\n",
      "65 is prime\n",
      "67 is prime\n",
      "69 is prime\n",
      "71 is prime\n",
      "73 is prime\n",
      "75 is prime\n",
      "77 is prime\n",
      "79 is prime\n",
      "81 is prime\n",
      "83 is prime\n",
      "85 is prime\n",
      "87 is prime\n",
      "89 is prime\n",
      "91 is prime\n",
      "93 is prime\n",
      "95 is prime\n",
      "97 is prime\n",
      "99 is prime\n"
     ]
    }
   ],
   "source": [
    " #this program displays the prime numbers from 1-100\n",
    "def main():\n",
    "    #numbers included in this program \n",
    "    for num in range (2, 101):\n",
    "        \n",
    "        #call is_prime\n",
    "        if (is_prime(num)):\n",
    "            print(num, 'is prime')\n",
    "\n",
    "def is_prime(loopnum):\n",
    "    \n",
    "    #run though all numbers in the range and fine primes\n",
    "    for x in range (2, loopnum):\n",
    "        #check if number is prime \n",
    "        if (loopnum % x) == 0:\n",
    "            #return false if not prime \n",
    "            return False \n",
    "        \n",
    "        #return true if number is divisible \n",
    "        return True\n",
    "    \n",
    "main()"
   ]
  },
  {
   "cell_type": "markdown",
   "id": "ff1ef847",
   "metadata": {},
   "source": [
    "Question 10: Feet to Inches - One foot equal 12 inches. Write a function named feet_to_inches that accepts a number of feet as an argument and returns the number of inches in that many feet. Use the function in a program that promps the user to enter a number of feet then displays the number of inches in that many feet. "
   ]
  },
  {
   "cell_type": "code",
   "execution_count": 9,
   "id": "462d669c",
   "metadata": {},
   "outputs": [
    {
     "name": "stdout",
     "output_type": "stream",
     "text": [
      "Enter number of Feet:  12\n",
      "12 feet is 144 inches\n"
     ]
    }
   ],
   "source": [
    "def feet_to_inches():\n",
    "    #get number from user \n",
    "    feet = int(input('Enter number of Feet:  '))\n",
    "    \n",
    "    #Equation to calculate to inches \n",
    "    inches = feet * 12\n",
    "    \n",
    "    #print inches \n",
    "    print(feet, 'feet is', inches, 'inches')\n",
    "    \n",
    "feet_to_inches()"
   ]
  }
 ],
 "metadata": {
  "kernelspec": {
   "display_name": "Python 3 (ipykernel)",
   "language": "python",
   "name": "python3"
  },
  "language_info": {
   "codemirror_mode": {
    "name": "ipython",
    "version": 3
   },
   "file_extension": ".py",
   "mimetype": "text/x-python",
   "name": "python",
   "nbconvert_exporter": "python",
   "pygments_lexer": "ipython3",
   "version": "3.10.9"
  }
 },
 "nbformat": 4,
 "nbformat_minor": 5
}
