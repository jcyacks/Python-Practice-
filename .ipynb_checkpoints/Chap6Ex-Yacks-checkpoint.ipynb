{
 "cells": [
  {
   "cell_type": "markdown",
   "id": "f896a3c8",
   "metadata": {},
   "source": [
    "# Coding Set 6 "
   ]
  },
  {
   "cell_type": "markdown",
   "id": "2d31e121",
   "metadata": {},
   "source": [
    "### Algorithm Workbench "
   ]
  },
  {
   "cell_type": "markdown",
   "id": "ec255dea",
   "metadata": {},
   "source": [
    "Question 1: Write a program that opens an output file with the filename my_name.txt, writes your name to the file, then closes it "
   ]
  },
  {
   "cell_type": "code",
   "execution_count": 2,
   "id": "bd3a4913",
   "metadata": {},
   "outputs": [],
   "source": [
    "#Write program to write my name \n",
    "def main():\n",
    "    \n",
    "    #open the my_name file\n",
    "    my_file = open('my_name.txt', 'w')\n",
    "    \n",
    "    #Write my name \"Jaya Yacks\"\n",
    "    my_file.write('Jaya Yacks')\n",
    "    \n",
    "    #Close the my_name file\n",
    "    my_file.close()\n",
    "    \n",
    "#call the main to run program\n",
    "main()\n",
    "# Not sure if this is working or not, \n",
    "# is it supposed to display or just creat and save the file?\n"
   ]
  },
  {
   "cell_type": "markdown",
   "id": "cec93c02",
   "metadata": {},
   "source": [
    "Questioin 2: Write a program that opens the my_name.txt file that was created by the program in problem 1, reads your name from the file, displayed the name on the screen, then closes the file."
   ]
  },
  {
   "cell_type": "code",
   "execution_count": 11,
   "id": "69905f24",
   "metadata": {},
   "outputs": [
    {
     "name": "stdout",
     "output_type": "stream",
     "text": [
      "Jaya Yacks\n"
     ]
    }
   ],
   "source": [
    "#write program to write and display my_name\n",
    "def main():\n",
    "    \n",
    "    #Open file my_name\n",
    "    infile = open('my_name.txt', 'r')\n",
    "    \n",
    "    #read my_name file \n",
    "    my_name = infile.read()\n",
    "    \n",
    "    #display my_name\n",
    "    print( my_name)\n",
    "        # I used chatGBT for the above print function \n",
    "        #because I could not figure out why it was not printing \n",
    "    \n",
    "    #close the file \n",
    "    infile.close()\n",
    "    \n",
    "#call the main\n",
    "main()"
   ]
  },
  {
   "cell_type": "markdown",
   "id": "daf6f93f",
   "metadata": {},
   "source": [
    "### Programming Exercises"
   ]
  },
  {
   "cell_type": "markdown",
   "id": "1a5da41f",
   "metadata": {},
   "source": [
    "Question 1: File Display - assume a file containing a series of integers is named numbers.txt and exists on the computers disk. Write a program that displays all of the numbers in the file. "
   ]
  },
  {
   "cell_type": "code",
   "execution_count": 14,
   "id": "041e39b2",
   "metadata": {},
   "outputs": [
    {
     "ename": "SyntaxError",
     "evalue": "incomplete input (1493604592.py, line 4)",
     "output_type": "error",
     "traceback": [
      "\u001b[1;36m  Cell \u001b[1;32mIn[14], line 4\u001b[1;36m\u001b[0m\n\u001b[1;33m    \u001b[0m\n\u001b[1;37m    ^\u001b[0m\n\u001b[1;31mSyntaxError\u001b[0m\u001b[1;31m:\u001b[0m incomplete input\n"
     ]
    }
   ],
   "source": [
    "#program that displays number.txt file \n",
    "def main():\n",
    "    #open the file\n",
    "    integer_series = open('numbers.txt', 'r')\n",
    "    \n",
    "    #Read file \n",
    "    numbers = integer_series.read()\n",
    "    \n",
    "    #Close numbers.txt file \n",
    "    integer_series.close()\n",
    "    \n",
    "    list_values = numbers.split()\n",
    "    \n",
    "    list_length = len(list_values)\n",
    "    \n",
    "    "
   ]
  },
  {
   "cell_type": "markdown",
   "id": "c284cdc3",
   "metadata": {},
   "source": [
    "Question 6: Average of Numbers - Assume a file containing a series of integers is named numbers.txt andd exists on the computers disk. write a program that calculates the average of all numbers stored in the file.  "
   ]
  },
  {
   "cell_type": "code",
   "execution_count": null,
   "id": "0da21fed",
   "metadata": {},
   "outputs": [],
   "source": []
  },
  {
   "cell_type": "markdown",
   "id": "7da9d0e3",
   "metadata": {},
   "source": [
    "Question 9: Exception Handling - Modify the program that you wrote for exercise 6  so it handles the following exceptions: \n",
    "- it should handle any I0ERROR exceptions that are raised when the file is opened and data is read from it \n",
    "- it should handle any ValueError exceptions that are raised when the items that are read from the file are converted to a number."
   ]
  },
  {
   "cell_type": "code",
   "execution_count": null,
   "id": "94b48501",
   "metadata": {},
   "outputs": [],
   "source": []
  },
  {
   "cell_type": "markdown",
   "id": "725923ab",
   "metadata": {},
   "source": [
    "Question 3: Line Numbers - Write a program that asks the user for the name of a file. The program should display the contents of the file with each line preceded with a line number followed by a colon. The line numbering should start at 1."
   ]
  },
  {
   "cell_type": "code",
   "execution_count": null,
   "id": "452fc590",
   "metadata": {},
   "outputs": [],
   "source": []
  }
 ],
 "metadata": {
  "kernelspec": {
   "display_name": "Python 3 (ipykernel)",
   "language": "python",
   "name": "python3"
  },
  "language_info": {
   "codemirror_mode": {
    "name": "ipython",
    "version": 3
   },
   "file_extension": ".py",
   "mimetype": "text/x-python",
   "name": "python",
   "nbconvert_exporter": "python",
   "pygments_lexer": "ipython3",
   "version": "3.10.9"
  }
 },
 "nbformat": 4,
 "nbformat_minor": 5
}
