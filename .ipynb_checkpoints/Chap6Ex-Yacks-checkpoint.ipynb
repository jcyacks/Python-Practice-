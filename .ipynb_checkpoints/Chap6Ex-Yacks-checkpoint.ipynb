{
 "cells": [
  {
   "cell_type": "markdown",
   "id": "583207b4",
   "metadata": {},
   "source": [
    "# Coding Set 6 "
   ]
  },
  {
   "cell_type": "markdown",
   "id": "710b81d0",
   "metadata": {},
   "source": [
    "### Algorithm Workbench "
   ]
  },
  {
   "cell_type": "markdown",
   "id": "2045d5fe",
   "metadata": {},
   "source": [
    "Question 1: Write a program that opens an output file with the filename my_name.txt, writes your name to the file, then closes it "
   ]
  },
  {
   "cell_type": "code",
   "execution_count": 1,
   "id": "705934ef",
   "metadata": {},
   "outputs": [],
   "source": [
    "#Write program to write my name \n",
    "def main():\n",
    "    #open the my_name file\n",
    "    my_file = open('my_name.txt', 'w')\n",
    "    #Write my name \"Jaya Yacks\"\n",
    "    my_file.write('Jaya Yacks')\n",
    "    #Close the my_name file\n",
    "    my_file.close()\n",
    "    \n",
    "#call the main to run program\n",
    "main()\n",
    "#not sure why this is not running "
   ]
  },
  {
   "cell_type": "markdown",
   "id": "c9920eb5",
   "metadata": {},
   "source": [
    "Questioin 2: Write a program that opens the my_name.txt file that was created by the program in problem 1, reads your name from the file, displayed the name on the screen, then closes the file."
   ]
  },
  {
   "cell_type": "code",
   "execution_count": null,
   "id": "25762d42",
   "metadata": {},
   "outputs": [],
   "source": []
  },
  {
   "cell_type": "markdown",
   "id": "265d6038",
   "metadata": {},
   "source": [
    "### Programming Exercises"
   ]
  },
  {
   "cell_type": "markdown",
   "id": "2c773694",
   "metadata": {},
   "source": [
    "Question 1: File Display - assume a file containing a series of integers is named nubers.txt and ezists on the computers disk. Write a program that displays all of the numbers in the file. "
   ]
  },
  {
   "cell_type": "code",
   "execution_count": null,
   "id": "93d856d3",
   "metadata": {},
   "outputs": [],
   "source": []
  },
  {
   "cell_type": "markdown",
   "id": "cbe5bfb4",
   "metadata": {},
   "source": [
    "Question 6: Average of Numbers - Assume a file containing a series of integers is named numbers.txt andd exists on the computers disk. write a program that calculates the average of all numbers stored in the file.  "
   ]
  },
  {
   "cell_type": "code",
   "execution_count": null,
   "id": "fb831a55",
   "metadata": {},
   "outputs": [],
   "source": []
  },
  {
   "cell_type": "markdown",
   "id": "d6ca0234",
   "metadata": {},
   "source": [
    "Question 9: Exception Handling - Modify the program that you wrote for exercise 6  so it handles the following exceptions: \n",
    "- it should handle any I0ERROR exceptions that are raised when the file is opened and data is read from it \n",
    "- it should handle any ValueError exceptions that are raised when the items that are read from the file are converted to a number."
   ]
  },
  {
   "cell_type": "code",
   "execution_count": null,
   "id": "b80d6368",
   "metadata": {},
   "outputs": [],
   "source": []
  },
  {
   "cell_type": "markdown",
   "id": "ffb6f5dd",
   "metadata": {},
   "source": [
    "Question 3: Line Numbers - Write a program that asks the user for the name of a file. The program should display the contents of the file with each line preceded with a line number followed by a colon. The line numbering should start at 1."
   ]
  },
  {
   "cell_type": "code",
   "execution_count": null,
   "id": "5f1468a1",
   "metadata": {},
   "outputs": [],
   "source": []
  }
 ],
 "metadata": {
  "kernelspec": {
   "display_name": "Python 3 (ipykernel)",
   "language": "python",
   "name": "python3"
  },
  "language_info": {
   "codemirror_mode": {
    "name": "ipython",
    "version": 3
   },
   "file_extension": ".py",
   "mimetype": "text/x-python",
   "name": "python",
   "nbconvert_exporter": "python",
   "pygments_lexer": "ipython3",
   "version": "3.10.9"
  }
 },
 "nbformat": 4,
 "nbformat_minor": 5
}
