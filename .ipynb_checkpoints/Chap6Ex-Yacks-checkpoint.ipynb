{
 "cells": [
  {
   "cell_type": "markdown",
   "id": "7cfb05c5",
   "metadata": {},
   "source": [
    "# Coding Set 6 "
   ]
  },
  {
   "cell_type": "markdown",
   "id": "e0d79082",
   "metadata": {},
   "source": [
    "### Algorithm Workbench "
   ]
  },
  {
   "cell_type": "markdown",
   "id": "90b7a3d9",
   "metadata": {},
   "source": [
    "Question 1: Write a program that opens an output file with the filename my_name.txt, writes your name to the file, then closes it "
   ]
  },
  {
   "cell_type": "code",
   "execution_count": 2,
   "id": "83bbf106",
   "metadata": {},
   "outputs": [],
   "source": [
    "#Write program to write my name \n",
    "def main():\n",
    "    \n",
    "    #open the my_name file\n",
    "    my_file = open('my_name.txt', 'w')\n",
    "    \n",
    "    #Write my name \"Jaya Yacks\"\n",
    "    my_file.write('Jaya Yacks')\n",
    "    \n",
    "    #Close the my_name file\n",
    "    my_file.close()\n",
    "    \n",
    "#call the main to run program\n",
    "main()\n",
    "# Not sure if this is working or not, \n",
    "# is it supposed to display or just creat and save the file?\n"
   ]
  },
  {
   "cell_type": "markdown",
   "id": "d2733db2",
   "metadata": {},
   "source": [
    "Questioin 2: Write a program that opens the my_name.txt file that was created by the program in problem 1, reads your name from the file, displayed the name on the screen, then closes the file."
   ]
  },
  {
   "cell_type": "code",
   "execution_count": 11,
   "id": "abc990cb",
   "metadata": {},
   "outputs": [
    {
     "name": "stdout",
     "output_type": "stream",
     "text": [
      "Jaya Yacks\n"
     ]
    }
   ],
   "source": [
    "#write program to write and display my_name\n",
    "def main():\n",
    "    \n",
    "    #Open file my_name\n",
    "    infile = open('my_name.txt', 'r')\n",
    "    \n",
    "    #read my_name file \n",
    "    my_name = infile.read()\n",
    "    \n",
    "    #display my_name\n",
    "    print( my_name)\n",
    "        # I used chatGBT for the above print function \n",
    "        #because I could not figure out why it was not printing \n",
    "    \n",
    "    #close the file \n",
    "    infile.close()\n",
    "    \n",
    "#call the main\n",
    "main()"
   ]
  },
  {
   "cell_type": "markdown",
   "id": "9387f2a6",
   "metadata": {},
   "source": [
    "### Programming Exercises"
   ]
  },
  {
   "cell_type": "markdown",
   "id": "1a4f5b50",
   "metadata": {},
   "source": [
    "Question 1: File Display - assume a file containing a series of integers is named numbers.txt and exists on the computers disk. Write a program that displays all of the numbers in the file. "
   ]
  },
  {
   "cell_type": "code",
   "execution_count": 16,
   "id": "ce7e0b56",
   "metadata": {},
   "outputs": [
    {
     "name": "stdout",
     "output_type": "stream",
     "text": [
      "File was created successfully\n"
     ]
    }
   ],
   "source": [
    "#Create the file to solve this problem\n",
    "def main():\n",
    "    #list of numbers\n",
    "    numbers = [1, 5, 10, 15, 20, 25] \n",
    "    \n",
    "    #open the integer_num file \n",
    "    integer_num = open('numbers.txt', 'w')\n",
    "    \n",
    "    #write the numbers to the file \n",
    "    integer_num.write(str(numbers) + '/n')\n",
    "    \n",
    "    #print if completed \n",
    "    print('File was created successfully')\n",
    "    \n",
    "main()"
   ]
  },
  {
   "cell_type": "code",
   "execution_count": 19,
   "id": "598a2f49",
   "metadata": {},
   "outputs": [
    {
     "name": "stdout",
     "output_type": "stream",
     "text": [
      "[1, 5, 10, 15, 20, 25]/n\n"
     ]
    },
    {
     "ename": "TypeError",
     "evalue": "TextIOWrapper.close() takes no arguments (1 given)",
     "output_type": "error",
     "traceback": [
      "\u001b[1;31m---------------------------------------------------------------------------\u001b[0m",
      "\u001b[1;31mTypeError\u001b[0m                                 Traceback (most recent call last)",
      "Cell \u001b[1;32mIn[19], line 16\u001b[0m\n\u001b[0;32m     13\u001b[0m     integer_series\u001b[38;5;241m.\u001b[39mclose(number_file\u001b[38;5;241m.\u001b[39mstrip())\n\u001b[0;32m     15\u001b[0m \u001b[38;5;66;03m#call the main to run program\u001b[39;00m\n\u001b[1;32m---> 16\u001b[0m \u001b[43mmain\u001b[49m\u001b[43m(\u001b[49m\u001b[43m)\u001b[49m\n",
      "Cell \u001b[1;32mIn[19], line 13\u001b[0m, in \u001b[0;36mmain\u001b[1;34m()\u001b[0m\n\u001b[0;32m     10\u001b[0m \u001b[38;5;28mprint\u001b[39m(number_file)\n\u001b[0;32m     12\u001b[0m \u001b[38;5;66;03m#Close numbers.txt file \u001b[39;00m\n\u001b[1;32m---> 13\u001b[0m \u001b[43minteger_series\u001b[49m\u001b[38;5;241;43m.\u001b[39;49m\u001b[43mclose\u001b[49m\u001b[43m(\u001b[49m\u001b[43mnumber_file\u001b[49m\u001b[38;5;241;43m.\u001b[39;49m\u001b[43mstrip\u001b[49m\u001b[43m(\u001b[49m\u001b[43m)\u001b[49m\u001b[43m)\u001b[49m\n",
      "\u001b[1;31mTypeError\u001b[0m: TextIOWrapper.close() takes no arguments (1 given)"
     ]
    }
   ],
   "source": [
    "#program that displays number.txt file \n",
    "def main():\n",
    "    #open the file\n",
    "    integer_series = open('numbers.txt', 'r')\n",
    "    \n",
    "    #Read file \n",
    "    number_file = integer_series.read()\n",
    "    \n",
    "    #print integers \n",
    "    print(number_file)\n",
    "    \n",
    "    #Close numbers.txt file \n",
    "    integer_series.close\n",
    "    \n",
    "#call the main to run program\n",
    "main()\n",
    "   \n",
    "    \n",
    "    \n",
    "    "
   ]
  },
  {
   "cell_type": "markdown",
   "id": "7676c46c",
   "metadata": {},
   "source": [
    "Question 6: Average of Numbers - Assume a file containing a series of integers is named numbers.txt andd exists on the computers disk. write a program that calculates the average of all numbers stored in the file.  "
   ]
  },
  {
   "cell_type": "code",
   "execution_count": null,
   "id": "4f30bb4f",
   "metadata": {},
   "outputs": [],
   "source": []
  },
  {
   "cell_type": "markdown",
   "id": "63f1574f",
   "metadata": {},
   "source": [
    "Question 9: Exception Handling - Modify the program that you wrote for exercise 6  so it handles the following exceptions: \n",
    "- it should handle any I0ERROR exceptions that are raised when the file is opened and data is read from it \n",
    "- it should handle any ValueError exceptions that are raised when the items that are read from the file are converted to a number."
   ]
  },
  {
   "cell_type": "code",
   "execution_count": null,
   "id": "f46c0a57",
   "metadata": {},
   "outputs": [],
   "source": []
  },
  {
   "cell_type": "markdown",
   "id": "4f7e8a6c",
   "metadata": {},
   "source": [
    "Question 3: Line Numbers - Write a program that asks the user for the name of a file. The program should display the contents of the file with each line preceded with a line number followed by a colon. The line numbering should start at 1."
   ]
  },
  {
   "cell_type": "code",
   "execution_count": null,
   "id": "4cc1927d",
   "metadata": {},
   "outputs": [],
   "source": []
  }
 ],
 "metadata": {
  "kernelspec": {
   "display_name": "Python 3 (ipykernel)",
   "language": "python",
   "name": "python3"
  },
  "language_info": {
   "codemirror_mode": {
    "name": "ipython",
    "version": 3
   },
   "file_extension": ".py",
   "mimetype": "text/x-python",
   "name": "python",
   "nbconvert_exporter": "python",
   "pygments_lexer": "ipython3",
   "version": "3.10.9"
  }
 },
 "nbformat": 4,
 "nbformat_minor": 5
}
