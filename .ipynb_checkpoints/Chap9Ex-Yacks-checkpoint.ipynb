{
 "cells": [
  {
   "cell_type": "markdown",
   "id": "1a38e629",
   "metadata": {},
   "source": [
    "# Chapter 9 Coding Work "
   ]
  },
  {
   "cell_type": "markdown",
   "id": "33dc27fd",
   "metadata": {},
   "source": [
    "### Programming Excercises (Choose One) \n"
   ]
  },
  {
   "cell_type": "markdown",
   "id": "99445395",
   "metadata": {},
   "source": [
    "Question 2: Capital Quiz - Write a program that creates a dictionary containing the U.S. states as keys and and their capitals as values ( Use the internet to get a list of the states and their capitals). The program should then randomly quiz the user by displaying the name of a state and asking the user to enter that states capital. "
   ]
  },
  {
   "cell_type": "code",
   "execution_count": 4,
   "id": "058ca439",
   "metadata": {
    "scrolled": false
   },
   "outputs": [
    {
     "ename": "NameError",
     "evalue": "name 'capital_dict' is not defined",
     "output_type": "error",
     "traceback": [
      "\u001b[1;31m---------------------------------------------------------------------------\u001b[0m",
      "\u001b[1;31mNameError\u001b[0m                                 Traceback (most recent call last)",
      "Cell \u001b[1;32mIn[4], line 73\u001b[0m\n\u001b[0;32m     70\u001b[0m         \u001b[38;5;28;01melse\u001b[39;00m: \n\u001b[0;32m     71\u001b[0m             \u001b[38;5;28mprint\u001b[39m(\u001b[38;5;124m'\u001b[39m\u001b[38;5;124mWrong!\u001b[39m\u001b[38;5;124m'\u001b[39m)\n\u001b[1;32m---> 73\u001b[0m capital_quiz(\u001b[43mcapital_dict\u001b[49m)\n",
      "\u001b[1;31mNameError\u001b[0m: name 'capital_dict' is not defined"
     ]
    }
   ],
   "source": [
    "#defining the main function \n",
    "def main():\n",
    "    #Creating the dictionary to add the states and capitals into \n",
    "    capital_dict = {\n",
    "        #Entered the states as the kay and the capitals as the values\n",
    "        'Alabama':'Montgomery', \n",
    "        'Alaska':'Juneau', \n",
    "        'Arizona':'Phoenix', \n",
    "        'Arkansas':'Little Rock',\n",
    "        'California':'Sacramento',\n",
    "        'Colorado':'Denver',\n",
    "        'Connecticut':'Hartford',\n",
    "        'Delaware':'Dover',\n",
    "        'Florida':'Tallahassee',\n",
    "        'Georgia':'Atlanta',\n",
    "        'Hawaii':'Honolulu',\n",
    "        'Idaho':'Boise',\n",
    "        'Illinois':'Springfield',\n",
    "        'Indiana':'Indianapolis',\n",
    "        'Iowa':'Des Moines',\n",
    "        'Kansas':'Topeka',\n",
    "        'Kentucky':'Fankfort',\n",
    "        'Louisiana':'Baton Rouge',\n",
    "        'Maine':'Augusta',\n",
    "        'Maryland':'Annapolis',\n",
    "        'Massachusetts':'Boston',\n",
    "        'Michigan':'Lansing',\n",
    "        'Minnesota':'Saint Paul',\n",
    "        'Mississippi':'Jackson',\n",
    "        'Missouri':'Jefferson City',\n",
    "        'Montana':'Helena',\n",
    "        'Nebraska':'Lincoln',\n",
    "        'Neveda':'Carson City',\n",
    "        'New Hampshire':'Concord',\n",
    "        'New Jersey':'Trenton',\n",
    "        'New Mexico':'Santa Fe',\n",
    "        'New York':'Albany',\n",
    "        'North Carolina':'Raleigh',\n",
    "        'North Dakota':'Bismarck',\n",
    "        'Ohio':'Columbus',\n",
    "        'Oklahoma':'Oklahoma City',\n",
    "        'Oregon':'Salem',\n",
    "        'Pennsylvania':'Harrisburg',\n",
    "        'Rhode Island':'Providence',\n",
    "        'South Carolina':'Columbia',\n",
    "        'South Dakota':'Pierre',\n",
    "        'Tennessee':'Nashville',\n",
    "        'Texas':'Austin',\n",
    "        'Utah':'Salt Lake City',\n",
    "        'Vermont':'Montpelier',\n",
    "        'Virginia':'Richmond',\n",
    "        'Washington':'Olympia',\n",
    "        'West Virginia':'Charleston',\n",
    "        'Wisconsin':'Madison',\n",
    "        'Wyoming':'Cheyenne'}\n",
    "    #completeing the main function\n",
    "    return capital_dict \n",
    "main()\n",
    "\n",
    "def capital_quiz(capital_dict):\n",
    "    states = list(capital_dict.keys())\n",
    "    \n",
    "    for state in states:\n",
    "        capital_name = input('What is the capital city of', state, '?')\n",
    "        correct_capitalcity = capital_dict(state)\n",
    "        \n",
    "        if capital_name == correct_capitalcity:\n",
    "            print('Correct!')\n",
    "            \n",
    "        else: \n",
    "            print('Wrong!')\n",
    "\n",
    "capital_quiz(capital_dict)"
   ]
  },
  {
   "cell_type": "code",
   "execution_count": null,
   "id": "3cd7c887",
   "metadata": {},
   "outputs": [],
   "source": []
  }
 ],
 "metadata": {
  "kernelspec": {
   "display_name": "Python 3 (ipykernel)",
   "language": "python",
   "name": "python3"
  },
  "language_info": {
   "codemirror_mode": {
    "name": "ipython",
    "version": 3
   },
   "file_extension": ".py",
   "mimetype": "text/x-python",
   "name": "python",
   "nbconvert_exporter": "python",
   "pygments_lexer": "ipython3",
   "version": "3.10.9"
  }
 },
 "nbformat": 4,
 "nbformat_minor": 5
}
