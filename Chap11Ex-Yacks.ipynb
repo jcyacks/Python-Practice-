{
 "cells": [
  {
   "cell_type": "markdown",
   "id": "2de4e72c",
   "metadata": {},
   "source": [
    "# Chapter 11 Coding Set \n",
    "### Choose Two Questions from Chapter 11 Programming Exercises"
   ]
  },
  {
   "cell_type": "markdown",
   "id": "a733fd44",
   "metadata": {},
   "source": [
    "Question 1: Employee and ProductionWorker Classes - Write an Employee class that keeps data attributes for the following pieces of information. \n",
    "- Employee Name \n",
    "- Employee Number \n",
    "\n",
    "Next write a class named ProductionWorker that is a subclass of the employee class. The ProductionWorker class should keep data attributes for the following information: \n",
    "- Shift number (an integer, such as 1,2 or 3) \n",
    "- Hourly Pay Rate \n",
    "\n",
    "The work is divided into two shifts: day and night. The shift attribute will hold an integer value representing the shift that the employee works. The day shift is shift 1 and the night shift is shift 2. Write the appropriate accessor and mutator methods for each class. \n",
    "Once you have written the classes, write a program that creates an object's data attributes. Store the data in the object's accessor methods to retrieve it and display it on the screen. "
   ]
  },
  {
   "cell_type": "code",
   "execution_count": 1,
   "id": "e1417c04",
   "metadata": {},
   "outputs": [],
   "source": [
    "#employee class\n",
    "class Employee:\n",
    "    #define the init \n",
    "    def __init__(self, name, number):\n",
    "        #employee name \n",
    "        self.employname = name \n",
    "        #employee number \n",
    "        self.employnumb = number \n",
    "    \n",
    "    #set employee name \n",
    "    #mutator method \n",
    "    def set_name(self, name):\n",
    "        self.employname = name \n",
    "        \n",
    "    #self employee number\n",
    "    #mutator method \n",
    "    def set_number(self, number):\n",
    "        self.employnumb = number \n",
    "        \n",
    "    #get the employee name from the self.employname\n",
    "    #accessor method \n",
    "    def get_name(self):\n",
    "        return self.employname\n",
    "    \n",
    "    #set number from self.employnumb\n",
    "    #accessor method \n",
    "    def get_number(self):\n",
    "        return self.employnumb"
   ]
  },
  {
   "cell_type": "code",
   "execution_count": 2,
   "id": "727c6b31",
   "metadata": {},
   "outputs": [],
   "source": [
    "#I used this come to test my employee class\n",
    "employee = Employee('Jay', '101')"
   ]
  },
  {
   "cell_type": "code",
   "execution_count": 3,
   "id": "df90685c",
   "metadata": {},
   "outputs": [
    {
     "data": {
      "text/plain": [
       "'101'"
      ]
     },
     "execution_count": 3,
     "metadata": {},
     "output_type": "execute_result"
    }
   ],
   "source": [
    "#I used this code to tet my employee class\n",
    "employee.get_number()"
   ]
  },
  {
   "cell_type": "code",
   "execution_count": 4,
   "id": "f7eb80bb",
   "metadata": {},
   "outputs": [],
   "source": [
    "#make production workers class \n",
    "class ProductionWorker(Employee):\n",
    "    #define the init\n",
    "    def __init__(self, name, number, shift, pay):\n",
    "        #call the parent class __init__ method \n",
    "        super().__init__(name,number)\n",
    "        \n",
    "        #shift number is under the production workers class\n",
    "        self.shiftnumb = shift\n",
    "        #payrate is under the proction workers class\n",
    "        self.payrate = pay\n",
    "        \n",
    "    #define the shiftnumber \n",
    "    #mutator method\n",
    "    def set_shiftnumb(self, shift):\n",
    "        if shift == 1 or shift == 2:\n",
    "            self.shiftnumb = shift\n",
    "        else:\n",
    "            print('Invalid Shift Number. Must be 1 or 2')\n",
    "        \n",
    "    #define the pay rate \n",
    "    #mutator method\n",
    "    def set_payrate(self, pay):\n",
    "        self.payrate = pay\n",
    "        \n",
    "        \n",
    "    #get the shift \n",
    "    #accessor method\n",
    "    def get_shift(self):\n",
    "        return self.shiftnumb\n",
    "        \n",
    "    #get the payrate\n",
    "    #accessor method \n",
    "    def get_pay(self):\n",
    "        return self.payrate"
   ]
  },
  {
   "cell_type": "code",
   "execution_count": 5,
   "id": "91eae29a",
   "metadata": {},
   "outputs": [],
   "source": [
    "#commented out this code so it will not interfere with my main function \n",
    "#I used the commented code below to test my class\n",
    "#ProductionWorker = ProductionWorker('Maximus', '656', '2', '15.00')"
   ]
  },
  {
   "cell_type": "code",
   "execution_count": 6,
   "id": "3ff426fc",
   "metadata": {},
   "outputs": [],
   "source": [
    "#commented out this code so it will not interfere with my main function \n",
    "#I used the commented code below to test my class\n",
    "#ProductionWorker.get_shift()"
   ]
  },
  {
   "cell_type": "code",
   "execution_count": 7,
   "id": "01df15e1",
   "metadata": {},
   "outputs": [
    {
     "name": "stdout",
     "output_type": "stream",
     "text": [
      "Employee Name: Maximus\n",
      "Employee Number: 14\n",
      "Employee Shift: 1\n",
      "Employee Pay: 16.0\n"
     ]
    }
   ],
   "source": [
    "#define the main fuction to run the code using the classes employee\n",
    "#and class PorductionWorker\n",
    "def main():\n",
    "    # create an employee \n",
    "    Worker1 = ProductionWorker('Maximus','14',1,16.00)\n",
    "    \n",
    "    #print employee1 information \n",
    "    print('Employee Name:',Worker1.get_name())\n",
    "    print('Employee Number:', Worker1.get_number())\n",
    "    print('Employee Shift:', Worker1.get_shift())\n",
    "    print('Employee Pay:', Worker1.get_pay())\n",
    "    \n",
    "main()\n",
    "    "
   ]
  },
  {
   "cell_type": "markdown",
   "id": "6353eeb4",
   "metadata": {},
   "source": [
    "Question 2: Shift Supervisor Class - In a particular factory, a shift supervisor is a salaried employee who supervises a shift. In addition to a salary, the shift supervisor earns a yearly bonus when his or her shift meets production goals. Write a ShiftSupervisor class that is a subclass of the Employee class you greates in Programming Excersise 1. The ShiftSupervisor class should keep a data attribute for the annual salary, and a data attribute for the annual production bonus that a shift supervisor has earned. Demonstrate the class by writing a program that uses a ShfitSupervisor object. "
   ]
  },
  {
   "cell_type": "code",
   "execution_count": 8,
   "id": "b8bd146a",
   "metadata": {},
   "outputs": [],
   "source": [
    "#create shift supervisor class\n",
    "class ShiftSupervisor(Employee):\n",
    "    #create __init__ for shift supervisor \n",
    "    def __init__(self,name, number, salary, bonus):\n",
    "        #bring down innit from employee class \n",
    "        super().__init__(name, number)\n",
    "        #salary under the shift supervisor class\n",
    "        self.annualsalary = salary\n",
    "        #bonus under the shift supervisor class \n",
    "        self.annualbonus = bonus\n",
    "    \n",
    "    #mutator method \n",
    "    def set_salary(self):\n",
    "        self.set_salary = salary\n",
    "        \n",
    "    #mutator method \n",
    "    def set_bonus(self):\n",
    "        self.annualbonus = bonus\n",
    "        \n",
    "    #accessor method \n",
    "    def get_salary(self):\n",
    "        return  self.annualsalary  \n",
    "    \n",
    "    #accessor methof \n",
    "    def get_bonus(self):\n",
    "        return self.annualbonus \n",
    "        \n",
    "    "
   ]
  },
  {
   "cell_type": "code",
   "execution_count": 9,
   "id": "2de228fe",
   "metadata": {},
   "outputs": [
    {
     "name": "stdout",
     "output_type": "stream",
     "text": [
      "Supervisors Name: GOAT\n",
      "Supervisors Employee Number: 7\n",
      "Supervisors Salary: 200000\n",
      "Supervisors Bonus: 56541\n"
     ]
    }
   ],
   "source": [
    "#define a main function to run code for shift supervisor class \n",
    "def main():\n",
    "    #create a shift supervisor \n",
    "    TheBestSupervisor = ShiftSupervisor('GOAT','7', 200000, 56541)\n",
    "    \n",
    "    #print the supervisors information \n",
    "    print('Supervisors Name:', TheBestSupervisor.get_name())\n",
    "    print('Supervisors Employee Number:', TheBestSupervisor.get_number())\n",
    "    print('Supervisors Salary:', TheBestSupervisor.get_salary())\n",
    "    print('Supervisors Bonus:', TheBestSupervisor.get_bonus())\n",
    "    \n",
    "main()"
   ]
  },
  {
   "cell_type": "code",
   "execution_count": null,
   "id": "2a2f2f36",
   "metadata": {},
   "outputs": [],
   "source": []
  }
 ],
 "metadata": {
  "kernelspec": {
   "display_name": "Python 3 (ipykernel)",
   "language": "python",
   "name": "python3"
  },
  "language_info": {
   "codemirror_mode": {
    "name": "ipython",
    "version": 3
   },
   "file_extension": ".py",
   "mimetype": "text/x-python",
   "name": "python",
   "nbconvert_exporter": "python",
   "pygments_lexer": "ipython3",
   "version": "3.10.9"
  }
 },
 "nbformat": 4,
 "nbformat_minor": 5
}
