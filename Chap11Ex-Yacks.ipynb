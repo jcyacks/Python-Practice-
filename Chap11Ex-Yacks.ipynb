{
 "cells": [
  {
   "cell_type": "markdown",
   "id": "156aeb95",
   "metadata": {},
   "source": [
    "# Chapter 11 Coding Set \n",
    "### Choose Two Questions from Chapter 11 Programming Exercises"
   ]
  },
  {
   "cell_type": "markdown",
   "id": "a8c32639",
   "metadata": {},
   "source": [
    "Question 1: Employee and ProductionWorker Classes - Write an Employee class that keeps data attributes for the following pieces of information. \n",
    "- Employee Name \n",
    "- Employee Number \n",
    "Next write a class named ProductionWorker that is a subclass of the employee class. The ProductionWorker class should keep data attributes for the following information: \n",
    "- Shift number (an integer, such as 1,2 or 3) \n",
    "- Hourly Pay Rate \n",
    "The workdat is divided into two shifts: day and night. The shift attribute will hold an integer value representing the shift that the employee works. The day shift is shift 1 and the night shift is shift 2. Write the appropriate accessor and mutator methods for each class. \n",
    "Once you have written the classes, write a program that creates an object's data attributes. Store the data in the object's accessor methods to retrieve it and display it on the screen. "
   ]
  },
  {
   "cell_type": "code",
   "execution_count": null,
   "id": "0766c518",
   "metadata": {},
   "outputs": [],
   "source": []
  },
  {
   "cell_type": "markdown",
   "id": "d5ab56ba",
   "metadata": {},
   "source": [
    "Question 2: Shift Supervisor Class - In a particular factory, a shift supervisor is a salaried employee who supervises a shift. In addition to a salary, the shift supervisor earns a yearly bonus when his or her shift meets production goals. Write a ShiftSupervisor class that is a subclass of the Employee class you greates in Programming Excersise 1. The ShiftSupervisor class should keep a data attribute for the annual salary, and a data attribute for the annual production bonus that a shift supervisor has earned. Demonstrate the class by writing a program that uses a ShfitSupervisor object. "
   ]
  },
  {
   "cell_type": "code",
   "execution_count": null,
   "id": "4c1ea6ff",
   "metadata": {},
   "outputs": [],
   "source": []
  }
 ],
 "metadata": {
  "kernelspec": {
   "display_name": "Python 3 (ipykernel)",
   "language": "python",
   "name": "python3"
  },
  "language_info": {
   "codemirror_mode": {
    "name": "ipython",
    "version": 3
   },
   "file_extension": ".py",
   "mimetype": "text/x-python",
   "name": "python",
   "nbconvert_exporter": "python",
   "pygments_lexer": "ipython3",
   "version": "3.10.9"
  }
 },
 "nbformat": 4,
 "nbformat_minor": 5
}
