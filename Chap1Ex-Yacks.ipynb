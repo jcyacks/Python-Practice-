{
 "cells": [
  {
   "cell_type": "markdown",
   "id": "ce5ac91a",
   "metadata": {},
   "source": [
    "# Chapter 1 Excersices \n",
    "\n",
    "Problems 1, 3, 4"
   ]
  },
  {
   "cell_type": "markdown",
   "id": "87f0c5aa",
   "metadata": {},
   "source": [
    "## Ex 1. "
   ]
  },
  {
   "cell_type": "markdown",
   "id": "cfb7c43a",
   "metadata": {},
   "source": [
    "To make sure that you can interact with the Python interpreter, try the following steps on your computer: \n",
    "- Start the Python interpreter in interactive Mofe \n",
    "- At the >>> promp, type the following statement then press Enter:"
   ]
  },
  {
   "cell_type": "code",
   "execution_count": 1,
   "id": "ce6b4633",
   "metadata": {},
   "outputs": [
    {
     "name": "stdout",
     "output_type": "stream",
     "text": [
      "This is a test of the Python Interpreter\n"
     ]
    }
   ],
   "source": [
    "# Demostrating the print function\n",
    "print('This is a test of the Python Interpreter')"
   ]
  },
  {
   "cell_type": "code",
   "execution_count": 2,
   "id": "9ec5839b",
   "metadata": {},
   "outputs": [
    {
     "name": "stdout",
     "output_type": "stream",
     "text": [
      "Will this work: 10\n"
     ]
    }
   ],
   "source": [
    "# Demostrating the print function\n",
    "print('Will this work:',10)"
   ]
  },
  {
   "cell_type": "code",
   "execution_count": 3,
   "id": "f1a56cb1",
   "metadata": {},
   "outputs": [
    {
     "ename": "SyntaxError",
     "evalue": "incomplete input (351437078.py, line 2)",
     "output_type": "error",
     "traceback": [
      "\u001b[1;36m  Cell \u001b[1;32mIn[3], line 2\u001b[1;36m\u001b[0m\n\u001b[1;33m    print('Will this face show up, 😁'\u001b[0m\n\u001b[1;37m                                     ^\u001b[0m\n\u001b[1;31mSyntaxError\u001b[0m\u001b[1;31m:\u001b[0m incomplete input\n"
     ]
    }
   ],
   "source": [
    "# Demonstrating the sad invalid outcome of the print function\n",
    "print('Will this face show up, 😁'"
   ]
  },
  {
   "cell_type": "code",
   "execution_count": 4,
   "id": "f5a2bb3a",
   "metadata": {},
   "outputs": [
    {
     "name": "stdout",
     "output_type": "stream",
     "text": [
      "No smiley face for you\n"
     ]
    }
   ],
   "source": [
    "# Demonstrating my emotions of the outcome above \n",
    "print('No smiley face for you')"
   ]
  },
  {
   "cell_type": "markdown",
   "id": "baf2bb0d",
   "metadata": {},
   "source": [
    "## Ex 3. "
   ]
  },
  {
   "cell_type": "markdown",
   "id": "c79b994b",
   "metadata": {},
   "source": [
    "Use what you have learned about the binary numbering system in this chapter to convert the following decimal numbers to binary: \n",
    "- 11\n",
    "- 65\n",
    "- 100\n",
    "- 255 \n"
   ]
  },
  {
   "cell_type": "code",
   "execution_count": 5,
   "id": "d4d149fc",
   "metadata": {},
   "outputs": [
    {
     "name": "stdout",
     "output_type": "stream",
     "text": [
      "1101\n"
     ]
    }
   ],
   "source": [
    "# Answer to 11\n",
    "print('1101')\n",
    "# Explanation: 1+2+8 = 11 \n",
    "# all I did was look at the chart to see which numbers added to 11 and then put them in their coresponding positions"
   ]
  },
  {
   "cell_type": "code",
   "execution_count": 6,
   "id": "b1760bbe",
   "metadata": {
    "scrolled": true
   },
   "outputs": [
    {
     "name": "stdout",
     "output_type": "stream",
     "text": [
      "1000001\n"
     ]
    }
   ],
   "source": [
    "# Answer to 65\n",
    "print('1000001')\n",
    "# Explanation: 1+0+0+0+0+0+64 = 65 \n",
    "# all I did was look at the chart to see which numbers added to 65 and then put them in their coresponding positions"
   ]
  },
  {
   "cell_type": "code",
   "execution_count": 7,
   "id": "d842b7a5",
   "metadata": {},
   "outputs": [
    {
     "name": "stdout",
     "output_type": "stream",
     "text": [
      "0b1100100\n"
     ]
    }
   ],
   "source": [
    "# Answer to 100\n",
    "print(bin(100))\n",
    "# Explanation: this one was kind of confusing so I just used the bin(100) function. I beleive the number before is the remainder when dividing. \n"
   ]
  },
  {
   "cell_type": "code",
   "execution_count": 8,
   "id": "d1c1cfc7",
   "metadata": {},
   "outputs": [
    {
     "name": "stdout",
     "output_type": "stream",
     "text": [
      "11111111\n"
     ]
    }
   ],
   "source": [
    "# Answer to 255\n",
    "print('11111111')\n",
    "# Explanation: 1+2+4+8+46+32+64+128 = 255 \n",
    "# all I did was look at the chart to see which numbers added to 255 and then put them in their \n",
    "# coresponding positions which so happened to be all of them becuase 255 is the largest number you can make"
   ]
  },
  {
   "cell_type": "markdown",
   "id": "2052cb88",
   "metadata": {},
   "source": [
    "## Ex. 4 "
   ]
  },
  {
   "cell_type": "markdown",
   "id": "627c5a8f",
   "metadata": {},
   "source": [
    "Use what you've learned about the binary numbering system in this chapter to convert the following binary numbers to decimals: \n",
    "- 1101\n",
    "- 1000 \n",
    "- 101011\n"
   ]
  },
  {
   "cell_type": "code",
   "execution_count": 9,
   "id": "a1ceb68f",
   "metadata": {},
   "outputs": [
    {
     "name": "stdout",
     "output_type": "stream",
     "text": [
      "13\n"
     ]
    }
   ],
   "source": [
    "# Answer to 1101\n",
    "print('13')\n",
    "# Explanation: 8+4+0+1 = 13"
   ]
  },
  {
   "cell_type": "code",
   "execution_count": 10,
   "id": "0cab5bc2",
   "metadata": {},
   "outputs": [
    {
     "name": "stdout",
     "output_type": "stream",
     "text": [
      "8\n"
     ]
    }
   ],
   "source": [
    "# Answer to 1000\n",
    "print('8')\n",
    "# Explanation: 8+0+0+0 = 8"
   ]
  },
  {
   "cell_type": "code",
   "execution_count": 11,
   "id": "a4bdda11",
   "metadata": {},
   "outputs": [
    {
     "name": "stdout",
     "output_type": "stream",
     "text": [
      "43\n"
     ]
    }
   ],
   "source": [
    "# Answer to 101011\n",
    "print('43')\n",
    "# Explanation: 32+0+8+0+2+1 = 43"
   ]
  }
 ],
 "metadata": {
  "kernelspec": {
   "display_name": "Python 3 (ipykernel)",
   "language": "python",
   "name": "python3"
  },
  "language_info": {
   "codemirror_mode": {
    "name": "ipython",
    "version": 3
   },
   "file_extension": ".py",
   "mimetype": "text/x-python",
   "name": "python",
   "nbconvert_exporter": "python",
   "pygments_lexer": "ipython3",
   "version": "3.10.9"
  }
 },
 "nbformat": 4,
 "nbformat_minor": 5
}
