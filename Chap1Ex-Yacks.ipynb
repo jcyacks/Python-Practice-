{
 "cells": [
  {
   "cell_type": "markdown",
   "id": "ce5ac91a",
   "metadata": {},
   "source": [
    "# Chapter 1 Excersices \n",
    "\n",
    "Problems 1, 3, 4"
   ]
  },
  {
   "cell_type": "markdown",
   "id": "87f0c5aa",
   "metadata": {},
   "source": [
    "## Ex 1. "
   ]
  },
  {
   "cell_type": "markdown",
   "id": "cfb7c43a",
   "metadata": {},
   "source": [
    "To make sure that you can interact with the Python interpreter, try the following steps on your computer: \n",
    "- Start the Python interpreter in interactive Mofe \n",
    "- At the >>> promp, type the following statement then press Enter:"
   ]
  },
  {
   "cell_type": "code",
   "execution_count": 1,
   "id": "ce6b4633",
   "metadata": {},
   "outputs": [
    {
     "name": "stdout",
     "output_type": "stream",
     "text": [
      "This is a test of the Python Interpreter\n"
     ]
    }
   ],
   "source": [
    "# Demostrating the print function\n",
    "print('This is a test of the Python Interpreter')"
   ]
  },
  {
   "cell_type": "code",
   "execution_count": 2,
   "id": "9ec5839b",
   "metadata": {},
   "outputs": [
    {
     "name": "stdout",
     "output_type": "stream",
     "text": [
      "Will this work: 10\n"
     ]
    }
   ],
   "source": [
    "# Demostrating the print function\n",
    "print('Will this work:',10)"
   ]
  },
  {
   "cell_type": "code",
   "execution_count": 3,
   "id": "fcd976c2",
   "metadata": {},
   "outputs": [
    {
     "ename": "SyntaxError",
     "evalue": "invalid character '😁' (U+1F601) (2929562488.py, line 2)",
     "output_type": "error",
     "traceback": [
      "\u001b[1;36m  Cell \u001b[1;32mIn[3], line 2\u001b[1;36m\u001b[0m\n\u001b[1;33m    print('Will this face show up?',😁)\u001b[0m\n\u001b[1;37m                                    ^\u001b[0m\n\u001b[1;31mSyntaxError\u001b[0m\u001b[1;31m:\u001b[0m invalid character '😁' (U+1F601)\n"
     ]
    }
   ],
   "source": [
    "# Demonstrating the sad invalid outcome of the print function\n",
    "print('Will this face show up?',😁)"
   ]
  },
  {
   "cell_type": "code",
   "execution_count": 4,
   "id": "ea5717ca",
   "metadata": {},
   "outputs": [
    {
     "name": "stdout",
     "output_type": "stream",
     "text": [
      "No smiley face for you\n"
     ]
    }
   ],
   "source": [
    "# Demonstrating my emotions of the outcome above \n",
    "print('No smiley face for you')"
   ]
  },
  {
   "cell_type": "markdown",
   "id": "1c48f59d",
   "metadata": {},
   "source": [
    "## Ex 3. "
   ]
  },
  {
   "cell_type": "markdown",
   "id": "b38ed58b",
   "metadata": {},
   "source": [
    "Use what you have learned about the binary numbering system in this chapter to convert the following decimal numbers to binary: \n",
    "- 11\n",
    "- 65\n",
    "- 100\n",
    "- 255 \n"
   ]
  },
  {
   "cell_type": "code",
   "execution_count": 5,
   "id": "84252e11",
   "metadata": {},
   "outputs": [
    {
     "name": "stdout",
     "output_type": "stream",
     "text": [
      "1101\n"
     ]
    }
   ],
   "source": [
    "# Answer to 11\n",
    "print('1101')"
   ]
  },
  {
   "cell_type": "code",
   "execution_count": 6,
   "id": "b3ecc618",
   "metadata": {},
   "outputs": [
    {
     "name": "stdout",
     "output_type": "stream",
     "text": [
      "1000001\n"
     ]
    }
   ],
   "source": [
    "# Answer to 65\n",
    "print('1000001')"
   ]
  },
  {
   "cell_type": "code",
   "execution_count": 7,
   "id": "619e0016",
   "metadata": {},
   "outputs": [
    {
     "name": "stdout",
     "output_type": "stream",
     "text": [
      "001011\n"
     ]
    }
   ],
   "source": [
    "# Answer to 100\n",
    "print('001011')"
   ]
  },
  {
   "cell_type": "code",
   "execution_count": 8,
   "id": "896dda79",
   "metadata": {},
   "outputs": [
    {
     "name": "stdout",
     "output_type": "stream",
     "text": [
      "01011111\n"
     ]
    }
   ],
   "source": [
    "# Answer to 255\n",
    "print('01011111')"
   ]
  },
  {
   "cell_type": "markdown",
   "id": "56931186",
   "metadata": {},
   "source": [
    "## Ex. 4 "
   ]
  },
  {
   "cell_type": "markdown",
   "id": "3a632e3e",
   "metadata": {},
   "source": [
    "Use what you've learned about the binary numbering system in this chapter to convert the following binary numbers to decimals: \n",
    "- 1101\n",
    "- 1000 \n",
    "- 101011\n"
   ]
  },
  {
   "cell_type": "code",
   "execution_count": 9,
   "id": "65dc9d39",
   "metadata": {},
   "outputs": [
    {
     "name": "stdout",
     "output_type": "stream",
     "text": [
      "19\n"
     ]
    }
   ],
   "source": [
    "# Answer to 1101\n",
    "print('19')"
   ]
  },
  {
   "cell_type": "code",
   "execution_count": 10,
   "id": "ec160b6e",
   "metadata": {},
   "outputs": [
    {
     "name": "stdout",
     "output_type": "stream",
     "text": [
      "1\n"
     ]
    }
   ],
   "source": [
    "# Answer to 1000\n",
    "print('1')"
   ]
  },
  {
   "cell_type": "code",
   "execution_count": 11,
   "id": "e68a5e94",
   "metadata": {},
   "outputs": [
    {
     "name": "stdout",
     "output_type": "stream",
     "text": [
      "34\n"
     ]
    }
   ],
   "source": [
    "# Answer to 101011\n",
    "print('34')"
   ]
  }
 ],
 "metadata": {
  "kernelspec": {
   "display_name": "Python 3 (ipykernel)",
   "language": "python",
   "name": "python3"
  },
  "language_info": {
   "codemirror_mode": {
    "name": "ipython",
    "version": 3
   },
   "file_extension": ".py",
   "mimetype": "text/x-python",
   "name": "python",
   "nbconvert_exporter": "python",
   "pygments_lexer": "ipython3",
   "version": "3.10.9"
  }
 },
 "nbformat": 4,
 "nbformat_minor": 5
}
