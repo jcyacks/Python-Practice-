{
 "cells": [
  {
   "cell_type": "markdown",
   "id": "ce5ac91a",
   "metadata": {},
   "source": [
    "# Chapter 1 Excersices \n",
    "\n",
    "Problems 1, 3, 5"
   ]
  },
  {
   "cell_type": "markdown",
   "id": "87f0c5aa",
   "metadata": {},
   "source": [
    "## Ex 1. "
   ]
  },
  {
   "cell_type": "markdown",
   "id": "cfb7c43a",
   "metadata": {},
   "source": [
    "To make sure that you can interact with the Python interpreter, try the following steps on your computer: \n",
    "- Start the Python interpreter in interactive Mofe \n",
    "- At the >>> promp, type the following statement then press Enter:"
   ]
  },
  {
   "cell_type": "code",
   "execution_count": 1,
   "id": "ce6b4633",
   "metadata": {},
   "outputs": [
    {
     "name": "stdout",
     "output_type": "stream",
     "text": [
      "This is a test of the Python Interpreter\n"
     ]
    }
   ],
   "source": [
    "print('This is a test of the Python Interpreter')"
   ]
  },
  {
   "cell_type": "code",
   "execution_count": 2,
   "id": "9ec5839b",
   "metadata": {},
   "outputs": [
    {
     "name": "stdout",
     "output_type": "stream",
     "text": [
      "Will this work: 10\n"
     ]
    }
   ],
   "source": [
    "print('Will this work:',10)"
   ]
  },
  {
   "cell_type": "code",
   "execution_count": 3,
   "id": "9f054b8b",
   "metadata": {},
   "outputs": [
    {
     "ename": "SyntaxError",
     "evalue": "invalid character '😁' (U+1F601) (2084574163.py, line 1)",
     "output_type": "error",
     "traceback": [
      "\u001b[1;36m  Cell \u001b[1;32mIn[3], line 1\u001b[1;36m\u001b[0m\n\u001b[1;33m    print('Will this face show up?',😁)\u001b[0m\n\u001b[1;37m                                    ^\u001b[0m\n\u001b[1;31mSyntaxError\u001b[0m\u001b[1;31m:\u001b[0m invalid character '😁' (U+1F601)\n"
     ]
    }
   ],
   "source": [
    "print('Will this face show up?',😁)"
   ]
  },
  {
   "cell_type": "code",
   "execution_count": 4,
   "id": "6ed56703",
   "metadata": {},
   "outputs": [
    {
     "name": "stdout",
     "output_type": "stream",
     "text": [
      "No smiley face for you\n"
     ]
    }
   ],
   "source": [
    "print('No smiley face for you')"
   ]
  },
  {
   "cell_type": "markdown",
   "id": "7f3bf8fe",
   "metadata": {},
   "source": [
    "## Ex 3. "
   ]
  },
  {
   "cell_type": "markdown",
   "id": "eb7b4ae1",
   "metadata": {},
   "source": [
    "Use what you have learned about the binary numbering system in this chapter to convert the following decimal numbers to binary: \n",
    "- 11\n",
    "- 65\n",
    "- 100\n",
    "- 255 \n"
   ]
  },
  {
   "cell_type": "markdown",
   "id": "ebbf0762",
   "metadata": {},
   "source": []
  }
 ],
 "metadata": {
  "kernelspec": {
   "display_name": "Python 3 (ipykernel)",
   "language": "python",
   "name": "python3"
  },
  "language_info": {
   "codemirror_mode": {
    "name": "ipython",
    "version": 3
   },
   "file_extension": ".py",
   "mimetype": "text/x-python",
   "name": "python",
   "nbconvert_exporter": "python",
   "pygments_lexer": "ipython3",
   "version": "3.10.9"
  }
 },
 "nbformat": 4,
 "nbformat_minor": 5
}
