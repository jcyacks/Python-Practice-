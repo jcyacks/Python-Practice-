{
 "cells": [
  {
   "cell_type": "markdown",
   "id": "30d3b1e3",
   "metadata": {},
   "source": [
    "# Chapter 3 Coding Excercises"
   ]
  },
  {
   "cell_type": "markdown",
   "id": "c12cbbd2",
   "metadata": {},
   "source": [
    "## Algorithm Worthbench"
   ]
  },
  {
   "cell_type": "markdown",
   "id": "aac0da46",
   "metadata": {},
   "source": [
    "Question 4:The following Code contains several nested if-else statements. Unfortunately, it was written without proper alignment and indentation. Rewrite the code and use the proper concenventions of alignment and indentation. \n",
    "\n",
    "if score >= A_score:\n",
    "\n",
    "print( 'your grade is A.') \n",
    "\n",
    "else :\n",
    "\n",
    "if score >= B_score:\n",
    "\n",
    "print( 'your grade is B.') \n",
    "\n",
    "else:\n",
    "\n",
    "if score >= C_score:\n",
    "\n",
    "print( 'your grade is C.') \n",
    "\n",
    "else:\n",
    "\n",
    "if score >= D_score:\n",
    "\n",
    "print( 'your grade is D.') \n",
    "\n",
    "else:\n",
    "\n",
    "if score >= F_score:\n",
    "\n",
    "print( 'your grade is F.')\n"
   ]
  },
  {
   "cell_type": "code",
   "execution_count": 1,
   "id": "d04fb69f",
   "metadata": {},
   "outputs": [
    {
     "ename": "NameError",
     "evalue": "name 'score' is not defined",
     "output_type": "error",
     "traceback": [
      "\u001b[1;31m---------------------------------------------------------------------------\u001b[0m",
      "\u001b[1;31mNameError\u001b[0m                                 Traceback (most recent call last)",
      "Cell \u001b[1;32mIn[1], line 2\u001b[0m\n\u001b[0;32m      1\u001b[0m \u001b[38;5;66;03m# Correcting broken code above\u001b[39;00m\n\u001b[1;32m----> 2\u001b[0m \u001b[38;5;28;01mif\u001b[39;00m \u001b[43mscore\u001b[49m \u001b[38;5;241m>\u001b[39m\u001b[38;5;241m=\u001b[39m A_score: \n\u001b[0;32m      3\u001b[0m     \u001b[38;5;28mprint\u001b[39m(\u001b[38;5;124m'\u001b[39m\u001b[38;5;124mYour grade is A.\u001b[39m\u001b[38;5;124m'\u001b[39m)\n\u001b[0;32m      4\u001b[0m \u001b[38;5;28;01melse\u001b[39;00m: \n",
      "\u001b[1;31mNameError\u001b[0m: name 'score' is not defined"
     ]
    }
   ],
   "source": [
    "# Correcting broken code above\n",
    "if score >= A_score: \n",
    "    print('Your grade is A.')\n",
    "else: \n",
    "    if score >= B_score: \n",
    "        print('Your grade is B.')\n",
    "    else: \n",
    "        if score >= C_score: \n",
    "            print('Your grade is C.')\n",
    "        else: \n",
    "            if score >= D_score: \n",
    "                print('Your grade is D.')\n",
    "            else: \n",
    "                if score >= F_score: \n",
    "                    print('Your grade is F.')\n"
   ]
  },
  {
   "cell_type": "markdown",
   "id": "a8bbea29",
   "metadata": {},
   "source": [
    "Question 5: Write nested decision structures that preform the following: If amount1 is greater than 10 and amount2 is less than 100, display the greater of amount1 and amount2. "
   ]
  },
  {
   "cell_type": "code",
   "execution_count": null,
   "id": "655a0cce",
   "metadata": {},
   "outputs": [],
   "source": [
    "## acknowledgment of Amount1\n",
    "amount1 = float(input('Enter Amount1:'))"
   ]
  },
  {
   "cell_type": "code",
   "execution_count": null,
   "id": "7b73d178",
   "metadata": {},
   "outputs": [],
   "source": [
    "## acknowledgment of Amount2\n",
    "amount2 = float(input('Enter Amount2:'))"
   ]
  },
  {
   "cell_type": "code",
   "execution_count": null,
   "id": "8d454c9c",
   "metadata": {},
   "outputs": [],
   "source": [
    "if amount1 > 10 and amount2 < 100:\n",
    "    if amount1 > amount2:\n",
    "        print(amount1)\n",
    "    else: \n",
    "        print(amount2)\n",
    "else:\n",
    "    print('Error')"
   ]
  },
  {
   "cell_type": "markdown",
   "id": "5d1f9391",
   "metadata": {},
   "source": [
    "## Programming Exercises"
   ]
  },
  {
   "cell_type": "markdown",
   "id": "96318fb6",
   "metadata": {},
   "source": [
    "Question 1: Day of the Week- Write a program that asks the user for a number in the range of 1 through 7. The program should display the corresponding day of the week, where 1 = monday, 2 = Tuesday, etc. The program should display an error message if the user enters a number that is outside the range of 1 through 7. "
   ]
  },
  {
   "cell_type": "code",
   "execution_count": null,
   "id": "ac8f0dd6",
   "metadata": {},
   "outputs": [],
   "source": [
    "#named days to represent days of week to numbers\n",
    "Monday = 1 \n",
    "Tuesday = 2 \n",
    "Wednesday = 3 \n",
    "Thursday = 4 \n",
    "Friday = 5 \n",
    "Saturday = 6 \n",
    "Sunday = 7 \n",
    "\n",
    "#Receive number from user \n",
    "number = float(input('Enter a number of the week, between 1 & 7:'))"
   ]
  },
  {
   "cell_type": "code",
   "execution_count": null,
   "id": "4ccc04bb",
   "metadata": {},
   "outputs": [],
   "source": [
    "# Determine the output \n",
    "if number == 1:\n",
    "    print('Monday')\n",
    "else:\n",
    "    if number == 2:\n",
    "        print('Tuesday')\n",
    "    else: \n",
    "        if number == 3:\n",
    "            print('Wednesday')\n",
    "        else:\n",
    "            if number == 4:\n",
    "                print('Thursday')\n",
    "            else:\n",
    "                if number == 5: \n",
    "                    print('Friday')\n",
    "                else: \n",
    "                    if number == 6: \n",
    "                        print('Saturday')\n",
    "                    else:\n",
    "                        if number == 7: \n",
    "                            print('Sunday')\n",
    "                        else: \n",
    "                            print('Error')\n",
    "#I had to dodge a few bullets in this code. First off I forgot the \":\" \n",
    "# after the if statement, that effects the outcome, and I also forgot to use \"==\" instead I used \"=\"\n",
    "# it gave me an invalid outcome until those were fixed. "
   ]
  },
  {
   "cell_type": "markdown",
   "id": "30b606d8",
   "metadata": {},
   "source": [
    "Question 5: Mass and Weight - scientists measure an pbjects mass in kilograms and its weight in newtons. If you know the amount of mass of an object in kilograms, you can calculate its weight in newtons with the following formula. \n",
    "\n",
    "weight = mass X 9.8 \n",
    "\n",
    "Write a program that asks the user to enter an objects mass, then calculates its weight. If the object weights more than 500 kilograms, display a message indicating that it is too heavy. If the object weights less than 100 newtons, display a message indicating that it is too light. "
   ]
  },
  {
   "cell_type": "code",
   "execution_count": 4,
   "id": "90b5918a",
   "metadata": {},
   "outputs": [
    {
     "name": "stdout",
     "output_type": "stream",
     "text": [
      "Enter Object Mass in Kilograms:496\n"
     ]
    }
   ],
   "source": [
    "#user enters\n",
    "mass = float(input('Enter Object Mass in Kilograms:'))"
   ]
  },
  {
   "cell_type": "code",
   "execution_count": 5,
   "id": "f480ff67",
   "metadata": {},
   "outputs": [
    {
     "name": "stdout",
     "output_type": "stream",
     "text": [
      "496.0\n"
     ]
    }
   ],
   "source": [
    "#if-else statement for object being too heavy/light\n",
    "if mass > 500: \n",
    "    print('Object is too heavy')\n",
    "else:\n",
    "    if mass < 100:\n",
    "        print('Object is too light')\n",
    "    else: \n",
    "        print(mass)"
   ]
  },
  {
   "cell_type": "code",
   "execution_count": 6,
   "id": "87c2c1e7",
   "metadata": {},
   "outputs": [
    {
     "name": "stdout",
     "output_type": "stream",
     "text": [
      "4860.8\n"
     ]
    }
   ],
   "source": [
    "#converting kilograms to newtons\n",
    "weight = (mass*9.8)\n",
    "print(weight)"
   ]
  },
  {
   "cell_type": "markdown",
   "id": "a0728b34",
   "metadata": {},
   "source": [
    "Question 15: Time Calculator - Write a program that asks the user to enter a number of seconds and works as follow: \n",
    "\n",
    "- There are 60 seconds in a minute. If the number of seconds entered is greater than or equal to 60, the program should convert the number of seconds to minutes and secconds. \n",
    "\n",
    "- there are 3600 seconds in an hour. If the number of seconds entered by the user is greater than or equal to 3600, the program should convert the seconds to hours, minutes, seconds \n",
    "\n",
    "- there are 86400 seconds in a day. If the number of seconds is greater than or equal to 86400 the program should convert the seconds into days, hours, minutes, seconds "
   ]
  },
  {
   "cell_type": "code",
   "execution_count": 7,
   "id": "4286d8af",
   "metadata": {},
   "outputs": [
    {
     "name": "stdout",
     "output_type": "stream",
     "text": [
      "Enter Number of Seconds:105465\n"
     ]
    }
   ],
   "source": [
    "#User enters Number of Seconds\n",
    "seconds = float(input('Enter Number of Seconds:'))"
   ]
  },
  {
   "cell_type": "code",
   "execution_count": 8,
   "id": "0c7c2fee",
   "metadata": {},
   "outputs": [
    {
     "ename": "NameError",
     "evalue": "name 'second' is not defined",
     "output_type": "error",
     "traceback": [
      "\u001b[1;31m---------------------------------------------------------------------------\u001b[0m",
      "\u001b[1;31mNameError\u001b[0m                                 Traceback (most recent call last)",
      "Cell \u001b[1;32mIn[8], line 8\u001b[0m\n\u001b[0;32m      6\u001b[0m     \u001b[38;5;28mprint\u001b[39m(\u001b[38;5;124m'\u001b[39m\u001b[38;5;124mSeconds: \u001b[39m\u001b[38;5;124m'\u001b[39m, seconds)\n\u001b[0;32m      7\u001b[0m  \u001b[38;5;66;03m#Convert Seconds into hours \u001b[39;00m\n\u001b[1;32m----> 8\u001b[0m \u001b[38;5;28;01melif\u001b[39;00m seconds \u001b[38;5;241m>\u001b[39m\u001b[38;5;241m=\u001b[39m \u001b[38;5;241m3600\u001b[39m \u001b[38;5;129;01mand\u001b[39;00m \u001b[43msecond\u001b[49m \u001b[38;5;241m<\u001b[39m \u001b[38;5;241m86400\u001b[39m:\n\u001b[0;32m      9\u001b[0m     hours \u001b[38;5;241m=\u001b[39m seconds \u001b[38;5;241m/\u001b[39m\u001b[38;5;241m/\u001b[39m \u001b[38;5;241m3600\u001b[39m \n\u001b[0;32m     10\u001b[0m     seconds \u001b[38;5;241m=\u001b[39m seconds \u001b[38;5;241m%\u001b[39m \u001b[38;5;241m3600\u001b[39m\n",
      "\u001b[1;31mNameError\u001b[0m: name 'second' is not defined"
     ]
    }
   ],
   "source": [
    "# Convert seconds to minutes \n",
    "if seconds >= 60 and seconds <= 3600:\n",
    "    minutes = seconds // 60 \n",
    "    seconds = seconds % 60 \n",
    "    print('Minutes: ', minutes)\n",
    "    print('Seconds: ', seconds)\n",
    " #Convert Seconds into hours \n",
    "elif seconds >= 3600 and second < 86400:\n",
    "    hours = seconds // 3600 \n",
    "    seconds = seconds % 3600\n",
    "    minutes = seconds // 60 \n",
    "    seconds = seconds % 60\n",
    "    print('Hours: ', hours)\n",
    "    print('Minutes: ', minutes)\n",
    "    print('Seconds: ', seconds)\n",
    "#convert seconds into days \n",
    "elif seconds >= 86400:\n",
    "    days = seconds / 86400 \n",
    "    seconds = seconds % 86400\n",
    "    hours = seconds // 3600 \n",
    "    seconds = seconds % 3600\n",
    "    minutes = seconds // 60\n",
    "    minutes = seconds % 60\n",
    "    print('Days: ', days)\n",
    "    print('Hours: ', hours)\n",
    "    print('Minutes: ', minutes)\n",
    "    print('Seconds: ', seconds)"
   ]
  },
  {
   "cell_type": "markdown",
   "id": "41ad625d",
   "metadata": {},
   "source": [
    "Questions 16: February Days - The month of February normally has 28 days. but if it is leap year, February has 29 days. Write a program that asks the user to enter a year. The program should then display the number of days in February that year. Use the following criteria to indentify leap years: \n",
    "\n",
    "- Determine whether the year is divisible by 100. If it is, then it is a leap year if and only if it also disivible by 400. For example 2000 is a leap year but 2010 is not. \n",
    "\n",
    "- If the year is not divisible by 100, then it is a leap year if and only if it is divisible by 4 . for example 2008 is a leap year, but 2009 is not "
   ]
  },
  {
   "cell_type": "code",
   "execution_count": null,
   "id": "349fd2b2",
   "metadata": {},
   "outputs": [],
   "source": []
  },
  {
   "cell_type": "code",
   "execution_count": null,
   "id": "fd0a17e0",
   "metadata": {},
   "outputs": [],
   "source": []
  }
 ],
 "metadata": {
  "kernelspec": {
   "display_name": "Python 3 (ipykernel)",
   "language": "python",
   "name": "python3"
  },
  "language_info": {
   "codemirror_mode": {
    "name": "ipython",
    "version": 3
   },
   "file_extension": ".py",
   "mimetype": "text/x-python",
   "name": "python",
   "nbconvert_exporter": "python",
   "pygments_lexer": "ipython3",
   "version": "3.10.9"
  }
 },
 "nbformat": 4,
 "nbformat_minor": 5
}
