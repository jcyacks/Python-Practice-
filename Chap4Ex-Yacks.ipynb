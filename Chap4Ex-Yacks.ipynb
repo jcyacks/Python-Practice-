{
 "cells": [
  {
   "cell_type": "markdown",
   "id": "c204c974",
   "metadata": {},
   "source": [
    "# Chapter 4 Coding Exercises"
   ]
  },
  {
   "cell_type": "markdown",
   "id": "a427d11f",
   "metadata": {},
   "source": [
    "## Algorithm Worthbench "
   ]
  },
  {
   "cell_type": "markdown",
   "id": "34ec0634",
   "metadata": {},
   "source": [
    "Question 3: \n",
    "Write a loop the displays the following set of numbers: \n",
    "0, 10, 20, 30, 40, 50 ... 1000"
   ]
  },
  {
   "cell_type": "code",
   "execution_count": 5,
   "id": "5e88581d",
   "metadata": {},
   "outputs": [
    {
     "ename": "IndentationError",
     "evalue": "expected an indented block after 'for' statement on line 2 (1869071219.py, line 3)",
     "output_type": "error",
     "traceback": [
      "\u001b[1;36m  Cell \u001b[1;32mIn[5], line 3\u001b[1;36m\u001b[0m\n\u001b[1;33m    print(num)\u001b[0m\n\u001b[1;37m    ^\u001b[0m\n\u001b[1;31mIndentationError\u001b[0m\u001b[1;31m:\u001b[0m expected an indented block after 'for' statement on line 2\n"
     ]
    }
   ],
   "source": [
    "#Setting up Range for set of Numbers\n",
    "for num in range(0, 1001, 10):\n",
    "print(num)"
   ]
  },
  {
   "cell_type": "code",
   "execution_count": null,
   "id": "a70fcde6",
   "metadata": {},
   "outputs": [],
   "source": [
    "#Display number set \n",
    "print(num)"
   ]
  },
  {
   "cell_type": "markdown",
   "id": "e842e85c",
   "metadata": {},
   "source": [
    "Question 5: \n",
    "Write a loop the calculated the total of the following series of numbers: 1/30 + 2/29 + 3/28 + ... 30/1"
   ]
  },
  {
   "cell_type": "markdown",
   "id": "688105bd",
   "metadata": {},
   "source": [
    "## Programming Exercises "
   ]
  },
  {
   "cell_type": "markdown",
   "id": "65164401",
   "metadata": {},
   "source": [
    "Question 1: Bug Colector - a bug collector collects bugs every day for five days. Write a program that keeps a running total of the number of bugs collected during the five days. The loop should ask for the number of bugs collected each day, and when the loop is finished, the program should display the total number of bugs collected. "
   ]
  },
  {
   "cell_type": "markdown",
   "id": "35118dce",
   "metadata": {},
   "source": [
    "Question 4: Distance Traveled - The distance a vehicle travels can be calculated as follows: "
   ]
  },
  {
   "cell_type": "markdown",
   "id": "b823b542",
   "metadata": {},
   "source": [
    "distance = speed * time "
   ]
  },
  {
   "cell_type": "markdown",
   "id": "9003091f",
   "metadata": {},
   "source": [
    "For example, if a train travels 40 miles per hour for three hours, the distance traveled is 120 miles. Write a program that asks the user for the speed of a vehicle ( in miles per hour) and the nnumber of hours it has traveled. It shouldthen use a loop to display the distance the vehicle has traveled for each hour of the time period. "
   ]
  },
  {
   "cell_type": "markdown",
   "id": "42c81f06",
   "metadata": {},
   "source": [
    "Question 12: Calculating the Factorial of a Number - Write a program that lets the user enter a nonnegative integer then uses a loop to calculate the factorial of that number. Display the factorial. "
   ]
  },
  {
   "cell_type": "markdown",
   "id": "0d12d5e4",
   "metadata": {},
   "source": [
    "Question 15: Write a program that uses nested loops to draw the pattern listed in the book. "
   ]
  },
  {
   "cell_type": "code",
   "execution_count": null,
   "id": "91706450",
   "metadata": {},
   "outputs": [],
   "source": []
  }
 ],
 "metadata": {
  "kernelspec": {
   "display_name": "Python 3 (ipykernel)",
   "language": "python",
   "name": "python3"
  },
  "language_info": {
   "codemirror_mode": {
    "name": "ipython",
    "version": 3
   },
   "file_extension": ".py",
   "mimetype": "text/x-python",
   "name": "python",
   "nbconvert_exporter": "python",
   "pygments_lexer": "ipython3",
   "version": "3.10.9"
  }
 },
 "nbformat": 4,
 "nbformat_minor": 5
}
