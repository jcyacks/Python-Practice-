{
 "cells": [
  {
   "cell_type": "markdown",
   "id": "6eae115b",
   "metadata": {},
   "source": [
    "# Chapter 4 Coding Exercises"
   ]
  },
  {
   "cell_type": "markdown",
   "id": "7a74569f",
   "metadata": {},
   "source": [
    "## Algorithm Worthbench "
   ]
  },
  {
   "cell_type": "markdown",
   "id": "c6fab74e",
   "metadata": {},
   "source": [
    "Question 3: \n",
    "Write a loop the displays the following set of numbers: \n",
    "0, 10, 20, 30, 40, 50 ... 1000"
   ]
  },
  {
   "cell_type": "code",
   "execution_count": 6,
   "id": "34d91c34",
   "metadata": {},
   "outputs": [
    {
     "name": "stdout",
     "output_type": "stream",
     "text": [
      "0\n",
      "10\n",
      "20\n",
      "30\n",
      "40\n",
      "50\n",
      "60\n",
      "70\n",
      "80\n",
      "90\n",
      "100\n",
      "110\n",
      "120\n",
      "130\n",
      "140\n",
      "150\n",
      "160\n",
      "170\n",
      "180\n",
      "190\n",
      "200\n",
      "210\n",
      "220\n",
      "230\n",
      "240\n",
      "250\n",
      "260\n",
      "270\n",
      "280\n",
      "290\n",
      "300\n",
      "310\n",
      "320\n",
      "330\n",
      "340\n",
      "350\n",
      "360\n",
      "370\n",
      "380\n",
      "390\n",
      "400\n",
      "410\n",
      "420\n",
      "430\n",
      "440\n",
      "450\n",
      "460\n",
      "470\n",
      "480\n",
      "490\n",
      "500\n",
      "510\n",
      "520\n",
      "530\n",
      "540\n",
      "550\n",
      "560\n",
      "570\n",
      "580\n",
      "590\n",
      "600\n",
      "610\n",
      "620\n",
      "630\n",
      "640\n",
      "650\n",
      "660\n",
      "670\n",
      "680\n",
      "690\n",
      "700\n",
      "710\n",
      "720\n",
      "730\n",
      "740\n",
      "750\n",
      "760\n",
      "770\n",
      "780\n",
      "790\n",
      "800\n",
      "810\n",
      "820\n",
      "830\n",
      "840\n",
      "850\n",
      "860\n",
      "870\n",
      "880\n",
      "890\n",
      "900\n",
      "910\n",
      "920\n",
      "930\n",
      "940\n",
      "950\n",
      "960\n",
      "970\n",
      "980\n",
      "990\n",
      "1000\n"
     ]
    }
   ],
   "source": [
    "#Setting up Range for set of Numbers\n",
    "for num in range(0, 1001, 10):\n",
    "    #Displaying set of numbers \n",
    "    print(num)"
   ]
  },
  {
   "cell_type": "markdown",
   "id": "5a08382c",
   "metadata": {},
   "source": [
    "Question 2: Write a while loop that asks the user to enter two numbers. The numbers should be added and the sum displayed. The loop should ask the user if he or she wishes to preform the operation again. If so"
   ]
  },
  {
   "cell_type": "code",
   "execution_count": null,
   "id": "75e3b7f0",
   "metadata": {},
   "outputs": [],
   "source": []
  },
  {
   "cell_type": "markdown",
   "id": "23d00dab",
   "metadata": {},
   "source": [
    "## Programming Exercises "
   ]
  },
  {
   "cell_type": "markdown",
   "id": "327c5852",
   "metadata": {},
   "source": [
    "Question 1: Bug Colector - a bug collector collects bugs every day for five days. Write a program that keeps a running total of the number of bugs collected during the five days. The loop should ask for the number of bugs collected each day, and when the loop is finished, the program should display the total number of bugs collected. "
   ]
  },
  {
   "cell_type": "markdown",
   "id": "7c16056d",
   "metadata": {},
   "source": [
    "Question 4: Distance Traveled - The distance a vehicle travels can be calculated as follows: "
   ]
  },
  {
   "cell_type": "markdown",
   "id": "890e80cb",
   "metadata": {},
   "source": [
    "distance = speed * time "
   ]
  },
  {
   "cell_type": "markdown",
   "id": "d64f7ad0",
   "metadata": {},
   "source": [
    "For example, if a train travels 40 miles per hour for three hours, the distance traveled is 120 miles. Write a program that asks the user for the speed of a vehicle ( in miles per hour) and the nnumber of hours it has traveled. It shouldthen use a loop to display the distance the vehicle has traveled for each hour of the time period. "
   ]
  },
  {
   "cell_type": "markdown",
   "id": "afa1a08c",
   "metadata": {},
   "source": [
    "Question 12: Calculating the Factorial of a Number - Write a program that lets the user enter a nonnegative integer then uses a loop to calculate the factorial of that number. Display the factorial. "
   ]
  },
  {
   "cell_type": "markdown",
   "id": "b6291ed6",
   "metadata": {},
   "source": [
    "Question 15: Write a program that uses nested loops to draw the pattern listed in the book. "
   ]
  },
  {
   "cell_type": "code",
   "execution_count": null,
   "id": "f5ef4dd5",
   "metadata": {},
   "outputs": [],
   "source": []
  }
 ],
 "metadata": {
  "kernelspec": {
   "display_name": "Python 3 (ipykernel)",
   "language": "python",
   "name": "python3"
  },
  "language_info": {
   "codemirror_mode": {
    "name": "ipython",
    "version": 3
   },
   "file_extension": ".py",
   "mimetype": "text/x-python",
   "name": "python",
   "nbconvert_exporter": "python",
   "pygments_lexer": "ipython3",
   "version": "3.10.9"
  }
 },
 "nbformat": 4,
 "nbformat_minor": 5
}
