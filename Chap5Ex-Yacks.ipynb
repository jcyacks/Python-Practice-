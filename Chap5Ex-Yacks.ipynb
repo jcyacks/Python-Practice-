{
 "cells": [
  {
   "cell_type": "markdown",
   "id": "d3120ce1",
   "metadata": {},
   "source": [
    "# Coding Set 5 "
   ]
  },
  {
   "cell_type": "markdown",
   "id": "09deb065",
   "metadata": {},
   "source": [
    "## Algorithm Workbench \n",
    "##### Any Two Questions "
   ]
  },
  {
   "cell_type": "markdown",
   "id": "69f11f24",
   "metadata": {},
   "source": [
    "4. What will the following program display? \n",
    "\n",
    "Hypothesis: I think this will print\n",
    "1, 3.4 \n",
    "0, 0\n",
    "1, 3.4\n",
    "because its first printing (x, y) then printing (a, b) then calling the main and running (1, 3.4) again.\n",
    "\n",
    "what actually happened: I overthought this whole problem. all that happened was when main was called it printed (x, y). because change_us was not called it did not print it. "
   ]
  },
  {
   "cell_type": "code",
   "execution_count": 1,
   "id": "d7b9c624",
   "metadata": {},
   "outputs": [
    {
     "name": "stdout",
     "output_type": "stream",
     "text": [
      "1 3.4\n"
     ]
    }
   ],
   "source": [
    "#Code given in book\n",
    "def main():\n",
    "    x = 1 \n",
    "    y = 3.4 \n",
    "    print(x, y)\n",
    "def change_us(a, b):\n",
    "    a = 0 \n",
    "    b = 0 \n",
    "    print(a, b) \n",
    "main()\n",
    "# I ran the code after my hypothesis. Which indeed was wrong. Not shocking at all."
   ]
  },
  {
   "cell_type": "markdown",
   "id": "081b60a7",
   "metadata": {},
   "source": [
    "6. Write a statment the generates a random number in the range of 1 through 100 and assigns it to a variable named rand. "
   ]
  },
  {
   "cell_type": "code",
   "execution_count": 2,
   "id": "dc9d951c",
   "metadata": {},
   "outputs": [
    {
     "name": "stdout",
     "output_type": "stream",
     "text": [
      "The random number is 36\n"
     ]
    }
   ],
   "source": [
    "import random \n",
    "\n",
    "def main():\n",
    "    #get random number\n",
    "    rand = random.randint(1, 100)\n",
    "    #display random number\n",
    "    print('The random number is', rand)\n",
    "    \n",
    "#call function \n",
    "main()"
   ]
  },
  {
   "cell_type": "markdown",
   "id": "b435c82d",
   "metadata": {},
   "source": [
    "# Programming Exercises "
   ]
  },
  {
   "cell_type": "markdown",
   "id": "a0ad8c1b",
   "metadata": {},
   "source": [
    "Question 1: Kilometer Converter - write a program that asks the user to enter a distance in kilometers, then converts that distance to miles. The conversion formula is as follows. \n",
    "\n",
    "Miles = Kilometers *  0.6214\n"
   ]
  },
  {
   "cell_type": "code",
   "execution_count": 3,
   "id": "39ca0fbc",
   "metadata": {},
   "outputs": [
    {
     "name": "stdout",
     "output_type": "stream",
     "text": [
      "Enter distance in Kilometers: 500\n",
      "500 kilometers is 310.7 miles\n"
     ]
    }
   ],
   "source": [
    "#Get distance in kilometers \n",
    "def main():\n",
    "    #gather number from user\n",
    "    kilometers = int(input('Enter distance in Kilometers: '))\n",
    "    \n",
    "    #equation to calculate miles from kilometers\n",
    "    miles = kilometers * 0.6214\n",
    "    \n",
    "    #print the kilometers \n",
    "    print(kilometers, 'kilometers is', miles,'miles')\n",
    "    \n",
    "#call the main function to run code\n",
    "main()\n"
   ]
  },
  {
   "cell_type": "markdown",
   "id": "a68a441a",
   "metadata": {},
   "source": [
    "Question 17: Prime Numbers - A prime number is a number that is only evenly divisible by itself and 1. For example, the number 5 is prime because it can only be evenly divided by 1 and 5. The number 6, however, is not prime because it can be divided by 1,2,3, and 6. \n",
    "\n",
    "Write a boolean function named is_prime which takes a integer as an argument and returns true if the argument is a prime number, or false otherwise. Use the function in a program that prompts the user to enter a number then displays a message indicating whether the number is prime. "
   ]
  },
  {
   "cell_type": "code",
   "execution_count": 15,
   "id": "ef478054",
   "metadata": {},
   "outputs": [
    {
     "name": "stdout",
     "output_type": "stream",
     "text": [
      "Enter number to determine prime:  20\n",
      "20 is not a Prime Number\n"
     ]
    },
    {
     "data": {
      "text/plain": [
       "False"
      ]
     },
     "execution_count": 15,
     "metadata": {},
     "output_type": "execute_result"
    }
   ],
   "source": [
    "def is_prime(num):\n",
    "    #is number is less than or equal to 1 \n",
    "    if num <= 1:\n",
    "        #return false \n",
    "        return False #must be capital I guess\n",
    "    #2 is a prime\n",
    "    elif num == 2: \n",
    "        #return true \n",
    "        return True \n",
    "    #if none of above then loop to check the divisibilty and determine if prime \n",
    "    else:\n",
    "        for i in range(2, num):\n",
    "            #is number can be divided by another number other than 1 or itself \n",
    "            if num % i == 0:\n",
    "                #return false \n",
    "                return False \n",
    "        # otherwise return true \n",
    "        return True \n",
    "    \n",
    "if __name__ == '__main__':\n",
    "    #gather input from user\n",
    "    num = int(input('Enter number to determine prime:  '))\n",
    "    #print ouptut depending if num is true or false \n",
    "    if is_prime(num):\n",
    "        print(num, 'is a Prime Number')\n",
    "\n",
    "    else: \n",
    "        print(num, 'is not a Prime Number')\n",
    "        \n",
    "is_prime(num)\n",
    "    \n"
   ]
  },
  {
   "cell_type": "markdown",
   "id": "0f9a4bd0",
   "metadata": {},
   "source": [
    "Question 18: Prime Number List - This excerise assumes that you have already written the is_prime function is Programming excersise 17. Write another program that diisplays all of the prime numbers from 1 through 100. The program should have a loop that calls the is_prime function. "
   ]
  },
  {
   "cell_type": "code",
   "execution_count": null,
   "id": "c922f774",
   "metadata": {},
   "outputs": [],
   "source": []
  },
  {
   "cell_type": "markdown",
   "id": "4ae72a91",
   "metadata": {},
   "source": [
    "Question 10: Feet to Inches - One foot equal 12 inches. Write a function named feet_to_inches that accepts a number of feet as an argyment and returns the number of inches in that many feet. Use the function in a program that promps the user to enter a number of feet then displays the number of inches in that many feet. "
   ]
  },
  {
   "cell_type": "code",
   "execution_count": null,
   "id": "c9739729",
   "metadata": {},
   "outputs": [],
   "source": []
  }
 ],
 "metadata": {
  "kernelspec": {
   "display_name": "Python 3 (ipykernel)",
   "language": "python",
   "name": "python3"
  },
  "language_info": {
   "codemirror_mode": {
    "name": "ipython",
    "version": 3
   },
   "file_extension": ".py",
   "mimetype": "text/x-python",
   "name": "python",
   "nbconvert_exporter": "python",
   "pygments_lexer": "ipython3",
   "version": "3.10.9"
  }
 },
 "nbformat": 4,
 "nbformat_minor": 5
}
