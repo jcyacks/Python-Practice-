{
 "cells": [
  {
   "cell_type": "markdown",
   "id": "5eeeab98",
   "metadata": {},
   "source": [
    "# Coding Set 5 "
   ]
  },
  {
   "cell_type": "markdown",
   "id": "6d3fc75e",
   "metadata": {},
   "source": [
    "## Algorithm Workbench \n",
    "##### Any Two Questions "
   ]
  },
  {
   "cell_type": "markdown",
   "id": "eb00a043",
   "metadata": {},
   "source": [
    "4. What will the following program display? \n",
    "\n",
    "Hypothesis: I think this will print\n",
    "1, 3.4 \n",
    "0, 0\n",
    "1, 3.4\n",
    "because its first printing (x, y) then printing (a, b) then calling the main and running (1, 3.4) again.\n",
    "\n",
    "what actually happened: I overthought this whole problem. all that happened was when main was called it printed (x, y). because change_us was not called it did not print it. "
   ]
  },
  {
   "cell_type": "code",
   "execution_count": 1,
   "id": "0cd5b6b5",
   "metadata": {},
   "outputs": [
    {
     "name": "stdout",
     "output_type": "stream",
     "text": [
      "1 3.4\n"
     ]
    }
   ],
   "source": [
    "#Code given in book\n",
    "def main():\n",
    "    x = 1 \n",
    "    y = 3.4 \n",
    "    print(x, y)\n",
    "def change_us(a, b):\n",
    "    a = 0 \n",
    "    b = 0 \n",
    "    print(a, b) \n",
    "main()\n",
    "# I ran the code after my hypothesis. Which indeed was wrong. Not shocking at all."
   ]
  },
  {
   "cell_type": "markdown",
   "id": "f6f8702b",
   "metadata": {},
   "source": [
    "6. Write a statment the generates a random number in the range of 1 through 100 and assigns it to a variable named rand. "
   ]
  },
  {
   "cell_type": "code",
   "execution_count": 2,
   "id": "4982b4ce",
   "metadata": {},
   "outputs": [
    {
     "name": "stdout",
     "output_type": "stream",
     "text": [
      "The random number is 85\n"
     ]
    }
   ],
   "source": [
    "import random \n",
    "\n",
    "def main():\n",
    "    #get random number\n",
    "    rand = random.randint(1, 100)\n",
    "    #display random number\n",
    "    print('The random number is', rand)\n",
    "    \n",
    "#call function \n",
    "main()"
   ]
  },
  {
   "cell_type": "markdown",
   "id": "c8ffe730",
   "metadata": {},
   "source": [
    "# Programming Exercises "
   ]
  },
  {
   "cell_type": "markdown",
   "id": "01b7330a",
   "metadata": {},
   "source": [
    "Question 1: Kilometer Converter - write a program that asks the user to enter a distance in kilometers, then converts that distance to miles. The conversion formula is as follows. \n",
    "\n",
    "Miles = Kilometers *  0.6214\n"
   ]
  },
  {
   "cell_type": "code",
   "execution_count": 9,
   "id": "ea11374f",
   "metadata": {},
   "outputs": [
    {
     "name": "stdout",
     "output_type": "stream",
     "text": [
      "Enter distance in Kilometers: 420\n",
      "420 kilometers is 260.988 miles\n"
     ]
    }
   ],
   "source": [
    "#Get distance in kilometers \n",
    "def main():\n",
    "    #gather number from user\n",
    "    kilometers = int(input('Enter distance in Kilometers: '))\n",
    "    \n",
    "    #equation to calculate miles from kilometers\n",
    "    miles = kilometers * 0.6214\n",
    "    \n",
    "    #print the kilometers \n",
    "    print(kilometers, 'kilometers is', miles,'miles')\n",
    "    \n",
    "#call the main function to run code\n",
    "main()\n"
   ]
  },
  {
   "cell_type": "markdown",
   "id": "274f099d",
   "metadata": {},
   "source": [
    "Question 17: Prime Numbers - A prime number is a number that is only evenly divisible by itself and 1. For example, the number 5 is prime because it can only be evenly divided by 1 and 5. The number 6, however, is not prime because it can be divided by 1,2,3, and 6. \n",
    "\n",
    "Write a boolean function named is_prime which takes a integer as an argument and returns true if the argument is a prime number, or false otherwise. Use the function in a program that prompts the user to enter a number then displays a message indicating whether the number is prime. "
   ]
  },
  {
   "cell_type": "code",
   "execution_count": 19,
   "id": "83c2c55d",
   "metadata": {},
   "outputs": [
    {
     "ename": "SyntaxError",
     "evalue": "invalid syntax (436556895.py, line 22)",
     "output_type": "error",
     "traceback": [
      "\u001b[1;36m  Cell \u001b[1;32mIn[19], line 22\u001b[1;36m\u001b[0m\n\u001b[1;33m    if_name_ == '_main_':\u001b[0m\n\u001b[1;37m                        ^\u001b[0m\n\u001b[1;31mSyntaxError\u001b[0m\u001b[1;31m:\u001b[0m invalid syntax\n"
     ]
    }
   ],
   "source": [
    "def is_prime(num):\n",
    "    #is number is less than or equal to 1 \n",
    "    if num <= 1:\n",
    "        #return false \n",
    "        return false\n",
    "    #2 is a prime\n",
    "    elif num == 2: \n",
    "        #return true \n",
    "        return true \n",
    "    #if none of above then loop to check the divisibilty and determine if prime \n",
    "    else:\n",
    "        for i in range(2, num):\n",
    "            #is number can be divided by another number other than 1 or itself \n",
    "            if num % i == 0:\n",
    "                #return false \n",
    "                return false \n",
    "        # otherwise return true \n",
    "        return true \n",
    "    \n",
    "if_name_ == '_main_':\n",
    "    #gather input from user\n",
    "    num= int(input('Enter number to determine prime:  '))\n",
    "    #print ouptut depending if num is true or false \n",
    "    if is_prime(num):\n",
    "        print(num, end='  ')\n",
    "        print('is a Prime Number')\n",
    "    else: \n",
    "        print(num, end='  ')\n",
    "        print('is not a Prime Number')\n",
    "        \n"
   ]
  },
  {
   "cell_type": "markdown",
   "id": "429071f3",
   "metadata": {},
   "source": [
    "Question 18: Prime Number List - This excerise assumes that you have already written the is_prime function is Programming excersise 17. Write another program that diisplays all of the prime numbers from 1 through 100. The program should have a loop that calls the is_prime function. "
   ]
  },
  {
   "cell_type": "code",
   "execution_count": null,
   "id": "8b4cd6cb",
   "metadata": {},
   "outputs": [],
   "source": []
  },
  {
   "cell_type": "markdown",
   "id": "8d596746",
   "metadata": {},
   "source": [
    "Question 10: Feet to Inches - One foot equal 12 inches. Write a function named feet_to_inches that accepts a number of feet as an argyment and returns the number of inches in that many feet. Use the function in a program that promps the user to enter a number of feet then displays the number of inches in that many feet. "
   ]
  },
  {
   "cell_type": "code",
   "execution_count": null,
   "id": "bdd2315b",
   "metadata": {},
   "outputs": [],
   "source": []
  }
 ],
 "metadata": {
  "kernelspec": {
   "display_name": "Python 3 (ipykernel)",
   "language": "python",
   "name": "python3"
  },
  "language_info": {
   "codemirror_mode": {
    "name": "ipython",
    "version": 3
   },
   "file_extension": ".py",
   "mimetype": "text/x-python",
   "name": "python",
   "nbconvert_exporter": "python",
   "pygments_lexer": "ipython3",
   "version": "3.10.9"
  }
 },
 "nbformat": 4,
 "nbformat_minor": 5
}
