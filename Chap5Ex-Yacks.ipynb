{
 "cells": [
  {
   "cell_type": "markdown",
   "id": "d4f36eed",
   "metadata": {},
   "source": [
    "# Coding Set 5 "
   ]
  },
  {
   "cell_type": "markdown",
   "id": "2d4ad28c",
   "metadata": {},
   "source": [
    "## Algorithm Workbench \n",
    "##### Any Two Questions "
   ]
  },
  {
   "cell_type": "markdown",
   "id": "48bbd880",
   "metadata": {},
   "source": [
    "4. What will the following program display? \n",
    "\n",
    "Hypothesis: I think this will print\n",
    "1, 3.4 \n",
    "0, 0\n",
    "1, 3.4\n",
    "because its first printing (x, y) then printing (a, b) then calling the main and running (1, 3.4) again.\n",
    "\n",
    "what actually happened: I overthought this whole problem. all that happened was when main was called it printed (x, y). because change_us was not called it did not print it."
   ]
  },
  {
   "cell_type": "code",
   "execution_count": 1,
   "id": "d6d7a1ae",
   "metadata": {},
   "outputs": [
    {
     "name": "stdout",
     "output_type": "stream",
     "text": [
      "1 3.4\n"
     ]
    }
   ],
   "source": [
    "def main():\n",
    "    x = 1 \n",
    "    y = 3.4 \n",
    "    print(x, y)\n",
    "def change_us(a, b):\n",
    "    a = 0 \n",
    "    b = 0 \n",
    "    print(a, b) \n",
    "main()\n"
   ]
  },
  {
   "cell_type": "code",
   "execution_count": null,
   "id": "02e9a540",
   "metadata": {},
   "outputs": [],
   "source": []
  }
 ],
 "metadata": {
  "kernelspec": {
   "display_name": "Python 3 (ipykernel)",
   "language": "python",
   "name": "python3"
  },
  "language_info": {
   "codemirror_mode": {
    "name": "ipython",
    "version": 3
   },
   "file_extension": ".py",
   "mimetype": "text/x-python",
   "name": "python",
   "nbconvert_exporter": "python",
   "pygments_lexer": "ipython3",
   "version": "3.10.9"
  }
 },
 "nbformat": 4,
 "nbformat_minor": 5
}
