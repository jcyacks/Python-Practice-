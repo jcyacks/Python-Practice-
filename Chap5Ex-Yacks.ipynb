{
 "cells": [
  {
   "cell_type": "markdown",
   "id": "da8c3bea",
   "metadata": {},
   "source": [
    "# Coding Set 5 "
   ]
  },
  {
   "cell_type": "markdown",
   "id": "24867712",
   "metadata": {},
   "source": [
    "## Algorithm Workbench \n",
    "##### Any Two Questions "
   ]
  },
  {
   "cell_type": "markdown",
   "id": "ae4904c0",
   "metadata": {},
   "source": [
    "4. What will the following program display? \n",
    "\n",
    "Hypothesis: I think this will print\n",
    "1, 3.4 \n",
    "0, 0\n",
    "1, 3.4\n",
    "because its first printing (x, y) then printing (a, b) then calling the main and running (1, 3.4) again.\n",
    "\n",
    "what actually happened: I overthought this whole problem. all that happened was when main was called it printed (x, y). because change_us was not called it did not print it. "
   ]
  },
  {
   "cell_type": "code",
   "execution_count": 3,
   "id": "2d5b08af",
   "metadata": {},
   "outputs": [
    {
     "name": "stdout",
     "output_type": "stream",
     "text": [
      "1 3.4\n"
     ]
    }
   ],
   "source": [
    "#Code given in book\n",
    "def main():\n",
    "    x = 1 \n",
    "    y = 3.4 \n",
    "    print(x, y)\n",
    "def change_us(a, b):\n",
    "    a = 0 \n",
    "    b = 0 \n",
    "    print(a, b) \n",
    "main()\n",
    "# I ran the code after my hypothesis. Which indeed was wrong. Not shocking at all."
   ]
  },
  {
   "cell_type": "markdown",
   "id": "5baf21fd",
   "metadata": {},
   "source": [
    "6. Write a statment the generates a random number in the range of 1 through 100 and assigns it to a variable named rand. "
   ]
  },
  {
   "cell_type": "code",
   "execution_count": 2,
   "id": "1f659793",
   "metadata": {},
   "outputs": [
    {
     "name": "stdout",
     "output_type": "stream",
     "text": [
      "The random number is 70\n"
     ]
    }
   ],
   "source": [
    "import random \n",
    "\n",
    "def main():\n",
    "    #get random number\n",
    "    rand = random.randint(1, 100)\n",
    "    #display random number\n",
    "    print('The random number is', rand)\n",
    "    \n",
    "#call function \n",
    "main()"
   ]
  },
  {
   "cell_type": "markdown",
   "id": "f2fea95d",
   "metadata": {},
   "source": [
    "# Programming Exercises "
   ]
  },
  {
   "cell_type": "markdown",
   "id": "99d76dce",
   "metadata": {},
   "source": [
    "Question 1: Kilometer Converter - write a program that asks the user to enter a distance in kilometers, then converts that distance to miles. The conversion formula is as follows. \n",
    "\n",
    "Miles = Kilometers *  0.6214\n"
   ]
  },
  {
   "cell_type": "code",
   "execution_count": null,
   "id": "bb84222a",
   "metadata": {},
   "outputs": [],
   "source": []
  },
  {
   "cell_type": "markdown",
   "id": "9886303b",
   "metadata": {},
   "source": [
    "Question 17: Prime Numbers - A prime number is a number that is only evenly divisible by itself and 1. For example, the number 5 is prime because it can only be evenly divided by 1 and 5. The number 6, however, is not prime because it can be divided by 1,2,3, and 6. \n",
    "\n",
    "Write a boolean function named is_prime which takes a integer as an argument and returns true if the argument is a prime number, or false otherwise. Use the function in a program that prompts the user to enter a number then displays a message indicating whether the number is prime. "
   ]
  },
  {
   "cell_type": "code",
   "execution_count": null,
   "id": "d0e8f667",
   "metadata": {},
   "outputs": [],
   "source": []
  },
  {
   "cell_type": "markdown",
   "id": "e2cfd31b",
   "metadata": {},
   "source": [
    "Question 18: Prime Number List - This excerise assumes that you have already written the is_prime function is Programming excersise 17. Write another program that diisplays all of the prime numbers from 1 through 100. The program should have a loop that calls the is_prime function. "
   ]
  },
  {
   "cell_type": "code",
   "execution_count": null,
   "id": "66f080d7",
   "metadata": {},
   "outputs": [],
   "source": []
  },
  {
   "cell_type": "markdown",
   "id": "27503568",
   "metadata": {},
   "source": [
    "Question 10: Feet to Inches - One foot equal 12 inches. Write a function named feet_to_inches that accepts a number of feet as an argyment and returns the number of inches in that many feet. Use the function in a program that promps the user to enter a number of feet then displays the number of inches in that many feet. "
   ]
  },
  {
   "cell_type": "code",
   "execution_count": null,
   "id": "70ba3266",
   "metadata": {},
   "outputs": [],
   "source": []
  }
 ],
 "metadata": {
  "kernelspec": {
   "display_name": "Python 3 (ipykernel)",
   "language": "python",
   "name": "python3"
  },
  "language_info": {
   "codemirror_mode": {
    "name": "ipython",
    "version": 3
   },
   "file_extension": ".py",
   "mimetype": "text/x-python",
   "name": "python",
   "nbconvert_exporter": "python",
   "pygments_lexer": "ipython3",
   "version": "3.10.9"
  }
 },
 "nbformat": 4,
 "nbformat_minor": 5
}
