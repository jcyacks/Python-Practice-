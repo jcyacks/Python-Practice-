{
 "cells": [
  {
   "cell_type": "markdown",
   "id": "57b758ff",
   "metadata": {},
   "source": [
    "# Coding Set 6 "
   ]
  },
  {
   "cell_type": "markdown",
   "id": "af855919",
   "metadata": {},
   "source": [
    "### Algorithm Workbench "
   ]
  },
  {
   "cell_type": "markdown",
   "id": "cf7175aa",
   "metadata": {},
   "source": [
    "Question 1: Write a program that opens an output file with the filename my_name.txt, writes your name to the file, then closes it "
   ]
  },
  {
   "cell_type": "code",
   "execution_count": 2,
   "id": "57f5a638",
   "metadata": {},
   "outputs": [],
   "source": [
    "#Write program to write my name \n",
    "def main():\n",
    "    \n",
    "    #open the my_name file\n",
    "    my_file = open('my_name.txt', 'w')\n",
    "    \n",
    "    #Write my name \"Jaya Yacks\"\n",
    "    my_file.write('Jaya Yacks')\n",
    "    \n",
    "    #Close the my_name file\n",
    "    my_file.close()\n",
    "    \n",
    "#call the main to run program\n",
    "main()\n",
    "# Not sure if this is working or not, \n",
    "# is it supposed to display or just creat and save the file?\n"
   ]
  },
  {
   "cell_type": "markdown",
   "id": "b20d13ee",
   "metadata": {},
   "source": [
    "Questioin 2: Write a program that opens the my_name.txt file that was created by the program in problem 1, reads your name from the file, displayed the name on the screen, then closes the file."
   ]
  },
  {
   "cell_type": "code",
   "execution_count": 11,
   "id": "a9971829",
   "metadata": {},
   "outputs": [
    {
     "name": "stdout",
     "output_type": "stream",
     "text": [
      "Jaya Yacks\n"
     ]
    }
   ],
   "source": [
    "#write program to write and display my_name\n",
    "def main():\n",
    "    \n",
    "    #Open file my_name\n",
    "    infile = open('my_name.txt', 'r')\n",
    "    \n",
    "    #read my_name file \n",
    "    my_name = infile.read()\n",
    "    \n",
    "    #display my_name\n",
    "    print( my_name)\n",
    "        # I used chatGBT for the above print function \n",
    "        #because I could not figure out why it was not printing \n",
    "    \n",
    "    #close the file \n",
    "    infile.close()\n",
    "    \n",
    "#call the main\n",
    "main()"
   ]
  },
  {
   "cell_type": "markdown",
   "id": "07c5185b",
   "metadata": {},
   "source": [
    "### Programming Exercises"
   ]
  },
  {
   "cell_type": "markdown",
   "id": "1fbd4369",
   "metadata": {},
   "source": [
    "Question 1: File Display - assume a file containing a series of integers is named numbers.txt and exists on the computers disk. Write a program that displays all of the numbers in the file. "
   ]
  },
  {
   "cell_type": "code",
   "execution_count": 22,
   "id": "c4b2dbb1",
   "metadata": {},
   "outputs": [
    {
     "name": "stdout",
     "output_type": "stream",
     "text": [
      "File was created successfully\n"
     ]
    }
   ],
   "source": [
    "#Create the file to solve this problem\n",
    "def main():\n",
    "    #list of numbers\n",
    "    numbers = [1, 5, 10, 15, 20, 25] \n",
    "    \n",
    "    #open the integer_num file \n",
    "    integer_num = open('numbers.txt', 'w')\n",
    "    \n",
    "    #write the numbers to the file \n",
    "    integer_num.write(str(numbers))\n",
    "    \n",
    "    #print if completed \n",
    "    print('File was created successfully')\n",
    "    \n",
    "main()"
   ]
  },
  {
   "cell_type": "code",
   "execution_count": 24,
   "id": "3b342ce2",
   "metadata": {},
   "outputs": [
    {
     "name": "stdout",
     "output_type": "stream",
     "text": [
      "['[1, 5, 10, 15, 20, 25]']\n"
     ]
    }
   ],
   "source": [
    "#program that displays number.txt file \n",
    "def main():\n",
    "    #open the file\n",
    "    integer_series = open('numbers.txt', 'r')\n",
    "    \n",
    "    #Read file \n",
    "    number_file = integer_series.readlines()\n",
    "    \n",
    "    #print integers \n",
    "    print(number_file)\n",
    "    \n",
    "    #Close numbers.txt file \n",
    "    integer_series.close\n",
    "    \n",
    "#call the main to run program\n",
    "main()\n",
    "   \n",
    "#its not as perect as I would hope but it is displaying my numbers \n",
    "    \n",
    "    \n",
    "    "
   ]
  },
  {
   "cell_type": "markdown",
   "id": "dd10dd6a",
   "metadata": {},
   "source": [
    "Question 6: Average of Numbers - Assume a file containing a series of integers is named numbers.txt andd exists on the computers disk. write a program that calculates the average of all numbers stored in the file.  "
   ]
  },
  {
   "cell_type": "code",
   "execution_count": null,
   "id": "d956fd07",
   "metadata": {},
   "outputs": [],
   "source": []
  },
  {
   "cell_type": "markdown",
   "id": "cf203513",
   "metadata": {},
   "source": [
    "Question 9: Exception Handling - Modify the program that you wrote for exercise 6  so it handles the following exceptions: \n",
    "- it should handle any I0ERROR exceptions that are raised when the file is opened and data is read from it \n",
    "- it should handle any ValueError exceptions that are raised when the items that are read from the file are converted to a number."
   ]
  },
  {
   "cell_type": "code",
   "execution_count": null,
   "id": "3584e47f",
   "metadata": {},
   "outputs": [],
   "source": []
  },
  {
   "cell_type": "markdown",
   "id": "b241df43",
   "metadata": {},
   "source": [
    "Question 3: Line Numbers - Write a program that asks the user for the name of a file. The program should display the contents of the file with each line preceded with a line number followed by a colon. The line numbering should start at 1."
   ]
  },
  {
   "cell_type": "code",
   "execution_count": null,
   "id": "a6a92c7e",
   "metadata": {},
   "outputs": [],
   "source": []
  }
 ],
 "metadata": {
  "kernelspec": {
   "display_name": "Python 3 (ipykernel)",
   "language": "python",
   "name": "python3"
  },
  "language_info": {
   "codemirror_mode": {
    "name": "ipython",
    "version": 3
   },
   "file_extension": ".py",
   "mimetype": "text/x-python",
   "name": "python",
   "nbconvert_exporter": "python",
   "pygments_lexer": "ipython3",
   "version": "3.10.9"
  }
 },
 "nbformat": 4,
 "nbformat_minor": 5
}
