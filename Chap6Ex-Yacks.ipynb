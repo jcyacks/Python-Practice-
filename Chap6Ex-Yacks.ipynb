{
 "cells": [
  {
   "cell_type": "markdown",
   "id": "57b758ff",
   "metadata": {},
   "source": [
    "# Coding Set 6 "
   ]
  },
  {
   "cell_type": "markdown",
   "id": "af855919",
   "metadata": {},
   "source": [
    "### Algorithm Workbench "
   ]
  },
  {
   "cell_type": "markdown",
   "id": "cf7175aa",
   "metadata": {},
   "source": [
    "Question 1: Write a program that opens an output file with the filename my_name.txt, writes your name to the file, then closes it "
   ]
  },
  {
   "cell_type": "code",
   "execution_count": 1,
   "id": "57f5a638",
   "metadata": {},
   "outputs": [],
   "source": [
    "#Write program to write my name \n",
    "def main():\n",
    "    \n",
    "    #open the my_name file\n",
    "    my_file = open('my_name.txt', 'w')\n",
    "    \n",
    "    #Write my name \"Jaya Yacks\"\n",
    "    my_file.write('Jaya Yacks')\n",
    "    \n",
    "    #Close the my_name file\n",
    "    my_file.close()\n",
    "    \n",
    "#call the main to run program\n",
    "main()\n",
    "# Not sure if this is working or not, \n",
    "# is it supposed to display or just creat and save the file?\n"
   ]
  },
  {
   "cell_type": "markdown",
   "id": "b20d13ee",
   "metadata": {},
   "source": [
    "Questioin 2: Write a program that opens the my_name.txt file that was created by the program in problem 1, reads your name from the file, displayed the name on the screen, then closes the file."
   ]
  },
  {
   "cell_type": "code",
   "execution_count": 2,
   "id": "a9971829",
   "metadata": {},
   "outputs": [
    {
     "name": "stdout",
     "output_type": "stream",
     "text": [
      "Jaya Yacks\n"
     ]
    }
   ],
   "source": [
    "#write program to write and display my_name\n",
    "def main():\n",
    "    \n",
    "    #Open file my_name\n",
    "    infile = open('my_name.txt', 'r')\n",
    "    \n",
    "    #read my_name file \n",
    "    my_name = infile.read()\n",
    "    \n",
    "    #display my_name\n",
    "    print( my_name)\n",
    "        # I used chatGBT for the above print function \n",
    "        #because I could not figure out why it was not printing \n",
    "    \n",
    "    #close the file \n",
    "    infile.close()\n",
    "    \n",
    "#call the main\n",
    "main()"
   ]
  },
  {
   "cell_type": "markdown",
   "id": "07c5185b",
   "metadata": {},
   "source": [
    "### Programming Exercises"
   ]
  },
  {
   "cell_type": "markdown",
   "id": "1fbd4369",
   "metadata": {},
   "source": [
    "Question 1: File Display - assume a file containing a series of integers is named numbers.txt and exists on the computers disk. Write a program that displays all of the numbers in the file. "
   ]
  },
  {
   "cell_type": "code",
   "execution_count": null,
   "id": "3b342ce2",
   "metadata": {},
   "outputs": [],
   "source": [
    "#program that displays number.txt file \n",
    "def main():\n",
    "    # get the nail of the file \n",
    "    filename = input('enter a filename: ')\n",
    "    \n",
    "    #open the file \n",
    "    infile = open(filename, 'r')\n",
    "    \n",
    "    #read the file \n",
    "    contents = infile.read()\n",
    "    \n",
    "    #displau the file contents \n",
    "    print(contents)\n",
    "    \n",
    "    #close the file\n",
    "    infile.close()\n",
    "    \n",
    "#call the main function to run program \n",
    "main()\n",
    "    "
   ]
  },
  {
   "cell_type": "markdown",
   "id": "dd10dd6a",
   "metadata": {},
   "source": [
    "Question 6: Average of Numbers - Assume a file containing a series of integers is named numbers.txt andd exists on the computers disk. write a program that calculates the average of all numbers stored in the file.  "
   ]
  },
  {
   "cell_type": "code",
   "execution_count": null,
   "id": "d956fd07",
   "metadata": {
    "scrolled": true
   },
   "outputs": [],
   "source": [
    "# create a code that calculates the average of the numbers stored \n",
    "# in number.txt file \n",
    "\n",
    "def main():\n",
    "    #set initial parameters \n",
    "    total_sum = 0 \n",
    "    total_num = 0 \n",
    "    \n",
    "    #explain the average equation \n",
    "    average = total_sum/total_num\n",
    "    \n",
    "    #open numbers.txt file \n",
    "    infile = open('numbers.txt', 'r')\n",
    "    \n",
    "    #read the file numbers and get the sum \n",
    "    for line in infile: \n",
    "        amount = float(line)\n",
    "        total_sum += amount\n",
    "        total_num += 1 \n",
    "        \n",
    "        #close the file \n",
    "        infile.close()\n",
    "        \n",
    "    #if else statement to print the averages     \n",
    "    if total_num >0:\n",
    "        #if yes then calculate the average\n",
    "        print('The Average of all the numbers in numbers.txt file is:', average)\n",
    "        \n",
    "    else: \n",
    "        print('No numbers found in the numbers.txt file at this time.')\n",
    "\n",
    "#call the main to run program\n",
    "main()\n",
    "        "
   ]
  },
  {
   "cell_type": "markdown",
   "id": "cf203513",
   "metadata": {},
   "source": [
    "Question 9: Exception Handling - Modify the program that you wrote for exercise 6  so it handles the following exceptions: \n",
    "- it should handle any I0ERROR exceptions that are raised when the file is opened and data is read from it \n",
    "- it should handle any ValueError exceptions that are raised when the items that are read from the file are converted to a number."
   ]
  },
  {
   "cell_type": "code",
   "execution_count": null,
   "id": "3584e47f",
   "metadata": {},
   "outputs": [],
   "source": [
    "# the code can be make to handle I0ERROR and valueError\n",
    "# by using a try-ecxept in the code \n",
    "\n",
    "#pasted code from problem 6 to modify for this problem\n",
    "def main():\n",
    "    #set initial parameters \n",
    "    total_sum = 0 \n",
    "    total_num = 0 \n",
    "    \n",
    "    #explain the average equation \n",
    "    average = total_sum/total_num\n",
    "    \n",
    "    #open numbers.txt file \n",
    "    infile = open('numbers.txt', 'r')\n",
    "    \n",
    "    #read the file numbers and get the sum \n",
    "    for line in infile: \n",
    "        try:\n",
    "            amount = float(line)\n",
    "            total_sum += amount\n",
    "            total_num += 1 \n",
    "        except ValueError:\n",
    "            print('invalid value')\n",
    "        #close the file \n",
    "        infile.close()\n",
    "        \n",
    "    #if else statement to print the averages     \n",
    "    if total_num >0:\n",
    "        #if yes then calculate the average\n",
    "        print('The Average of all the numbers in numbers.txt file is:', average)\n",
    "        \n",
    "    else: \n",
    "        print('No numbers found in the numbers.txt file at this time.')\n",
    "        \n",
    "except I0Error: \n",
    "    print('An error occured trying to read file')\n",
    "\n",
    "#call the main to run program\n",
    "main()"
   ]
  },
  {
   "cell_type": "markdown",
   "id": "b241df43",
   "metadata": {},
   "source": [
    "Question 3: Line Numbers - Write a program that asks the user for the name of a file. The program should display the contents of the file with each line preceded with a line number followed by a colon. The line numbering should start at 1."
   ]
  },
  {
   "cell_type": "code",
   "execution_count": null,
   "id": "a6a92c7e",
   "metadata": {},
   "outputs": [],
   "source": [
    "# this program should ask for a file name and display in contents \n",
    "def main():\n",
    "    #ask for file name \n",
    "    file_name = input('Enter File Name: ')\n",
    "    \n",
    "    #open the file to read\n",
    "    contents = open(filename, 'r') as file \n",
    "    \n",
    "    #using GBT here to help where I am stuck \n",
    "    #it said to declare a counter for the number line in the file \n",
    "    counter = 0 \n",
    "    \n",
    "#for each line in the file\n",
    "    for line in contents:\n",
    "        #update the line by adding 1 \n",
    "        counter += 1 \n",
    "        \n",
    "        #print the contents on the line followed by the number and a colon \n",
    "        print(str(counter)+': '+line)\n",
    "        \n",
    "    infile.close()\n",
    "    \n",
    "main()"
   ]
  }
 ],
 "metadata": {
  "kernelspec": {
   "display_name": "Python 3 (ipykernel)",
   "language": "python",
   "name": "python3"
  },
  "language_info": {
   "codemirror_mode": {
    "name": "ipython",
    "version": 3
   },
   "file_extension": ".py",
   "mimetype": "text/x-python",
   "name": "python",
   "nbconvert_exporter": "python",
   "pygments_lexer": "ipython3",
   "version": "3.10.9"
  }
 },
 "nbformat": 4,
 "nbformat_minor": 5
}
