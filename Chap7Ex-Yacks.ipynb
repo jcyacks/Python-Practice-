{
 "cells": [
  {
   "cell_type": "markdown",
   "id": "b95358f8",
   "metadata": {},
   "source": [
    "# Chapter 7 Coding Set "
   ]
  },
  {
   "cell_type": "markdown",
   "id": "56296b94",
   "metadata": {},
   "source": [
    "## (Happy 4th of July Everyone!)"
   ]
  },
  {
   "cell_type": "markdown",
   "id": "1ca18629",
   "metadata": {},
   "source": [
    "### Algorithm Workbench: (Any two Questions) "
   ]
  },
  {
   "cell_type": "markdown",
   "id": "69ead3e8",
   "metadata": {},
   "source": [
    "Question 1: Write a statement that creates a list with the following strings: 'Einstein', 'Newton', 'Corernicus', and 'Kepler'. "
   ]
  },
  {
   "cell_type": "code",
   "execution_count": 3,
   "id": "b03babcc",
   "metadata": {},
   "outputs": [
    {
     "name": "stdout",
     "output_type": "stream",
     "text": [
      "['Einstein', 'Newton', 'Copernicus', 'Kepler']\n"
     ]
    }
   ],
   "source": [
    "# List of scientists names \n",
    "scientists_list = ['Einstein', 'Newton', 'Copernicus', 'Kepler']\n",
    "\n",
    "#print names\n",
    "print(scientists_list)"
   ]
  },
  {
   "cell_type": "markdown",
   "id": "f99ab6ab",
   "metadata": {},
   "source": [
    "Question 7: What will the following Code print? "
   ]
  },
  {
   "cell_type": "markdown",
   "id": "af62f151",
   "metadata": {},
   "source": [
    "Hypothesis: [40, 50, 60, 10, 20, 30]"
   ]
  },
  {
   "cell_type": "code",
   "execution_count": 4,
   "id": "15e9eb33",
   "metadata": {
    "scrolled": true
   },
   "outputs": [
    {
     "name": "stdout",
     "output_type": "stream",
     "text": [
      "[40, 50, 60, 10, 20, 30]\n"
     ]
    }
   ],
   "source": [
    "#code from book\n",
    "list1 = [40, 50, 60 ]\n",
    "list2 = [10, 20, 30 ]\n",
    "list3 = list1 + list2 \n",
    "#print the list3 \n",
    "print(list3)\n",
    "#my hypothesis was accurate because the '+' adds the lists together it \n",
    "#does not add the numbers together"
   ]
  },
  {
   "cell_type": "markdown",
   "id": "3af430e0",
   "metadata": {},
   "source": [
    "### Programming Exercises ( 4 Questions) "
   ]
  },
  {
   "cell_type": "markdown",
   "id": "6e00aa54",
   "metadata": {},
   "source": [
    "Question 1: (Required) Total Sales - Design a program that asks the user to enter a store's sales for each dat of the week. The amounts should be stored in a list. Use a loop to calculate the total sales for the week and display the result. "
   ]
  },
  {
   "cell_type": "code",
   "execution_count": 8,
   "id": "65a4edb1",
   "metadata": {
    "scrolled": true
   },
   "outputs": [
    {
     "name": "stdout",
     "output_type": "stream",
     "text": [
      "Enter sales for day1:10\n",
      "Enter sales for day2:10\n",
      "Enter sales for day3:10\n",
      "Enter sales for day4:10\n",
      "Enter sales for day5:10\n",
      "Enter sales for day6:10\n",
      "Enter sales for day7:10\n",
      "The total sales in  70.0\n"
     ]
    }
   ],
   "source": [
    "#create the empty list to store the sales for the week \n",
    "salelist = []\n",
    "#set the range to enter a sales number for each day \n",
    "for i in range(0,7):\n",
    "    #create the float to add number into the empty list \n",
    "    s = float(input('Enter sales for day' +str(i+1)+':'))\n",
    "    #I had to use Chat GBT here because I had an error in my code \n",
    "    #turns out i simply overlooked a typo od \"appends\" instead of 'append'\n",
    "    salelist.append(s)\n",
    "    \n",
    "\n",
    "total = 0.0 \n",
    "for i in salelist: \n",
    "    #add each item to the sales list together to grab a total\n",
    "    total = total + i \n",
    "    #print the total sales for the week \n",
    "print('The total sales in ', total)\n",
    "    "
   ]
  },
  {
   "cell_type": "markdown",
   "id": "213d8d0f",
   "metadata": {},
   "source": [
    "Question 14: (required) Expense Pie Chart - Create a text file that contained your expenses for last month in the follwing categories: \n",
    "\n",
    "- Rent \n",
    "- Gas \n",
    "- Food \n",
    "- Clothing \n",
    "- Car payment \n",
    "- Misc \n",
    "\n",
    "Write a Python program that reads the data from the file and uses matplotlib 6o plot a pie chart showing how you spend your money "
   ]
  },
  {
   "cell_type": "code",
   "execution_count": null,
   "id": "fe15593c",
   "metadata": {},
   "outputs": [],
   "source": [
    "#impoty myplotlib in order to create the graphs needed \n",
    "import matplotlib.pyplot as plt \n",
    "\n",
    "#Gather file name from user \n",
    "filename = input('Enter the name of file:  ')\n",
    "\n",
    "#open the file in read mode \n",
    "fptr = open(filename, 'r')\n",
    "\n",
    "#set the categories of expenses \n",
    "cattegories = [ 'Rent', 'Gas', 'Food', 'Clothing', 'Car Payment', 'Misc.']\n",
    "\n",
    "#store the expenses in the expense cate"
   ]
  },
  {
   "cell_type": "markdown",
   "id": "c93a12ef",
   "metadata": {},
   "source": [
    "Question 13: Magic 8 Ball - Write a program that simulates a Magic 8 Ball.The file from this book contains 12 responses, such as \"i don't think so\", \"yes of course!\", and \"I'm not sure\". The  program shouuld read the responses from the file int a list. it should prompt the user to ask a question, then displau one of the responses, randomly selected from the list. The program should repeat until the user is ready to quit. "
   ]
  },
  {
   "cell_type": "code",
   "execution_count": null,
   "id": "66f53580",
   "metadata": {},
   "outputs": [],
   "source": []
  },
  {
   "cell_type": "markdown",
   "id": "16ae79ee",
   "metadata": {},
   "source": [
    "Question 2: Lottery Number Generator- Design a program that denerates a seven digit lottery number. The Program should generate seven random numbers, each in the range of 0 thorugh 9, and assign each number to a random list element.  (random numbers were discussed in chapter 5). Then write another loop that displays the contents of the list. "
   ]
  },
  {
   "cell_type": "code",
   "execution_count": null,
   "id": "a5500c7b",
   "metadata": {},
   "outputs": [],
   "source": []
  }
 ],
 "metadata": {
  "kernelspec": {
   "display_name": "Python 3 (ipykernel)",
   "language": "python",
   "name": "python3"
  },
  "language_info": {
   "codemirror_mode": {
    "name": "ipython",
    "version": 3
   },
   "file_extension": ".py",
   "mimetype": "text/x-python",
   "name": "python",
   "nbconvert_exporter": "python",
   "pygments_lexer": "ipython3",
   "version": "3.10.9"
  }
 },
 "nbformat": 4,
 "nbformat_minor": 5
}
