{
 "cells": [
  {
   "cell_type": "markdown",
   "id": "9b7349ab",
   "metadata": {},
   "source": [
    "# Chapter 7 Coding Set "
   ]
  },
  {
   "cell_type": "markdown",
   "id": "dc38feb3",
   "metadata": {},
   "source": [
    "## (Happy 4th of July Everyone!)"
   ]
  },
  {
   "cell_type": "markdown",
   "id": "8c31cacd",
   "metadata": {},
   "source": [
    "### Algorithm Workbench: (Any two Questions) "
   ]
  },
  {
   "cell_type": "markdown",
   "id": "04e81c0b",
   "metadata": {},
   "source": [
    "Question 1: Write a statement that creates a list with the followin strings: 'Einstein', 'Newton', 'Corernicus', and 'Kepler'. "
   ]
  },
  {
   "cell_type": "code",
   "execution_count": null,
   "id": "ece25e1e",
   "metadata": {},
   "outputs": [],
   "source": []
  },
  {
   "cell_type": "markdown",
   "id": "9be960a1",
   "metadata": {},
   "source": [
    "Question 7: What will the following Code print? "
   ]
  },
  {
   "cell_type": "markdown",
   "id": "d853573c",
   "metadata": {},
   "source": [
    "Hypothesis: "
   ]
  },
  {
   "cell_type": "code",
   "execution_count": null,
   "id": "7c3b76d1",
   "metadata": {},
   "outputs": [],
   "source": []
  },
  {
   "cell_type": "markdown",
   "id": "7051e1e9",
   "metadata": {},
   "source": [
    "### Programming Exercises ( 4 Questions) "
   ]
  },
  {
   "cell_type": "markdown",
   "id": "265b84a0",
   "metadata": {},
   "source": [
    "Question 1: (Required) Total Sales - Design a program that asks the user to enter a store's sales for each dat of the week. The amounts should be stored in a list. Use a loop to calculate the total sales for the week and display the result. "
   ]
  },
  {
   "cell_type": "code",
   "execution_count": null,
   "id": "0d1185b9",
   "metadata": {},
   "outputs": [],
   "source": []
  },
  {
   "cell_type": "markdown",
   "id": "3def346f",
   "metadata": {},
   "source": [
    "Question 14: (required) Expense Pie Chart - Create a text file that contained your expenses for last month in the follwing categories: \n",
    "\n",
    "- Rent \n",
    "- Gas \n",
    "- Food \n",
    "- Clothing \n",
    "- Car payment \n",
    "- Misc \n",
    "\n",
    "Write a Python program that reads the data from the file and uses matplotlib 6o plot a pie chart showing how you spend your money "
   ]
  },
  {
   "cell_type": "code",
   "execution_count": null,
   "id": "105903c2",
   "metadata": {},
   "outputs": [],
   "source": []
  },
  {
   "cell_type": "markdown",
   "id": "d0fb3a88",
   "metadata": {},
   "source": [
    "Question 13: Magic 8 Ball - Write a program that simulates a Magic 8 Ball.The file from this book contains 12 responses, such as \"i don't think so\", \"yes of course!\", and \"I'm not sure\". The  program shouuld read the responses from the file int a list. it should prompt the user to ask a question, then displau one of the responses, randomly selected from the list. The program should repeat until the user is ready to quit. "
   ]
  },
  {
   "cell_type": "code",
   "execution_count": null,
   "id": "c3ae0b96",
   "metadata": {},
   "outputs": [],
   "source": []
  },
  {
   "cell_type": "markdown",
   "id": "100c321b",
   "metadata": {},
   "source": [
    "Question 2: Lotteru Number Generator- Design a program that denerates a seven digit lottery number. The Program should generate seven random numbers, each in the range of 0 thorugh 9, and assign each number to a random list element.  (random numbers were discussed in chapter 5). Then write another loop that displays the contents of the list. "
   ]
  },
  {
   "cell_type": "code",
   "execution_count": null,
   "id": "8959d9d7",
   "metadata": {},
   "outputs": [],
   "source": []
  }
 ],
 "metadata": {
  "kernelspec": {
   "display_name": "Python 3 (ipykernel)",
   "language": "python",
   "name": "python3"
  },
  "language_info": {
   "codemirror_mode": {
    "name": "ipython",
    "version": 3
   },
   "file_extension": ".py",
   "mimetype": "text/x-python",
   "name": "python",
   "nbconvert_exporter": "python",
   "pygments_lexer": "ipython3",
   "version": "3.10.9"
  }
 },
 "nbformat": 4,
 "nbformat_minor": 5
}
