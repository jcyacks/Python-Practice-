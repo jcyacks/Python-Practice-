{
 "cells": [
  {
   "cell_type": "markdown",
   "id": "a1c9d19f",
   "metadata": {},
   "source": [
    "# Chapter 7 Coding Set "
   ]
  },
  {
   "cell_type": "markdown",
   "id": "a000aacf",
   "metadata": {},
   "source": [
    "## (Happy 4th of July Everyone!)"
   ]
  },
  {
   "cell_type": "markdown",
   "id": "a2603185",
   "metadata": {},
   "source": [
    "### Algorithm Workbench: (Any two Questions) "
   ]
  },
  {
   "cell_type": "markdown",
   "id": "5831bedd",
   "metadata": {},
   "source": [
    "Question 1: Write a statement that creates a list with the following strings: 'Einstein', 'Newton', 'Corernicus', and 'Kepler'. "
   ]
  },
  {
   "cell_type": "code",
   "execution_count": 1,
   "id": "c57fc583",
   "metadata": {},
   "outputs": [
    {
     "name": "stdout",
     "output_type": "stream",
     "text": [
      "['Einstein', 'Newton', 'Copernicus', 'Kepler']\n"
     ]
    }
   ],
   "source": [
    "# List of scientists names \n",
    "scientists_list = ['Einstein', 'Newton', 'Copernicus', 'Kepler']\n",
    "\n",
    "#print names\n",
    "print(scientists_list)"
   ]
  },
  {
   "cell_type": "markdown",
   "id": "76739268",
   "metadata": {},
   "source": [
    "Question 7: What will the following Code print? "
   ]
  },
  {
   "cell_type": "markdown",
   "id": "70014fce",
   "metadata": {},
   "source": [
    "Hypothesis: [40, 50, 60, 10, 20, 30]"
   ]
  },
  {
   "cell_type": "code",
   "execution_count": 2,
   "id": "5ab1689a",
   "metadata": {
    "scrolled": true
   },
   "outputs": [
    {
     "name": "stdout",
     "output_type": "stream",
     "text": [
      "[40, 50, 60, 10, 20, 30]\n"
     ]
    }
   ],
   "source": [
    "#code from book\n",
    "list1 = [40, 50, 60 ]\n",
    "list2 = [10, 20, 30 ]\n",
    "list3 = list1 + list2 \n",
    "#print the list3 \n",
    "print(list3)\n",
    "#my hypothesis was accurate because the '+' adds the lists together it \n",
    "#does not add the numbers together"
   ]
  },
  {
   "cell_type": "markdown",
   "id": "93b5e31a",
   "metadata": {},
   "source": [
    "### Programming Exercises ( 4 Questions) "
   ]
  },
  {
   "cell_type": "markdown",
   "id": "4e3df92a",
   "metadata": {},
   "source": [
    "Question 1: (Required) Total Sales - Design a program that asks the user to enter a store's sales for each dat of the week. The amounts should be stored in a list. Use a loop to calculate the total sales for the week and display the result. "
   ]
  },
  {
   "cell_type": "code",
   "execution_count": 3,
   "id": "fd797b1e",
   "metadata": {
    "scrolled": true
   },
   "outputs": [
    {
     "name": "stdout",
     "output_type": "stream",
     "text": [
      "Enter sales for day1:10\n",
      "Enter sales for day2:10\n",
      "Enter sales for day3:10\n",
      "Enter sales for day4:10\n",
      "Enter sales for day5:10\n",
      "Enter sales for day6:10\n",
      "Enter sales for day7:10\n",
      "The total sales in  70.0\n"
     ]
    }
   ],
   "source": [
    "#create the empty list to store the sales for the week \n",
    "salelist = []\n",
    "#set the range to enter a sales number for each day \n",
    "for i in range(0,7):\n",
    "    #create the float to add number into the empty list \n",
    "    s = float(input('Enter sales for day' +str(i+1)+':'))\n",
    "    #I had to use Chat GBT here because I had an error in my code \n",
    "    #turns out i simply overlooked a typo od \"appends\" instead of 'append'\n",
    "    salelist.append(s)\n",
    "    \n",
    "\n",
    "total = 0.0 \n",
    "for i in salelist: \n",
    "    #add each item to the sales list together to grab a total\n",
    "    total = total + i \n",
    "    #print the total sales for the week \n",
    "print('The total sales in ', total)\n",
    "    "
   ]
  },
  {
   "cell_type": "markdown",
   "id": "f8640295",
   "metadata": {},
   "source": [
    "Question 14: (required) Expense Pie Chart - Create a text file that contained your expenses for last month in the follwing categories: \n",
    "\n",
    "- Rent \n",
    "- Gas \n",
    "- Food \n",
    "- Clothing \n",
    "- Car payment \n",
    "- Misc \n",
    "\n",
    "Write a Python program that reads the data from the file and uses matplotlib 6o plot a pie chart showing how you spend your money "
   ]
  },
  {
   "cell_type": "code",
   "execution_count": 6,
   "id": "fc8f8b29",
   "metadata": {},
   "outputs": [
    {
     "name": "stdout",
     "output_type": "stream",
     "text": [
      "Enter the name of file:  filename\n"
     ]
    },
    {
     "ename": "FileNotFoundError",
     "evalue": "[Errno 2] No such file or directory: 'filename'",
     "output_type": "error",
     "traceback": [
      "\u001b[1;31m---------------------------------------------------------------------------\u001b[0m",
      "\u001b[1;31mFileNotFoundError\u001b[0m                         Traceback (most recent call last)",
      "Cell \u001b[1;32mIn[6], line 8\u001b[0m\n\u001b[0;32m      5\u001b[0m filename \u001b[38;5;241m=\u001b[39m \u001b[38;5;28minput\u001b[39m(\u001b[38;5;124m'\u001b[39m\u001b[38;5;124mEnter the name of file:  \u001b[39m\u001b[38;5;124m'\u001b[39m)\n\u001b[0;32m      7\u001b[0m \u001b[38;5;66;03m#open the file in read mode \u001b[39;00m\n\u001b[1;32m----> 8\u001b[0m fptr \u001b[38;5;241m=\u001b[39m \u001b[38;5;28;43mopen\u001b[39;49m\u001b[43m(\u001b[49m\u001b[43mfilename\u001b[49m\u001b[43m,\u001b[49m\u001b[43m \u001b[49m\u001b[38;5;124;43m'\u001b[39;49m\u001b[38;5;124;43mr\u001b[39;49m\u001b[38;5;124;43m'\u001b[39;49m\u001b[43m)\u001b[49m\n\u001b[0;32m     10\u001b[0m \u001b[38;5;66;03m#set the categories of expenses \u001b[39;00m\n\u001b[0;32m     11\u001b[0m categories \u001b[38;5;241m=\u001b[39m [ \u001b[38;5;124m'\u001b[39m\u001b[38;5;124mRent\u001b[39m\u001b[38;5;124m'\u001b[39m, \u001b[38;5;124m'\u001b[39m\u001b[38;5;124mGas\u001b[39m\u001b[38;5;124m'\u001b[39m, \u001b[38;5;124m'\u001b[39m\u001b[38;5;124mFood\u001b[39m\u001b[38;5;124m'\u001b[39m, \u001b[38;5;124m'\u001b[39m\u001b[38;5;124mClothing\u001b[39m\u001b[38;5;124m'\u001b[39m, \u001b[38;5;124m'\u001b[39m\u001b[38;5;124mCar Payment\u001b[39m\u001b[38;5;124m'\u001b[39m, \u001b[38;5;124m'\u001b[39m\u001b[38;5;124mMisc.\u001b[39m\u001b[38;5;124m'\u001b[39m]\n",
      "File \u001b[1;32m~\\anaconda3\\lib\\site-packages\\IPython\\core\\interactiveshell.py:282\u001b[0m, in \u001b[0;36m_modified_open\u001b[1;34m(file, *args, **kwargs)\u001b[0m\n\u001b[0;32m    275\u001b[0m \u001b[38;5;28;01mif\u001b[39;00m file \u001b[38;5;129;01min\u001b[39;00m {\u001b[38;5;241m0\u001b[39m, \u001b[38;5;241m1\u001b[39m, \u001b[38;5;241m2\u001b[39m}:\n\u001b[0;32m    276\u001b[0m     \u001b[38;5;28;01mraise\u001b[39;00m \u001b[38;5;167;01mValueError\u001b[39;00m(\n\u001b[0;32m    277\u001b[0m         \u001b[38;5;124mf\u001b[39m\u001b[38;5;124m\"\u001b[39m\u001b[38;5;124mIPython won\u001b[39m\u001b[38;5;124m'\u001b[39m\u001b[38;5;124mt let you open fd=\u001b[39m\u001b[38;5;132;01m{\u001b[39;00mfile\u001b[38;5;132;01m}\u001b[39;00m\u001b[38;5;124m by default \u001b[39m\u001b[38;5;124m\"\u001b[39m\n\u001b[0;32m    278\u001b[0m         \u001b[38;5;124m\"\u001b[39m\u001b[38;5;124mas it is likely to crash IPython. If you know what you are doing, \u001b[39m\u001b[38;5;124m\"\u001b[39m\n\u001b[0;32m    279\u001b[0m         \u001b[38;5;124m\"\u001b[39m\u001b[38;5;124myou can use builtins\u001b[39m\u001b[38;5;124m'\u001b[39m\u001b[38;5;124m open.\u001b[39m\u001b[38;5;124m\"\u001b[39m\n\u001b[0;32m    280\u001b[0m     )\n\u001b[1;32m--> 282\u001b[0m \u001b[38;5;28;01mreturn\u001b[39;00m io_open(file, \u001b[38;5;241m*\u001b[39margs, \u001b[38;5;241m*\u001b[39m\u001b[38;5;241m*\u001b[39mkwargs)\n",
      "\u001b[1;31mFileNotFoundError\u001b[0m: [Errno 2] No such file or directory: 'filename'"
     ]
    }
   ],
   "source": [
    "#import myplotlib in order to create the graphs needed \n",
    "import matplotlib.pyplot as plt \n",
    "\n",
    "#Gather file name from user \n",
    "filename = input('Enter the name of file:  ')\n",
    "\n",
    "#open the file in read mode \n",
    "fptr = open(filename, 'r')\n",
    "\n",
    "#set the categories of expenses \n",
    "categories = [ 'Rent', 'Gas', 'Food', 'Clothing', 'Car Payment', 'Misc.']\n",
    "\n",
    "#store the expenses in the expense categories \n",
    "expenses =[]\n",
    "for line in fptr:\n",
    "     #add the current amounts to the expenses \n",
    "    expenses.append(int(line))\n",
    "    \n",
    "############strng = fptr.read()\n",
    "\n",
    "############read the file on each line \n",
    "#for line in stng.split('\\n'):\n",
    "    \n",
    "    \n",
    "\n",
    "#set the colors for pie chart \n",
    "colors = ['gold', 'yellow', 'green', 'purple', 'blue', 'red']\n",
    "#plot the pie chart \n",
    "plt.pie(expenses, labels = categories, colors=colors, autopct ='%1.1f%%', shadow=True, startangle=140 )\n",
    "\n",
    "#set the axis as equal \n",
    "plt.axes('equal')\n",
    "\n",
    "#show the chart\n",
    "plt.show()"
   ]
  },
  {
   "cell_type": "markdown",
   "id": "b066f6f7",
   "metadata": {},
   "source": [
    "Question 13: Magic 8 Ball - Write a program that simulates a Magic 8 Ball.The file from this book contains 12 responses, such as \"i don't think so\", \"yes of course!\", and \"I'm not sure\". The  program shouuld read the responses from the file int a list. it should prompt the user to ask a question, then displau one of the responses, randomly selected from the list. The program should repeat until the user is ready to quit. "
   ]
  },
  {
   "cell_type": "code",
   "execution_count": null,
   "id": "0f4b3e37",
   "metadata": {},
   "outputs": [],
   "source": []
  },
  {
   "cell_type": "markdown",
   "id": "6209e4bc",
   "metadata": {},
   "source": [
    "Question 2: Lottery Number Generator- Design a program that denerates a seven digit lottery number. The Program should generate seven random numbers, each in the range of 0 thorugh 9, and assign each number to a random list element.  (random numbers were discussed in chapter 5). Then write another loop that displays the contents of the list. "
   ]
  },
  {
   "cell_type": "code",
   "execution_count": null,
   "id": "0b61101b",
   "metadata": {},
   "outputs": [],
   "source": []
  }
 ],
 "metadata": {
  "kernelspec": {
   "display_name": "Python 3 (ipykernel)",
   "language": "python",
   "name": "python3"
  },
  "language_info": {
   "codemirror_mode": {
    "name": "ipython",
    "version": 3
   },
   "file_extension": ".py",
   "mimetype": "text/x-python",
   "name": "python",
   "nbconvert_exporter": "python",
   "pygments_lexer": "ipython3",
   "version": "3.10.9"
  }
 },
 "nbformat": 4,
 "nbformat_minor": 5
}
