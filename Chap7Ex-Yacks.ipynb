{
 "cells": [
  {
   "cell_type": "markdown",
   "id": "90b0126b",
   "metadata": {},
   "source": [
    "# Chapter 7 Coding Set "
   ]
  },
  {
   "cell_type": "markdown",
   "id": "48875654",
   "metadata": {},
   "source": [
    "## (Happy 4th of July Everyone!)"
   ]
  },
  {
   "cell_type": "markdown",
   "id": "8f0eb964",
   "metadata": {},
   "source": [
    "### Algorithm Workbench: (Any two Questions) "
   ]
  },
  {
   "cell_type": "markdown",
   "id": "d54a3543",
   "metadata": {},
   "source": [
    "Question 1: Write a statement that creates a list with the following strings: 'Einstein', 'Newton', 'Corernicus', and 'Kepler'. "
   ]
  },
  {
   "cell_type": "code",
   "execution_count": 1,
   "id": "7c12bf0c",
   "metadata": {},
   "outputs": [
    {
     "name": "stdout",
     "output_type": "stream",
     "text": [
      "['Einstein', 'Newton', 'Copernicus', 'Kepler']\n"
     ]
    }
   ],
   "source": [
    "# List of scientists names \n",
    "scientists_list = ['Einstein', 'Newton', 'Copernicus', 'Kepler']\n",
    "\n",
    "#print names\n",
    "print(scientists_list)"
   ]
  },
  {
   "cell_type": "markdown",
   "id": "0660c8bc",
   "metadata": {},
   "source": [
    "Question 7: What will the following Code print? "
   ]
  },
  {
   "cell_type": "markdown",
   "id": "e6b139d1",
   "metadata": {},
   "source": [
    "Hypothesis: [40, 50, 60, 10, 20, 30]"
   ]
  },
  {
   "cell_type": "code",
   "execution_count": 2,
   "id": "864ca817",
   "metadata": {
    "scrolled": true
   },
   "outputs": [
    {
     "name": "stdout",
     "output_type": "stream",
     "text": [
      "[40, 50, 60, 10, 20, 30]\n"
     ]
    }
   ],
   "source": [
    "#code from book\n",
    "list1 = [40, 50, 60 ]\n",
    "list2 = [10, 20, 30 ]\n",
    "list3 = list1 + list2 \n",
    "#print the list3 \n",
    "print(list3)\n",
    "#my hypothesis was accurate because the '+' adds the lists together it \n",
    "#does not add the numbers together"
   ]
  },
  {
   "cell_type": "markdown",
   "id": "f15844eb",
   "metadata": {},
   "source": [
    "### Programming Exercises ( 4 Questions) "
   ]
  },
  {
   "cell_type": "markdown",
   "id": "3e4db283",
   "metadata": {},
   "source": [
    "Question 1: (Required) Total Sales - Design a program that asks the user to enter a store's sales for each dat of the week. The amounts should be stored in a list. Use a loop to calculate the total sales for the week and display the result. "
   ]
  },
  {
   "cell_type": "code",
   "execution_count": 3,
   "id": "7e4fcf39",
   "metadata": {
    "scrolled": true
   },
   "outputs": [
    {
     "name": "stdout",
     "output_type": "stream",
     "text": [
      "Enter sales for day1:10\n",
      "Enter sales for day2:10\n",
      "Enter sales for day3:10\n",
      "Enter sales for day4:10\n",
      "Enter sales for day5:10\n",
      "Enter sales for day6:10\n",
      "Enter sales for day7:10\n",
      "The total sales in  70.0\n"
     ]
    }
   ],
   "source": [
    "#create the empty list to store the sales for the week \n",
    "salelist = []\n",
    "#set the range to enter a sales number for each day \n",
    "for i in range(0,7):\n",
    "    #create the float to add number into the empty list \n",
    "    s = float(input('Enter sales for day' +str(i+1)+':'))\n",
    "    #I had to use Chat GBT here because I had an error in my code \n",
    "    #turns out i simply overlooked a typo od \"appends\" instead of 'append'\n",
    "    salelist.append(s)\n",
    "    \n",
    "\n",
    "total = 0.0 \n",
    "for i in salelist: \n",
    "    #add each item to the sales list together to grab a total\n",
    "    total = total + i \n",
    "    #print the total sales for the week \n",
    "print('The total sales in ', total)\n",
    "    "
   ]
  },
  {
   "cell_type": "markdown",
   "id": "bcd99ce6",
   "metadata": {},
   "source": [
    "Question 14: (required) Expense Pie Chart - Create a text file that contained your expenses for last month in the follwing categories: \n",
    "\n",
    "- Rent \n",
    "- Gas \n",
    "- Food \n",
    "- Clothing \n",
    "- Car payment \n",
    "- Misc \n",
    "\n",
    "Write a Python program that reads the data from the file and uses matplotlib 6o plot a pie chart showing how you spend your money "
   ]
  },
  {
   "cell_type": "code",
   "execution_count": 5,
   "id": "8d3418d0",
   "metadata": {},
   "outputs": [
    {
     "name": "stdout",
     "output_type": "stream",
     "text": [
      "Enter the name of file: expenses.txt\n"
     ]
    },
    {
     "ename": "ValueError",
     "evalue": "invalid literal for int() with base 10: ''",
     "output_type": "error",
     "traceback": [
      "\u001b[1;31m---------------------------------------------------------------------------\u001b[0m",
      "\u001b[1;31mValueError\u001b[0m                                Traceback (most recent call last)",
      "Cell \u001b[1;32mIn[5], line 22\u001b[0m\n\u001b[0;32m     18\u001b[0m \u001b[38;5;66;03m#read the file on each line \u001b[39;00m\n\u001b[0;32m     19\u001b[0m \u001b[38;5;28;01mfor\u001b[39;00m line \u001b[38;5;129;01min\u001b[39;00m strng\u001b[38;5;241m.\u001b[39msplit(\u001b[38;5;124m'\u001b[39m\u001b[38;5;130;01m\\n\u001b[39;00m\u001b[38;5;124m'\u001b[39m):\n\u001b[0;32m     20\u001b[0m     \n\u001b[0;32m     21\u001b[0m     \u001b[38;5;66;03m#add expenses \u001b[39;00m\n\u001b[1;32m---> 22\u001b[0m         expenses\u001b[38;5;241m.\u001b[39mappend(\u001b[38;5;28;43mint\u001b[39;49m\u001b[43m(\u001b[49m\u001b[43mline\u001b[49m\u001b[43m)\u001b[49m )\n\u001b[0;32m     24\u001b[0m \u001b[38;5;66;03m#set the colors for pie chart \u001b[39;00m\n\u001b[0;32m     25\u001b[0m colors \u001b[38;5;241m=\u001b[39m [\u001b[38;5;124m'\u001b[39m\u001b[38;5;124mgold\u001b[39m\u001b[38;5;124m'\u001b[39m, \u001b[38;5;124m'\u001b[39m\u001b[38;5;124myellow\u001b[39m\u001b[38;5;124m'\u001b[39m, \u001b[38;5;124m'\u001b[39m\u001b[38;5;124mgreen\u001b[39m\u001b[38;5;124m'\u001b[39m, \u001b[38;5;124m'\u001b[39m\u001b[38;5;124mpurple\u001b[39m\u001b[38;5;124m'\u001b[39m, \u001b[38;5;124m'\u001b[39m\u001b[38;5;124mblue\u001b[39m\u001b[38;5;124m'\u001b[39m, \u001b[38;5;124m'\u001b[39m\u001b[38;5;124mred\u001b[39m\u001b[38;5;124m'\u001b[39m]\n",
      "\u001b[1;31mValueError\u001b[0m: invalid literal for int() with base 10: ''"
     ]
    }
   ],
   "source": [
    "#import myplotlib in order to create the graphs needed \n",
    "import matplotlib.pyplot as plt \n",
    "\n",
    "filename = input('Enter the name of file: ')\n",
    "\n",
    "#open the file in read mode \n",
    "fptr = open(filename, 'r')\n",
    "\n",
    "#set the categories of expenses \n",
    "categories = [ 'Rent', 'Gas', 'Food', 'Clothing', 'Car Payment', 'Misc.']\n",
    "\n",
    "#store the expenses in the expense categories \n",
    "expenses =[]\n",
    "\n",
    "#read the content file     \n",
    "strng = fptr.read()\n",
    "\n",
    "#read the file on each line \n",
    "for line in strng.split('\\n'):\n",
    "    \n",
    "    #add expenses \n",
    "        expenses.append(int(line) )\n",
    "\n",
    "#set the colors for pie chart \n",
    "colors = ['gold', 'yellow', 'green', 'purple', 'blue', 'red']\n",
    "\n",
    "#plot the pie chart \n",
    "plt.pie(expenses, labels = categories, colors=colors, autopct ='%1.1f%%', shadow=True, startangle=140 )\n",
    "\n",
    "#set the axis as equal \n",
    "plt.axes('equal')\n",
    "\n",
    "#show the chart\n",
    "plt.show()"
   ]
  },
  {
   "cell_type": "code",
   "execution_count": null,
   "id": "b037acc5",
   "metadata": {},
   "outputs": [],
   "source": [
    "import matplotlib.pyplot as plt \n",
    "\n",
    "#read expenses from file \n",
    "with open('expenses.txt', 'w') as file: \n",
    "    expenses = [int(line.strip()) for line in file]\n",
    "    \n",
    "#set the categories \n",
    "categories = [ 'Rent', 'Gas', 'Food', 'Clothing', 'Car Payment', 'Misc.']\n",
    "\n",
    "#set colors for pie chart\n",
    "colors = ['gold', 'yellow', 'green', 'purple', 'blue', 'red']\n",
    "\n",
    "#plot the pie chart \n",
    "plt.pie(expenses, labels = categories, colors=colors, autopct ='%1.1f%%', shadow=True, startangle=140 )\n",
    "\n",
    "#set the axis as equal \n",
    "plt.axes('equal')\n",
    "\n",
    "#show the chart\n",
    "plt.show()\n"
   ]
  },
  {
   "cell_type": "markdown",
   "id": "3400ef50",
   "metadata": {},
   "source": [
    "Question 13: Magic 8 Ball - Write a program that simulates a Magic 8 Ball.The file from this book contains 12 responses, such as \"i don't think so\", \"yes of course!\", and \"I'm not sure\". The  program shouuld read the responses from the file int a list. it should prompt the user to ask a question, then displau one of the responses, randomly selected from the list. The program should repeat until the user is ready to quit. "
   ]
  },
  {
   "cell_type": "code",
   "execution_count": null,
   "id": "48d4f018",
   "metadata": {},
   "outputs": [],
   "source": []
  },
  {
   "cell_type": "markdown",
   "id": "9bff453e",
   "metadata": {},
   "source": [
    "Question 2: Lottery Number Generator- Design a program that denerates a seven digit lottery number. The Program should generate seven random numbers, each in the range of 0 thorugh 9, and assign each number to a random list element.  (random numbers were discussed in chapter 5). Then write another loop that displays the contents of the list. "
   ]
  },
  {
   "cell_type": "code",
   "execution_count": null,
   "id": "709bdf4a",
   "metadata": {},
   "outputs": [],
   "source": []
  }
 ],
 "metadata": {
  "kernelspec": {
   "display_name": "Python 3 (ipykernel)",
   "language": "python",
   "name": "python3"
  },
  "language_info": {
   "codemirror_mode": {
    "name": "ipython",
    "version": 3
   },
   "file_extension": ".py",
   "mimetype": "text/x-python",
   "name": "python",
   "nbconvert_exporter": "python",
   "pygments_lexer": "ipython3",
   "version": "3.10.9"
  }
 },
 "nbformat": 4,
 "nbformat_minor": 5
}
