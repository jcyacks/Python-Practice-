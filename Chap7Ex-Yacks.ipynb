{
 "cells": [
  {
   "cell_type": "markdown",
   "id": "934c9cc3",
   "metadata": {},
   "source": [
    "# Chapter 7 Coding Set "
   ]
  },
  {
   "cell_type": "markdown",
   "id": "5d65fbd1",
   "metadata": {},
   "source": [
    "## (Happy 4th of July Everyone!)"
   ]
  },
  {
   "cell_type": "markdown",
   "id": "1d150251",
   "metadata": {},
   "source": [
    "### Algorithm Workbench: (Any two Questions) "
   ]
  },
  {
   "cell_type": "markdown",
   "id": "e2f78188",
   "metadata": {},
   "source": [
    "Question 1: Write a statement that creates a list with the following strings: 'Einstein', 'Newton', 'Corernicus', and 'Kepler'. "
   ]
  },
  {
   "cell_type": "code",
   "execution_count": 3,
   "id": "ba61e3c9",
   "metadata": {},
   "outputs": [
    {
     "name": "stdout",
     "output_type": "stream",
     "text": [
      "['Einstein', 'Newton', 'Copernicus', 'Kepler']\n"
     ]
    }
   ],
   "source": [
    "# List of scientists names \n",
    "scientists_list = ['Einstein', 'Newton', 'Copernicus', 'Kepler']\n",
    "\n",
    "#print names\n",
    "print(scientists_list)"
   ]
  },
  {
   "cell_type": "markdown",
   "id": "a4ace5b1",
   "metadata": {},
   "source": [
    "Question 7: What will the following Code print? "
   ]
  },
  {
   "cell_type": "markdown",
   "id": "d91044d6",
   "metadata": {},
   "source": [
    "Hypothesis: [40, 50, 60, 10, 20, 30]"
   ]
  },
  {
   "cell_type": "code",
   "execution_count": 4,
   "id": "afa0681d",
   "metadata": {
    "scrolled": true
   },
   "outputs": [
    {
     "name": "stdout",
     "output_type": "stream",
     "text": [
      "[40, 50, 60, 10, 20, 30]\n"
     ]
    }
   ],
   "source": [
    "#code from book\n",
    "list1 = [40, 50, 60 ]\n",
    "list2 = [10, 20, 30 ]\n",
    "list3 = list1 + list2 \n",
    "#print the list3 \n",
    "print(list3)\n",
    "#my hypothesis was accurate because the '+' adds the lists together it \n",
    "#does not add the numbers together"
   ]
  },
  {
   "cell_type": "markdown",
   "id": "8547ea5f",
   "metadata": {},
   "source": [
    "### Programming Exercises ( 4 Questions) "
   ]
  },
  {
   "cell_type": "markdown",
   "id": "fed6d9d4",
   "metadata": {},
   "source": [
    "Question 1: (Required) Total Sales - Design a program that asks the user to enter a store's sales for each dat of the week. The amounts should be stored in a list. Use a loop to calculate the total sales for the week and display the result. "
   ]
  },
  {
   "cell_type": "code",
   "execution_count": null,
   "id": "9de610fc",
   "metadata": {},
   "outputs": [],
   "source": [
    "list_sales = []\n",
    "for i in range(0,7):\n",
    "    s = float(input('Enter sales for day' +str(i+1)+':'))\n",
    "    list_sales.appends(s)\n",
    "    \n",
    "total = 0.0 \n",
    "for i in list_sales: \n",
    "    total = total + i \n",
    "print('The total sales in ', total)\n",
    "    "
   ]
  },
  {
   "cell_type": "markdown",
   "id": "97d0601c",
   "metadata": {},
   "source": [
    "Question 14: (required) Expense Pie Chart - Create a text file that contained your expenses for last month in the follwing categories: \n",
    "\n",
    "- Rent \n",
    "- Gas \n",
    "- Food \n",
    "- Clothing \n",
    "- Car payment \n",
    "- Misc \n",
    "\n",
    "Write a Python program that reads the data from the file and uses matplotlib 6o plot a pie chart showing how you spend your money "
   ]
  },
  {
   "cell_type": "code",
   "execution_count": null,
   "id": "dd43501c",
   "metadata": {},
   "outputs": [],
   "source": []
  },
  {
   "cell_type": "markdown",
   "id": "1c24b68e",
   "metadata": {},
   "source": [
    "Question 13: Magic 8 Ball - Write a program that simulates a Magic 8 Ball.The file from this book contains 12 responses, such as \"i don't think so\", \"yes of course!\", and \"I'm not sure\". The  program shouuld read the responses from the file int a list. it should prompt the user to ask a question, then displau one of the responses, randomly selected from the list. The program should repeat until the user is ready to quit. "
   ]
  },
  {
   "cell_type": "code",
   "execution_count": null,
   "id": "40392e7d",
   "metadata": {},
   "outputs": [],
   "source": []
  },
  {
   "cell_type": "markdown",
   "id": "b91ec327",
   "metadata": {},
   "source": [
    "Question 2: Lotteru Number Generator- Design a program that denerates a seven digit lottery number. The Program should generate seven random numbers, each in the range of 0 thorugh 9, and assign each number to a random list element.  (random numbers were discussed in chapter 5). Then write another loop that displays the contents of the list. "
   ]
  },
  {
   "cell_type": "code",
   "execution_count": null,
   "id": "4838c0f1",
   "metadata": {},
   "outputs": [],
   "source": []
  }
 ],
 "metadata": {
  "kernelspec": {
   "display_name": "Python 3 (ipykernel)",
   "language": "python",
   "name": "python3"
  },
  "language_info": {
   "codemirror_mode": {
    "name": "ipython",
    "version": 3
   },
   "file_extension": ".py",
   "mimetype": "text/x-python",
   "name": "python",
   "nbconvert_exporter": "python",
   "pygments_lexer": "ipython3",
   "version": "3.10.9"
  }
 },
 "nbformat": 4,
 "nbformat_minor": 5
}
