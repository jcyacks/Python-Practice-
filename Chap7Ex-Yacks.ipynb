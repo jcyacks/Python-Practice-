{
 "cells": [
  {
   "cell_type": "markdown",
   "id": "e080bbee",
   "metadata": {},
   "source": [
    "# Chapter 7 Coding Set "
   ]
  },
  {
   "cell_type": "markdown",
   "id": "db87acad",
   "metadata": {},
   "source": [
    "## (Happy 4th of July Everyone!)"
   ]
  },
  {
   "cell_type": "markdown",
   "id": "73737b01",
   "metadata": {},
   "source": [
    "### Algorithm Workbench: (Any two Questions) "
   ]
  },
  {
   "cell_type": "markdown",
   "id": "233b59fa",
   "metadata": {},
   "source": [
    "Question 1: Write a statement that creates a list with the following strings: 'Einstein', 'Newton', 'Corernicus', and 'Kepler'. "
   ]
  },
  {
   "cell_type": "code",
   "execution_count": 1,
   "id": "95422fab",
   "metadata": {},
   "outputs": [
    {
     "name": "stdout",
     "output_type": "stream",
     "text": [
      "['Einstein', 'Newton', 'Copernicus', 'Kepler']\n"
     ]
    }
   ],
   "source": [
    "# List of scientists names \n",
    "scientists_list = ['Einstein', 'Newton', 'Copernicus', 'Kepler']\n",
    "\n",
    "#print names\n",
    "print(scientists_list)"
   ]
  },
  {
   "cell_type": "markdown",
   "id": "fb9a591c",
   "metadata": {},
   "source": [
    "Question 7: What will the following Code print? "
   ]
  },
  {
   "cell_type": "markdown",
   "id": "e4c8292b",
   "metadata": {},
   "source": [
    "Hypothesis: [40, 50, 60, 10, 20, 30]"
   ]
  },
  {
   "cell_type": "code",
   "execution_count": 2,
   "id": "96b398a4",
   "metadata": {
    "scrolled": true
   },
   "outputs": [
    {
     "name": "stdout",
     "output_type": "stream",
     "text": [
      "[40, 50, 60, 10, 20, 30]\n"
     ]
    }
   ],
   "source": [
    "#code from book\n",
    "list1 = [40, 50, 60 ]\n",
    "list2 = [10, 20, 30 ]\n",
    "list3 = list1 + list2 \n",
    "#print the list3 \n",
    "print(list3)\n",
    "#my hypothesis was accurate because the '+' adds the lists together it \n",
    "#does not add the numbers together"
   ]
  },
  {
   "cell_type": "markdown",
   "id": "cbc55040",
   "metadata": {},
   "source": [
    "### Programming Exercises ( 4 Questions) "
   ]
  },
  {
   "cell_type": "markdown",
   "id": "2b12cb3f",
   "metadata": {},
   "source": [
    "Question 1: (Required) Total Sales - Design a program that asks the user to enter a store's sales for each dat of the week. The amounts should be stored in a list. Use a loop to calculate the total sales for the week and display the result. "
   ]
  },
  {
   "cell_type": "code",
   "execution_count": 3,
   "id": "e2b4b1bf",
   "metadata": {
    "scrolled": true
   },
   "outputs": [
    {
     "name": "stdout",
     "output_type": "stream",
     "text": [
      "Enter sales for day1:1\n",
      "Enter sales for day2:1\n",
      "Enter sales for day3:1\n",
      "Enter sales for day4:1\n",
      "Enter sales for day5:1\n",
      "Enter sales for day6:1\n",
      "Enter sales for day7:1\n",
      "The total sales in  7.0\n"
     ]
    }
   ],
   "source": [
    "#create the empty list to store the sales for the week \n",
    "salelist = []\n",
    "#set the range to enter a sales number for each day \n",
    "for i in range(0,7):\n",
    "    #create the float to add number into the empty list \n",
    "    s = float(input('Enter sales for day' +str(i+1)+':'))\n",
    "    #I had to use Chat GBT here because I had an error in my code \n",
    "    #turns out i simply overlooked a typo od \"appends\" instead of 'append'\n",
    "    salelist.append(s)\n",
    "    \n",
    "\n",
    "total = 0.0 \n",
    "for i in salelist: \n",
    "    #add each item to the sales list together to grab a total\n",
    "    total = total + i \n",
    "    #print the total sales for the week \n",
    "print('The total sales in ', total)\n",
    "    "
   ]
  },
  {
   "cell_type": "markdown",
   "id": "876f66e4",
   "metadata": {},
   "source": [
    "Question 14: (required) Expense Pie Chart - Create a text file that contained your expenses for last month in the follwing categories: \n",
    "\n",
    "- Rent \n",
    "- Gas \n",
    "- Food \n",
    "- Clothing \n",
    "- Car payment \n",
    "- Misc \n",
    "\n",
    "Write a Python program that reads the data from the file and uses matplotlib 6o plot a pie chart showing how you spend your money "
   ]
  },
  {
   "cell_type": "code",
   "execution_count": 7,
   "id": "d868ee1a",
   "metadata": {},
   "outputs": [
    {
     "name": "stdout",
     "output_type": "stream",
     "text": [
      "expenses.txt file created successfully! Good Job!\n"
     ]
    },
    {
     "ename": "TypeError",
     "evalue": "ufunc 'isfinite' not supported for the input types, and the inputs could not be safely coerced to any supported types according to the casting rule ''safe''",
     "output_type": "error",
     "traceback": [
      "\u001b[1;31m---------------------------------------------------------------------------\u001b[0m",
      "\u001b[1;31mTypeError\u001b[0m                                 Traceback (most recent call last)",
      "Cell \u001b[1;32mIn[7], line 43\u001b[0m\n\u001b[0;32m     40\u001b[0m plt\u001b[38;5;241m.\u001b[39mpie(expenses, labels \u001b[38;5;241m=\u001b[39m categories, colors\u001b[38;5;241m=\u001b[39mcolors, autopct \u001b[38;5;241m=\u001b[39m\u001b[38;5;124m'\u001b[39m\u001b[38;5;132;01m%1.1f\u001b[39;00m\u001b[38;5;132;01m%%\u001b[39;00m\u001b[38;5;124m'\u001b[39m, shadow\u001b[38;5;241m=\u001b[39m\u001b[38;5;28;01mTrue\u001b[39;00m, startangle\u001b[38;5;241m=\u001b[39m\u001b[38;5;241m140\u001b[39m )\n\u001b[0;32m     42\u001b[0m \u001b[38;5;66;03m#set the axis as equal \u001b[39;00m\n\u001b[1;32m---> 43\u001b[0m \u001b[43mplt\u001b[49m\u001b[38;5;241;43m.\u001b[39;49m\u001b[43maxes\u001b[49m\u001b[43m(\u001b[49m\u001b[38;5;124;43m'\u001b[39;49m\u001b[38;5;124;43mequal\u001b[39;49m\u001b[38;5;124;43m'\u001b[39;49m\u001b[43m)\u001b[49m\n\u001b[0;32m     45\u001b[0m \u001b[38;5;66;03m#show the chart\u001b[39;00m\n\u001b[0;32m     46\u001b[0m plt\u001b[38;5;241m.\u001b[39mshow()\n",
      "File \u001b[1;32m~\\anaconda3\\lib\\site-packages\\matplotlib\\pyplot.py:1099\u001b[0m, in \u001b[0;36maxes\u001b[1;34m(arg, **kwargs)\u001b[0m\n\u001b[0;32m   1097\u001b[0m         \u001b[38;5;28;01mreturn\u001b[39;00m fig\u001b[38;5;241m.\u001b[39madd_axes(pos, \u001b[38;5;241m*\u001b[39m\u001b[38;5;241m*\u001b[39mkwargs)\n\u001b[0;32m   1098\u001b[0m \u001b[38;5;28;01melse\u001b[39;00m:\n\u001b[1;32m-> 1099\u001b[0m     \u001b[38;5;28;01mreturn\u001b[39;00m fig\u001b[38;5;241m.\u001b[39madd_axes(arg, \u001b[38;5;241m*\u001b[39m\u001b[38;5;241m*\u001b[39mkwargs)\n",
      "File \u001b[1;32m~\\anaconda3\\lib\\site-packages\\matplotlib\\figure.py:607\u001b[0m, in \u001b[0;36mFigureBase.add_axes\u001b[1;34m(self, *args, **kwargs)\u001b[0m\n\u001b[0;32m    605\u001b[0m \u001b[38;5;28;01melse\u001b[39;00m:\n\u001b[0;32m    606\u001b[0m     rect \u001b[38;5;241m=\u001b[39m args[\u001b[38;5;241m0\u001b[39m]\n\u001b[1;32m--> 607\u001b[0m     \u001b[38;5;28;01mif\u001b[39;00m \u001b[38;5;129;01mnot\u001b[39;00m \u001b[43mnp\u001b[49m\u001b[38;5;241;43m.\u001b[39;49m\u001b[43misfinite\u001b[49m\u001b[43m(\u001b[49m\u001b[43mrect\u001b[49m\u001b[43m)\u001b[49m\u001b[38;5;241m.\u001b[39mall():\n\u001b[0;32m    608\u001b[0m         \u001b[38;5;28;01mraise\u001b[39;00m \u001b[38;5;167;01mValueError\u001b[39;00m(\u001b[38;5;124m'\u001b[39m\u001b[38;5;124mall entries in rect must be finite \u001b[39m\u001b[38;5;124m'\u001b[39m\n\u001b[0;32m    609\u001b[0m                          \u001b[38;5;124m'\u001b[39m\u001b[38;5;124mnot \u001b[39m\u001b[38;5;132;01m{}\u001b[39;00m\u001b[38;5;124m'\u001b[39m\u001b[38;5;241m.\u001b[39mformat(rect))\n\u001b[0;32m    610\u001b[0m     projection_class, pkw \u001b[38;5;241m=\u001b[39m \u001b[38;5;28mself\u001b[39m\u001b[38;5;241m.\u001b[39m_process_projection_requirements(\n\u001b[0;32m    611\u001b[0m         \u001b[38;5;241m*\u001b[39margs, \u001b[38;5;241m*\u001b[39m\u001b[38;5;241m*\u001b[39mkwargs)\n",
      "\u001b[1;31mTypeError\u001b[0m: ufunc 'isfinite' not supported for the input types, and the inputs could not be safely coerced to any supported types according to the casting rule ''safe''"
     ]
    },
    {
     "data": {
      "image/png": "[encoded data removed]",
      "text/plain": [
       "<Figure size 640x480 with 1 Axes>"
      ]
     },
     "metadata": {},
     "output_type": "display_data"
    }
   ],
   "source": [
    "#set my expenses \n",
    "expenses = [1200, 300, 100, 50, 183, 100] \n",
    "\n",
    "#set the categories of expenses \n",
    "categories = [ 'Rent', 'Gas', 'Food', 'Clothing', 'Car Payment', 'Misc.']\n",
    "\n",
    "#create the file \n",
    "with open('expenses.txt', 'w') as file: \n",
    "    #add expenses \n",
    "    for expense in expenses: \n",
    "        file.write(str(expense) + '\\n')\n",
    "        \n",
    "#print a message to confirm file created \n",
    "print('expenses.txt file created successfully! Good Job!')\n",
    "\n",
    "import matplotlib.pyplot as plt \n",
    "\n",
    "expenses = []\n",
    "\n",
    "#read expenses from file \n",
    "with open('expenses.txt', 'r') as file: \n",
    "    for line in file: \n",
    "        line = line.strip()\n",
    "        if line: \n",
    "            try: \n",
    "                expense = int(line)\n",
    "                expenses.append(expense)\n",
    "            except ValueError:\n",
    "                print('invalid expense value')\n",
    "    \n",
    "#set the categories \n",
    "categories = [ 'Rent', 'Gas', 'Food', 'Clothing', 'Car Payment', 'Misc.']\n",
    "\n",
    "#set colors for pie chart\n",
    "colors = ['gold', 'yellow', 'green', 'purple', 'blue', 'red']\n",
    "\n",
    "if expenses:\n",
    "    \n",
    "    #plot the pie chart \n",
    "    plt.pie(expenses, labels = categories, colors=colors, autopct ='%1.1f%%', shadow=True, startangle=140 )\n",
    "\n",
    "    #set the axis as equal \n",
    "    plt.axes('equal')\n",
    "\n",
    "    #show the chart\n",
    "    plt.show()\n",
    "else: \n",
    "    print('No Expenses Found')\n",
    "    \n",
    "#So my graph was drawn, however, I have errors that I am struggling to fix. \n",
    "#however, the question in answered\n"
   ]
  },
  {
   "cell_type": "markdown",
   "id": "7b8654f5",
   "metadata": {},
   "source": [
    "Question 13: Magic 8 Ball - Write a program that simulates a Magic 8 Ball.The file from this book contains 12 responses, such as \"i don't think so\", \"yes of course!\", and \"I'm not sure\". The  program shouuld read the responses from the file int a list. it should prompt the user to ask a question, then displau one of the responses, randomly selected from the list. The program should repeat until the user is ready to quit. "
   ]
  },
  {
   "cell_type": "code",
   "execution_count": null,
   "id": "73af4c64",
   "metadata": {},
   "outputs": [],
   "source": []
  },
  {
   "cell_type": "markdown",
   "id": "9ace001b",
   "metadata": {},
   "source": [
    "Question 2: Lottery Number Generator- Design a program that denerates a seven digit lottery number. The Program should generate seven random numbers, each in the range of 0 thorugh 9, and assign each number to a random list element.  (random numbers were discussed in chapter 5). Then write another loop that displays the contents of the list. "
   ]
  },
  {
   "cell_type": "code",
   "execution_count": 21,
   "id": "40360143",
   "metadata": {},
   "outputs": [
    {
     "name": "stdout",
     "output_type": "stream",
     "text": [
      "0 6 7 6 8 1 0 \n"
     ]
    }
   ],
   "source": [
    "import random\n",
    "\n",
    "lotto_num = []\n",
    "#generate random number\n",
    "for i in range(7):\n",
    "    lotto_num.append(random.randint(0, 9))\n",
    "    \n",
    "#display the random lottery number \n",
    "for i in lotto_num:\n",
    "    print(i,end=' ')\n",
    "    #print numbers \n",
    "print()"
   ]
  }
 ],
 "metadata": {
  "kernelspec": {
   "display_name": "Python 3 (ipykernel)",
   "language": "python",
   "name": "python3"
  },
  "language_info": {
   "codemirror_mode": {
    "name": "ipython",
    "version": 3
   },
   "file_extension": ".py",
   "mimetype": "text/x-python",
   "name": "python",
   "nbconvert_exporter": "python",
   "pygments_lexer": "ipython3",
   "version": "3.10.9"
  }
 },
 "nbformat": 4,
 "nbformat_minor": 5
}
