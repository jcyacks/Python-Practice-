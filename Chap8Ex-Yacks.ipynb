{
 "cells": [
  {
   "cell_type": "markdown",
   "id": "15ddd693",
   "metadata": {},
   "source": [
    "# Coding Set 8 "
   ]
  },
  {
   "cell_type": "markdown",
   "id": "99519eac",
   "metadata": {},
   "source": [
    "## Algorithm Workbench "
   ]
  },
  {
   "cell_type": "markdown",
   "id": "c34cc05a",
   "metadata": {},
   "source": [
    "Question 6: Write Code  that makes a copy of a string with all occurrences of the lowercase letter 't' converted to uppercase "
   ]
  },
  {
   "cell_type": "code",
   "execution_count": 14,
   "id": "cbe06e15",
   "metadata": {},
   "outputs": [
    {
     "name": "stdout",
     "output_type": "stream",
     "text": [
      "t T\n"
     ]
    }
   ],
   "source": [
    "#definining the main function \n",
    "def main():\n",
    "    \n",
    "    #defining the letter as a lower case \n",
    "    letter = 't'  \n",
    "    #printing the lower case letter and concerting to uppercase \n",
    "    print(letter, letter.upper())\n",
    "    \n",
    "#calling the main to execute code \n",
    "main()\n",
    "    "
   ]
  },
  {
   "cell_type": "markdown",
   "id": "7068a846",
   "metadata": {},
   "source": [
    "Question 5: Write a function that accpets a string as an argument and returns true if the arguement ends with the substring '.com'. Otherwise, the function should return false. "
   ]
  },
  {
   "cell_type": "code",
   "execution_count": 22,
   "id": "ababdf9d",
   "metadata": {},
   "outputs": [
    {
     "name": "stdout",
     "output_type": "stream",
     "text": [
      "Enter String Name: http://localhost:8888/notebooks/OneDrive/Documents/GitHub/Python-Practice-/Chap8Ex-Yacks.ipynb\n",
      "False, substring does not end in .com\n"
     ]
    }
   ],
   "source": [
    "#define the main function to call later \n",
    "def main():\n",
    "    #Asking user for the string name \n",
    "    string_name = input('Enter String Name: ')\n",
    "    #looking for end of string to see the substring end \n",
    "    if string_name.endswith('.com'):\n",
    "        #come back true if .com is there \n",
    "        print('True, substring ends in .com' )\n",
    "    #else statement\n",
    "    else:\n",
    "        #if .com is not present come back false \n",
    "        print('False, substring does not end in .com')\n",
    " \n",
    "#call the main to execute program\n",
    "main()"
   ]
  },
  {
   "cell_type": "markdown",
   "id": "d98edbcc",
   "metadata": {},
   "source": [
    "## Programming Excercises "
   ]
  },
  {
   "cell_type": "markdown",
   "id": "132370a4",
   "metadata": {},
   "source": [
    "Question 1:Initials - write a program that gets a string containing a person's first, middle, and last initials. For example, if the user enters john williams smith, the program should display J.W.S. "
   ]
  },
  {
   "cell_type": "code",
   "execution_count": null,
   "id": "3d34d921",
   "metadata": {},
   "outputs": [],
   "source": [
    "def main: \n",
    "    #get users first name \n",
    "    first = input('Enter First Name: ')\n",
    "    #get users middle name \n",
    "    middle = input('Enter Middle Name: ')\n",
    "    #get users last name \n",
    "    last = input('Enter Last Name: ')\n",
    "    "
   ]
  },
  {
   "cell_type": "markdown",
   "id": "49970521",
   "metadata": {},
   "source": [
    "Question 3: Date Printer - Write a program that reads a string from the user containing a date in the form mm/dd/yyyy. It should print the date in the format March 12, 2018 \n"
   ]
  },
  {
   "cell_type": "code",
   "execution_count": null,
   "id": "a7982eb8",
   "metadata": {},
   "outputs": [],
   "source": [
    "#define the main \n",
    "def main():\n",
    "    #user imput the date in mm/dd/yyyy format\n",
    "    date_string = input('Enter Date in format MM/DD/YYY: ')\n",
    "    \n",
    "    #split the date \n",
    "    date_list = date_string.split('/')\n",
    "    \n",
    "    #display each peice of the date \n",
    "    else:\n",
    "        print('Month:', date_list[0])\n",
    "        print('Day:', date_list[1])\n",
    "        print('Year:', date_list[2])\n",
    "    \n",
    "#call the main function to execute code \n",
    "    "
   ]
  },
  {
   "cell_type": "markdown",
   "id": "03451512",
   "metadata": {},
   "source": [
    "Question 12: Pig Latin - Write a program that accepts a sentence as input and converts each word to pig latin. In one version, to convert a word to pig latin, you remove the first letter and place that letter at the end of the word. Then you append the string 'ay' to the word. "
   ]
  },
  {
   "cell_type": "code",
   "execution_count": null,
   "id": "b4b5315f",
   "metadata": {},
   "outputs": [],
   "source": []
  }
 ],
 "metadata": {
  "kernelspec": {
   "display_name": "Python 3 (ipykernel)",
   "language": "python",
   "name": "python3"
  },
  "language_info": {
   "codemirror_mode": {
    "name": "ipython",
    "version": 3
   },
   "file_extension": ".py",
   "mimetype": "text/x-python",
   "name": "python",
   "nbconvert_exporter": "python",
   "pygments_lexer": "ipython3",
   "version": "3.10.9"
  }
 },
 "nbformat": 4,
 "nbformat_minor": 5
}
