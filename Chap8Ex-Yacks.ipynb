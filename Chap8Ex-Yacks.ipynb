{
 "cells": [
  {
   "cell_type": "markdown",
   "id": "b5577f49",
   "metadata": {},
   "source": [
    "# Coding Set 8 "
   ]
  },
  {
   "cell_type": "markdown",
   "id": "f5daa64e",
   "metadata": {},
   "source": [
    "## Algorithm Workbench "
   ]
  },
  {
   "cell_type": "markdown",
   "id": "471bf605",
   "metadata": {},
   "source": [
    "Question 6: Write Code  that makes a copy of a string with all occurrences of the lowercase letter 't' converted to uppercase "
   ]
  },
  {
   "cell_type": "code",
   "execution_count": 1,
   "id": "faa2adf1",
   "metadata": {},
   "outputs": [
    {
     "name": "stdout",
     "output_type": "stream",
     "text": [
      "t T\n"
     ]
    }
   ],
   "source": [
    "#definining the main function \n",
    "def main():\n",
    "    \n",
    "    #defining the letter as a lower case \n",
    "    letter = 't'  \n",
    "    #printing the lower case letter and concerting to uppercase \n",
    "    print(letter, letter.upper())\n",
    "    \n",
    "#calling the main to execute code \n",
    "main()\n",
    "    "
   ]
  },
  {
   "cell_type": "markdown",
   "id": "a9bed5f9",
   "metadata": {},
   "source": [
    "Question 5: Write a function that accpets a string as an argument and returns true if the arguement ends with the substring '.com'. Otherwise, the function should return false. "
   ]
  },
  {
   "cell_type": "code",
   "execution_count": 2,
   "id": "705a1675",
   "metadata": {},
   "outputs": [
    {
     "name": "stdout",
     "output_type": "stream",
     "text": [
      "Enter String Name: names.txt\n",
      "False, substring does not end in .com\n"
     ]
    }
   ],
   "source": [
    "#define the main function to call later \n",
    "def main():\n",
    "    #Asking user for the string name \n",
    "    string_name = input('Enter String Name: ')\n",
    "    #looking for end of string to see the substring end \n",
    "    if string_name.endswith('.com'):\n",
    "        #come back true if .com is there \n",
    "        print('True, substring ends in .com' )\n",
    "    #else statement\n",
    "    else:\n",
    "        #if .com is not present come back false \n",
    "        print('False, substring does not end in .com')\n",
    " \n",
    "#call the main to execute program\n",
    "main()"
   ]
  },
  {
   "cell_type": "markdown",
   "id": "51f24c1e",
   "metadata": {},
   "source": [
    "## Programming Excercises "
   ]
  },
  {
   "cell_type": "markdown",
   "id": "874ff00c",
   "metadata": {},
   "source": [
    "Question 1:Initials - write a program that gets a string containing a person's first, middle, and last initials. For example, if the user enters john williams smith, the program should display J.W.S. "
   ]
  },
  {
   "cell_type": "code",
   "execution_count": 3,
   "id": "ae210b19",
   "metadata": {},
   "outputs": [
    {
     "ename": "SyntaxError",
     "evalue": "invalid syntax (2575194183.py, line 1)",
     "output_type": "error",
     "traceback": [
      "\u001b[1;36m  Cell \u001b[1;32mIn[3], line 1\u001b[1;36m\u001b[0m\n\u001b[1;33m    def main:\u001b[0m\n\u001b[1;37m            ^\u001b[0m\n\u001b[1;31mSyntaxError\u001b[0m\u001b[1;31m:\u001b[0m invalid syntax\n"
     ]
    }
   ],
   "source": [
    "def main: \n",
    "    #get users first name \n",
    "    first = input('Enter First Name: ')\n",
    "    #get users middle name \n",
    "    middle = input('Enter Middle Name: ')\n",
    "    #get users last name \n",
    "    last = input('Enter Last Name: ')\n",
    "    "
   ]
  },
  {
   "cell_type": "markdown",
   "id": "67cb1309",
   "metadata": {},
   "source": [
    "Question 3: Date Printer - Write a program that reads a string from the user containing a date in the form mm/dd/yyyy. It should print the date in the format March 12, 2018 \n"
   ]
  },
  {
   "cell_type": "code",
   "execution_count": null,
   "id": "78a741a4",
   "metadata": {},
   "outputs": [],
   "source": [
    "\n",
    "\n",
    "#define the main \n",
    "def main(date_string):\n",
    "    \n",
    "    #split the date into month day year \n",
    "    month, day, year = date_string.split('/')\n",
    "    \n",
    "    #setting each month to a name \n",
    "    month_names = {\n",
    "        '01':'January',\n",
    "        '02':'Febaury', \n",
    "        '03':'March', \n",
    "        '04':'April',\n",
    "        '05':'May',\n",
    "        '06':'June', \n",
    "        '07':'July',\n",
    "        '08':'August',\n",
    "        '09':'September',\n",
    "        '10':'October',\n",
    "        '11':'November',\n",
    "        '12':'December'\n",
    "    }\n",
    "    \n",
    "    #Conver the number to month anme \n",
    "    month_name = month_names.get(month, '')\n",
    "    \n",
    "    #format the date \n",
    "    formatted_date = f\"{month_name} {day}, {year}\"\n",
    "    \n",
    "    return formatted_date\n",
    "\n",
    "\n",
    "    #user imput the date in mm/dd/yyyy format\n",
    "    date_string = input('Enter Date in format MM/DD/YYYY: ')\n",
    "    \n",
    "    #convert date format to wanted format \n",
    "    formatted_date = convert_date(date_string)\n",
    "    \n",
    "    #print the wanted date format \n",
    "    print('Formatted Date: ', formatted_date)\n",
    "    \n",
    "#call the main function to execute code \n",
    "main(date_string)"
   ]
  },
  {
   "cell_type": "code",
   "execution_count": 4,
   "id": "d0c66095",
   "metadata": {},
   "outputs": [
    {
     "name": "stdout",
     "output_type": "stream",
     "text": [
      "Enter a date in MM/DD/YYYY format: 04/21/2003\n",
      "Formatted Date:  April 21, 2003\n"
     ]
    }
   ],
   "source": [
    "import datetime\n",
    "\n",
    "#define the convet_date function \n",
    "def convert_date(date_string):\n",
    "    \n",
    "    #I used chatGBt for this to help me figure out the format or the input\n",
    "    date = datetime.datetime.strptime(date_string, '%m/%d/%Y')\n",
    "    \n",
    "    #format the date as wanted \n",
    "    formatted_date = date.strftime('%B %d, %Y')\n",
    "    \n",
    "    return formatted_date \n",
    "\n",
    "#define the main function \n",
    "def main():\n",
    "\n",
    "    #gatehr date from user \n",
    "    date_string = input('Enter a date in MM/DD/YYYY format: ')\n",
    "\n",
    "    #convert the date to desired format \n",
    "    formatted_date = convert_date(date_string)\n",
    "    print('Formatted Date: ', formatted_date)\n",
    "\n",
    "#call the main\n",
    "main()"
   ]
  },
  {
   "cell_type": "markdown",
   "id": "76bc170b",
   "metadata": {},
   "source": [
    "Question 12: Pig Latin - Write a program that accepts a sentence as input and converts each word to pig latin. In one version, to convert a word to pig latin, you remove the first letter and place that letter at the end of the word. Then you append the string 'ay' to the word. "
   ]
  },
  {
   "cell_type": "code",
   "execution_count": null,
   "id": "86dd2cfd",
   "metadata": {},
   "outputs": [],
   "source": []
  }
 ],
 "metadata": {
  "kernelspec": {
   "display_name": "Python 3 (ipykernel)",
   "language": "python",
   "name": "python3"
  },
  "language_info": {
   "codemirror_mode": {
    "name": "ipython",
    "version": 3
   },
   "file_extension": ".py",
   "mimetype": "text/x-python",
   "name": "python",
   "nbconvert_exporter": "python",
   "pygments_lexer": "ipython3",
   "version": "3.10.9"
  }
 },
 "nbformat": 4,
 "nbformat_minor": 5
}
