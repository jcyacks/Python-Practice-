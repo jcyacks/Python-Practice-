{
 "cells": [
  {
   "cell_type": "markdown",
   "id": "ad606ccf",
   "metadata": {},
   "source": [
    "# Coding Set 8 "
   ]
  },
  {
   "cell_type": "markdown",
   "id": "34a345c9",
   "metadata": {},
   "source": [
    "## Algorithm Workbench "
   ]
  },
  {
   "cell_type": "markdown",
   "id": "b06964a9",
   "metadata": {},
   "source": [
    "Question 6: Write Code  that makes a copy of a string with all occurrences of the lowercase letter 't' converted to uppercase "
   ]
  },
  {
   "cell_type": "code",
   "execution_count": null,
   "id": "d78c708c",
   "metadata": {},
   "outputs": [],
   "source": []
  },
  {
   "cell_type": "markdown",
   "id": "511acdbc",
   "metadata": {},
   "source": [
    "Question 5: Write a function that accpets a string with all occences of the lowercase letter 't' converted to uppercase. "
   ]
  },
  {
   "cell_type": "code",
   "execution_count": null,
   "id": "f26a61a2",
   "metadata": {},
   "outputs": [],
   "source": []
  },
  {
   "cell_type": "markdown",
   "id": "0a151949",
   "metadata": {},
   "source": [
    "## Programming Excercises "
   ]
  },
  {
   "cell_type": "markdown",
   "id": "3b5ca281",
   "metadata": {},
   "source": [
    "Question 1:Initials - write a program that gets a string containing a person's first, middle, and last initials. For example, if the user enters john williams smith, the program should display J.W.S. "
   ]
  },
  {
   "cell_type": "code",
   "execution_count": null,
   "id": "09d98928",
   "metadata": {},
   "outputs": [],
   "source": []
  },
  {
   "cell_type": "markdown",
   "id": "e0e41728",
   "metadata": {},
   "source": [
    "Question 3: Date Printer - Write a program that reads a string from the user containing a date in the form mm/dd/yyyy. It should print the date in the format March 12, 2018 \n"
   ]
  },
  {
   "cell_type": "code",
   "execution_count": null,
   "id": "5433b4e0",
   "metadata": {},
   "outputs": [],
   "source": []
  },
  {
   "cell_type": "markdown",
   "id": "4c2b7770",
   "metadata": {},
   "source": [
    "Question 12: Pig Latin - Write a program that accepts a sentence as input and converts each word to pig latin. In one version, to convert a word to pig latin, you remove the first letter and place that letter at the end of the word. Then you append the string 'ay' to the word. "
   ]
  },
  {
   "cell_type": "code",
   "execution_count": null,
   "id": "115c7a67",
   "metadata": {},
   "outputs": [],
   "source": []
  }
 ],
 "metadata": {
  "kernelspec": {
   "display_name": "Python 3 (ipykernel)",
   "language": "python",
   "name": "python3"
  },
  "language_info": {
   "codemirror_mode": {
    "name": "ipython",
    "version": 3
   },
   "file_extension": ".py",
   "mimetype": "text/x-python",
   "name": "python",
   "nbconvert_exporter": "python",
   "pygments_lexer": "ipython3",
   "version": "3.10.9"
  }
 },
 "nbformat": 4,
 "nbformat_minor": 5
}
