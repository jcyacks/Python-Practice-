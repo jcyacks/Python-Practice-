{
 "cells": [
  {
   "cell_type": "markdown",
   "id": "7cfe6146",
   "metadata": {},
   "source": [
    "# Coding Set 8 "
   ]
  },
  {
   "cell_type": "markdown",
   "id": "6b98f930",
   "metadata": {},
   "source": [
    "## Algorithm Workbench "
   ]
  },
  {
   "cell_type": "markdown",
   "id": "3fc62975",
   "metadata": {},
   "source": [
    "Question 6: Write Code  that makes a copy of a string with all occurrences of the lowercase letter 't' converted to uppercase "
   ]
  },
  {
   "cell_type": "code",
   "execution_count": 14,
   "id": "e0c36a25",
   "metadata": {},
   "outputs": [
    {
     "name": "stdout",
     "output_type": "stream",
     "text": [
      "t T\n"
     ]
    }
   ],
   "source": [
    "#definining the main function \n",
    "def main():\n",
    "    \n",
    "    #defining the letter as a lower case \n",
    "    letter = 't'  \n",
    "    #printing the lower case letter and concerting to uppercase \n",
    "    print(letter, letter.upper())\n",
    "    \n",
    "#calling the main to execute code \n",
    "main()\n",
    "    "
   ]
  },
  {
   "cell_type": "markdown",
   "id": "db337ccc",
   "metadata": {},
   "source": [
    "Question 5: Write a function that accpets a string as an argument and returns true if the arguement ends with the substring '.com'. Otherwise, the function should return false. "
   ]
  },
  {
   "cell_type": "code",
   "execution_count": 15,
   "id": "57ea3a08",
   "metadata": {},
   "outputs": [
    {
     "ename": "SyntaxError",
     "evalue": "expected ':' (1406093436.py, line 4)",
     "output_type": "error",
     "traceback": [
      "\u001b[1;36m  Cell \u001b[1;32mIn[15], line 4\u001b[1;36m\u001b[0m\n\u001b[1;33m    if string_name.endswith('.com')\u001b[0m\n\u001b[1;37m                                   ^\u001b[0m\n\u001b[1;31mSyntaxError\u001b[0m\u001b[1;31m:\u001b[0m expected ':'\n"
     ]
    }
   ],
   "source": [
    "#define the main function to call later \n",
    "def main():\n",
    "    string_name = input('Enter String Name: ')\n",
    "    if string_name.endswith('.com')\n",
    "        print('True, substring ends in .com' )4\n",
    "    else:\n",
    "        print('False, substring does not end in .com')"
   ]
  },
  {
   "cell_type": "markdown",
   "id": "a76508ff",
   "metadata": {},
   "source": [
    "## Programming Excercises "
   ]
  },
  {
   "cell_type": "markdown",
   "id": "7490300c",
   "metadata": {},
   "source": [
    "Question 1:Initials - write a program that gets a string containing a person's first, middle, and last initials. For example, if the user enters john williams smith, the program should display J.W.S. "
   ]
  },
  {
   "cell_type": "code",
   "execution_count": null,
   "id": "8d48b93c",
   "metadata": {},
   "outputs": [],
   "source": [
    "def main: \n",
    "    #get users first name \n",
    "    first = input('Enter First Name: ')\n",
    "    #get users middle name \n",
    "    middle = input('Enter Middle Name: ')\n",
    "    #get users last name \n",
    "    last = input('Enter Last Name: ')\n",
    "    "
   ]
  },
  {
   "cell_type": "markdown",
   "id": "00e6b58c",
   "metadata": {},
   "source": [
    "Question 3: Date Printer - Write a program that reads a string from the user containing a date in the form mm/dd/yyyy. It should print the date in the format March 12, 2018 \n"
   ]
  },
  {
   "cell_type": "code",
   "execution_count": null,
   "id": "ecdc5fef",
   "metadata": {},
   "outputs": [],
   "source": []
  },
  {
   "cell_type": "markdown",
   "id": "4a63d76b",
   "metadata": {},
   "source": [
    "Question 12: Pig Latin - Write a program that accepts a sentence as input and converts each word to pig latin. In one version, to convert a word to pig latin, you remove the first letter and place that letter at the end of the word. Then you append the string 'ay' to the word. "
   ]
  },
  {
   "cell_type": "code",
   "execution_count": null,
   "id": "bb5c4fc4",
   "metadata": {},
   "outputs": [],
   "source": []
  }
 ],
 "metadata": {
  "kernelspec": {
   "display_name": "Python 3 (ipykernel)",
   "language": "python",
   "name": "python3"
  },
  "language_info": {
   "codemirror_mode": {
    "name": "ipython",
    "version": 3
   },
   "file_extension": ".py",
   "mimetype": "text/x-python",
   "name": "python",
   "nbconvert_exporter": "python",
   "pygments_lexer": "ipython3",
   "version": "3.10.9"
  }
 },
 "nbformat": 4,
 "nbformat_minor": 5
}
