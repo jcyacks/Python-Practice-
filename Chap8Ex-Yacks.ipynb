{
 "cells": [
  {
   "cell_type": "markdown",
   "id": "62d161be",
   "metadata": {},
   "source": [
    "# Coding Set 8 "
   ]
  },
  {
   "cell_type": "markdown",
   "id": "30fffbbc",
   "metadata": {},
   "source": [
    "## Algorithm Workbench "
   ]
  },
  {
   "cell_type": "markdown",
   "id": "0689d093",
   "metadata": {},
   "source": [
    "Question 6: Write Code  that makes a copy of a string with all occurrences of the lowercase letter 't' converted to uppercase "
   ]
  },
  {
   "cell_type": "code",
   "execution_count": 1,
   "id": "f1c7d8b0",
   "metadata": {},
   "outputs": [
    {
     "name": "stdout",
     "output_type": "stream",
     "text": [
      "t T\n"
     ]
    }
   ],
   "source": [
    "#definining the main function \n",
    "def main():\n",
    "    \n",
    "    #defining the letter as a lower case \n",
    "    letter = 't'  \n",
    "    #printing the lower case letter and concerting to uppercase \n",
    "    print(letter, letter.upper())\n",
    "    \n",
    "#calling the main to execute code \n",
    "main()\n",
    "    "
   ]
  },
  {
   "cell_type": "markdown",
   "id": "5a41a369",
   "metadata": {},
   "source": [
    "Question 5: Write a function that accpets a string as an argument and returns true if the arguement ends with the substring '.com'. Otherwise, the function should return false. "
   ]
  },
  {
   "cell_type": "code",
   "execution_count": 2,
   "id": "1285b73f",
   "metadata": {},
   "outputs": [
    {
     "name": "stdout",
     "output_type": "stream",
     "text": [
      "Enter String Name: names.txt\n",
      "False, substring does not end in .com\n"
     ]
    }
   ],
   "source": [
    "#define the main function to call later \n",
    "def main():\n",
    "    #Asking user for the string name \n",
    "    string_name = input('Enter String Name: ')\n",
    "    #looking for end of string to see the substring end \n",
    "    if string_name.endswith('.com'):\n",
    "        #come back true if .com is there \n",
    "        print('True, substring ends in .com' )\n",
    "    #else statement\n",
    "    else:\n",
    "        #if .com is not present come back false \n",
    "        print('False, substring does not end in .com')\n",
    " \n",
    "#call the main to execute program\n",
    "main()"
   ]
  },
  {
   "cell_type": "markdown",
   "id": "c9117a6f",
   "metadata": {},
   "source": [
    "## Programming Excercises "
   ]
  },
  {
   "cell_type": "markdown",
   "id": "fb0ac67e",
   "metadata": {},
   "source": [
    "Question 1:Initials - write a program that gets a string containing a person's first, middle, and last initials. For example, if the user enters john williams smith, the program should display J.W.S. "
   ]
  },
  {
   "cell_type": "code",
   "execution_count": 14,
   "id": "8c82d748",
   "metadata": {},
   "outputs": [
    {
     "name": "stdout",
     "output_type": "stream",
     "text": [
      "Enter Full Name: Jaya Carrington Yacks\n",
      "Your Initials are: J . C . Y .\n"
     ]
    }
   ],
   "source": [
    "#define Main Function \n",
    "def main():\n",
    "    #gather full name of individual \n",
    "    full_name = input('Enter Full Name: ')\n",
    "    \n",
    "    #split the full name into first middle last \n",
    "    name_list = full_name.split()\n",
    "    \n",
    "    #get initials from first middle last name \n",
    "    first_initial = name_list[0][0]\n",
    "    middle_initial = name_list[1][0]\n",
    "    last_initial = name_list[2][0]\n",
    "    \n",
    "    #diplau the initials \n",
    "    print('Your Initials are:',first_initial,'.',middle_initial,'.',last_initial,'.' )\n",
    "    \n",
    "#call the main function to run code \n",
    "main()"
   ]
  },
  {
   "cell_type": "markdown",
   "id": "559b045f",
   "metadata": {},
   "source": [
    "Question 3: Date Printer - Write a program that reads a string from the user containing a date in the form mm/dd/yyyy. It should print the date in the format March 12, 2018 \n"
   ]
  },
  {
   "cell_type": "code",
   "execution_count": 4,
   "id": "3d4fe27e",
   "metadata": {},
   "outputs": [
    {
     "name": "stdout",
     "output_type": "stream",
     "text": [
      "Enter a date in MM/DD/YYYY format: 04/21/2003\n",
      "Formatted Date:  April 21, 2003\n"
     ]
    }
   ],
   "source": [
    "import datetime\n",
    "\n",
    "#define the convet_date function \n",
    "def convert_date(date_string):\n",
    "    \n",
    "    #I used chatGBt for this to help me figure out the format or the input\n",
    "    date = datetime.datetime.strptime(date_string, '%m/%d/%Y')\n",
    "    \n",
    "    #format the date as wanted \n",
    "    formatted_date = date.strftime('%B %d, %Y')\n",
    "    \n",
    "    return formatted_date \n",
    "\n",
    "#define the main function \n",
    "def main():\n",
    "\n",
    "    #gatehr date from user \n",
    "    date_string = input('Enter a date in MM/DD/YYYY format: ')\n",
    "\n",
    "    #convert the date to desired format \n",
    "    formatted_date = convert_date(date_string)\n",
    "    print('Formatted Date: ', formatted_date)\n",
    "\n",
    "#call the main\n",
    "main()"
   ]
  },
  {
   "cell_type": "markdown",
   "id": "eaf22f9f",
   "metadata": {},
   "source": [
    "Question 12 - Pig Latin - Write a program that accepts a sentence as input and converts each word to pig latin. In one version, to convert a work to pig latin you remove the first letter and place that letter at the end of the word. then you append the string 'ay' to the word. "
   ]
  },
  {
   "cell_type": "code",
   "execution_count": 10,
   "id": "8fe272a5",
   "metadata": {},
   "outputs": [
    {
     "name": "stdout",
     "output_type": "stream",
     "text": [
      "Enter Sentence: spindrift is a good carbonated water brand. I am addicted to it. \n",
      "pindriftsay siay aay oodgay arbonatedcay aterway rand.bay Iay maay ddictedaay otay t.iay\n"
     ]
    }
   ],
   "source": [
    "#define the main function \n",
    "def main(): \n",
    "    #gather words to transfer to pig latin\n",
    "    sentence = input('Enter Sentence: ')\n",
    "    \n",
    "    #aplit sentence into words \n",
    "    words = sentence.split()\n",
    "    \n",
    "    #each word in sentence \n",
    "    for i in range(len(words)):\n",
    "        \n",
    "        #move first letter to end and then add AY\n",
    "        words[i] = words[i][1:] + words[i][0] + 'ay'\n",
    "        \n",
    "    \n",
    "    #define the result\n",
    "    result = ' '.join(words)\n",
    "    \n",
    "    #print the sentence\n",
    "    print(result)\n",
    "    \n",
    "main()"
   ]
  },
  {
   "cell_type": "markdown",
   "id": "380fb2f6",
   "metadata": {},
   "source": [
    "Question 10: Most frequent Character- write a program that lets the user enter a string and siplays the character that appearsmost requently in the string. "
   ]
  },
  {
   "cell_type": "code",
   "execution_count": 15,
   "id": "ff406c8e",
   "metadata": {},
   "outputs": [
    {
     "name": "stdout",
     "output_type": "stream",
     "text": [
      "Enter a Sentence: zzzzhhhhjjjjjj\n",
      "The most popular character appears 0 times.\n"
     ]
    }
   ],
   "source": [
    "#define the main function \n",
    "def main():\n",
    "    count = 0 \n",
    "    \n",
    "    sentence = input('Enter a Sentence: ')\n",
    "    \n",
    "    for ch in sentence:\n",
    "        if ch == 'A' or ch =='a':\n",
    "            count+=1\n",
    "    \n",
    "    print('The most popular character appears', count, 'times.')\n",
    "    \n",
    "#call the main to use function \n",
    "main()"
   ]
  },
  {
   "cell_type": "code",
   "execution_count": null,
   "id": "9dcc9441",
   "metadata": {},
   "outputs": [],
   "source": []
  }
 ],
 "metadata": {
  "kernelspec": {
   "display_name": "Python 3 (ipykernel)",
   "language": "python",
   "name": "python3"
  },
  "language_info": {
   "codemirror_mode": {
    "name": "ipython",
    "version": 3
   },
   "file_extension": ".py",
   "mimetype": "text/x-python",
   "name": "python",
   "nbconvert_exporter": "python",
   "pygments_lexer": "ipython3",
   "version": "3.10.9"
  }
 },
 "nbformat": 4,
 "nbformat_minor": 5
}
