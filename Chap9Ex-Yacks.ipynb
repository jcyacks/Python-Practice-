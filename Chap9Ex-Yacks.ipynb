{
 "cells": [
  {
   "cell_type": "markdown",
   "id": "ad79c44c",
   "metadata": {},
   "source": [
    "# Chapter 9 Coding Work "
   ]
  },
  {
   "cell_type": "markdown",
   "id": "0c2f6bef",
   "metadata": {},
   "source": [
    "### Programming Excercises (Choose One) \n"
   ]
  },
  {
   "cell_type": "markdown",
   "id": "58391956",
   "metadata": {},
   "source": [
    "Question 2: Capital Quiz - Write a program that creates a dictionary containing the U.S. states as keys and and their capitals as values ( Use the internet to get a list of the states and their capitals). The program should then randomly quiz the user by displaying the name of a state and asking the user to enter that states capital. "
   ]
  },
  {
   "cell_type": "code",
   "execution_count": null,
   "id": "2c8114a7",
   "metadata": {},
   "outputs": [],
   "source": [
    "#defining the main function \n",
    "def main():\n",
    "    #Creating the dictionary to add the states and capitals into \n",
    "    capital_dict = \n",
    "    #adding in the states as the key and the capitals as the values\n",
    "    {\n",
    "    'Alabama':'Montgomery', \n",
    "    'Alaska' : 'Juneau', \n",
    "    'Arizona':'Phoenix', \n",
    "    'Arkansas':'Little Rock',\n",
    "    'California':'Sacramento',\n",
    "    'Colorado': 'Denver',\n",
    "    'Connecticut':'Hartford',\n",
    "    'Delaware':'Dover',\n",
    "    'Florida':'Tallahassee',\n",
    "    'Georgia':'Atlanta',\n",
    "    'Hawaii':'Honolulu',\n",
    "    'Idaho':'Boise',\n",
    "    'Illinois':'Springfield',\n",
    "    'Indiana':'Indianapolis',\n",
    "    'Iowa':'Des Moines',\n",
    "    'Kansas':'Topeka',\n",
    "    'Kentucky':'Fankfort',\n",
    "    'Louisiana':'Baton Rouge',\n",
    "    'Maine':'Augusta',\n",
    "    'Maryland':'Annapolis',\n",
    "    'Massachusetts':'Boston',\n",
    "    'Michigan':'Lansing',\n",
    "    'Minnesota':'Saint Paul',\n",
    "    'Mississippi':'Jackson',\n",
    "    'Missouri':'Jefferson City',\n",
    "    'Montana':'Helena',\n",
    "    'Nebraska':'Lincoln',\n",
    "    'Neveda':'Carson City',\n",
    "    'New Hampshire':'Concord',\n",
    "    'New Jersey':'Trenton',\n",
    "    'New Mexico':'Santa Fe',\n",
    "    'New York':'Albany',\n",
    "    'North Carolina':'Raleigh',\n",
    "    'North Dakota':'Bismarck',\n",
    "    'Ohio':'Columbus'\n",
    "    'Oklahoma':'Oklahoma City',\n",
    "    'Oregon':'Salem',\n",
    "    'Pennsylvania':'Harrisburg'\n",
    "    'Rhode Island':'Providence'\n",
    "    'South Carolina':'Columbia',\n",
    "    'South Dakota':'Pierre',\n",
    "    'Tennessee':'Nashville',\n",
    "    'Texas':'Austin',\n",
    "    'Utah':'Salt Lake City',\n",
    "    'Vermont':'Montpelier',\n",
    "    'Virginia':'Richmond',\n",
    "    'Washington':'Olympia',\n",
    "    'West Virginia':'Charleston',\n",
    "    'Wisconsin':'Madison',\n",
    "    'Wyoming':'Cheyenne'}\n",
    "    \n",
    "    "
   ]
  }
 ],
 "metadata": {
  "kernelspec": {
   "display_name": "Python 3 (ipykernel)",
   "language": "python",
   "name": "python3"
  },
  "language_info": {
   "codemirror_mode": {
    "name": "ipython",
    "version": 3
   },
   "file_extension": ".py",
   "mimetype": "text/x-python",
   "name": "python",
   "nbconvert_exporter": "python",
   "pygments_lexer": "ipython3",
   "version": "3.10.9"
  }
 },
 "nbformat": 4,
 "nbformat_minor": 5
}
