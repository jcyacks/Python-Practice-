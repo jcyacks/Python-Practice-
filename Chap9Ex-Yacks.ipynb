{
 "cells": [
  {
   "cell_type": "markdown",
   "id": "1e3cc7c5",
   "metadata": {},
   "source": [
    "# Chapter 9 Coding Work "
   ]
  },
  {
   "cell_type": "markdown",
   "id": "16266a34",
   "metadata": {},
   "source": [
    "### Programming Excercises (Choose One) \n"
   ]
  },
  {
   "cell_type": "markdown",
   "id": "d4141a1d",
   "metadata": {},
   "source": [
    "Question 2: Capital Quiz - Write a program that creates a dictionary containing the U.S. states as keys and and their capitals as values ( Use the internet to get a list of the states and their capitals). The program should then randomly quiz the user by displaying the name of a state and asking the user to enter that states capital. "
   ]
  },
  {
   "cell_type": "code",
   "execution_count": 7,
   "id": "12ff2c4e",
   "metadata": {
    "scrolled": false
   },
   "outputs": [
    {
     "ename": "AttributeError",
     "evalue": "'NoneType' object has no attribute 'keys'",
     "output_type": "error",
     "traceback": [
      "\u001b[1;31m---------------------------------------------------------------------------\u001b[0m",
      "\u001b[1;31mAttributeError\u001b[0m                            Traceback (most recent call last)",
      "Cell \u001b[1;32mIn[7], line 73\u001b[0m\n\u001b[0;32m     70\u001b[0m             \u001b[38;5;28mprint\u001b[39m(\u001b[38;5;124m'\u001b[39m\u001b[38;5;124mWrong!\u001b[39m\u001b[38;5;124m'\u001b[39m)\n\u001b[0;32m     72\u001b[0m capital_dict \u001b[38;5;241m=\u001b[39m main()\n\u001b[1;32m---> 73\u001b[0m \u001b[43mcapital_quiz\u001b[49m\u001b[43m(\u001b[49m\u001b[43mcapital_dict\u001b[49m\u001b[43m)\u001b[49m\n",
      "Cell \u001b[1;32mIn[7], line 60\u001b[0m, in \u001b[0;36mcapital_quiz\u001b[1;34m(capital_dict)\u001b[0m\n\u001b[0;32m     59\u001b[0m \u001b[38;5;28;01mdef\u001b[39;00m \u001b[38;5;21mcapital_quiz\u001b[39m(capital_dict):\n\u001b[1;32m---> 60\u001b[0m     states \u001b[38;5;241m=\u001b[39m \u001b[38;5;28mlist\u001b[39m(\u001b[43mcapital_dict\u001b[49m\u001b[38;5;241;43m.\u001b[39;49m\u001b[43mkeys\u001b[49m())\n\u001b[0;32m     62\u001b[0m     \u001b[38;5;28;01mfor\u001b[39;00m state \u001b[38;5;129;01min\u001b[39;00m states:\n\u001b[0;32m     63\u001b[0m         capital_name \u001b[38;5;241m=\u001b[39m \u001b[38;5;28minput\u001b[39m(\u001b[38;5;124m'\u001b[39m\u001b[38;5;124mWhat is the capital city of\u001b[39m\u001b[38;5;124m'\u001b[39m, state, \u001b[38;5;124m'\u001b[39m\u001b[38;5;124m?\u001b[39m\u001b[38;5;124m'\u001b[39m)\n",
      "\u001b[1;31mAttributeError\u001b[0m: 'NoneType' object has no attribute 'keys'"
     ]
    }
   ],
   "source": [
    "#defining the main function \n",
    "def main():\n",
    "    #Creating the dictionary to add the states and capitals into \n",
    "    capital_dict = {\n",
    "        #Entered the states as the kay and the capitals as the values\n",
    "        'Alabama':'Montgomery', \n",
    "        'Alaska':'Juneau', \n",
    "        'Arizona':'Phoenix', \n",
    "        'Arkansas':'Little Rock',\n",
    "        'California':'Sacramento',\n",
    "        'Colorado':'Denver',\n",
    "        'Connecticut':'Hartford',\n",
    "        'Delaware':'Dover',\n",
    "        'Florida':'Tallahassee',\n",
    "        'Georgia':'Atlanta',\n",
    "        'Hawaii':'Honolulu',\n",
    "        'Idaho':'Boise',\n",
    "        'Illinois':'Springfield',\n",
    "        'Indiana':'Indianapolis',\n",
    "        'Iowa':'Des Moines',\n",
    "        'Kansas':'Topeka',\n",
    "        'Kentucky':'Fankfort',\n",
    "        'Louisiana':'Baton Rouge',\n",
    "        'Maine':'Augusta',\n",
    "        'Maryland':'Annapolis',\n",
    "        'Massachusetts':'Boston',\n",
    "        'Michigan':'Lansing',\n",
    "        'Minnesota':'Saint Paul',\n",
    "        'Mississippi':'Jackson',\n",
    "        'Missouri':'Jefferson City',\n",
    "        'Montana':'Helena',\n",
    "        'Nebraska':'Lincoln',\n",
    "        'Neveda':'Carson City',\n",
    "        'New Hampshire':'Concord',\n",
    "        'New Jersey':'Trenton',\n",
    "        'New Mexico':'Santa Fe',\n",
    "        'New York':'Albany',\n",
    "        'North Carolina':'Raleigh',\n",
    "        'North Dakota':'Bismarck',\n",
    "        'Ohio':'Columbus',\n",
    "        'Oklahoma':'Oklahoma City',\n",
    "        'Oregon':'Salem',\n",
    "        'Pennsylvania':'Harrisburg',\n",
    "        'Rhode Island':'Providence',\n",
    "        'South Carolina':'Columbia',\n",
    "        'South Dakota':'Pierre',\n",
    "        'Tennessee':'Nashville',\n",
    "        'Texas':'Austin',\n",
    "        'Utah':'Salt Lake City',\n",
    "        'Vermont':'Montpelier',\n",
    "        'Virginia':'Richmond',\n",
    "        'Washington':'Olympia',\n",
    "        'West Virginia':'Charleston',\n",
    "        'Wisconsin':'Madison',\n",
    "        'Wyoming':'Cheyenne'}\n",
    "    #completeing the main function\n",
    "main()\n",
    "\n",
    "def capital_quiz(capital_dict):\n",
    "    states = list(capital_dict.keys())\n",
    "    \n",
    "    for state in states:\n",
    "        capital_name = input('What is the capital city of', state, '?')\n",
    "        correct_capitalcity = capital_dict[state]\n",
    "        \n",
    "        if capital_name.lower() == correct_capitalcity.lower():\n",
    "            print('Correct!')\n",
    "            \n",
    "        else: \n",
    "            print('Wrong!')\n",
    "\n",
    "capital_dict = main()\n",
    "capital_quiz(capital_dict)"
   ]
  },
  {
   "cell_type": "code",
   "execution_count": null,
   "id": "e4c13c45",
   "metadata": {},
   "outputs": [],
   "source": []
  }
 ],
 "metadata": {
  "kernelspec": {
   "display_name": "Python 3 (ipykernel)",
   "language": "python",
   "name": "python3"
  },
  "language_info": {
   "codemirror_mode": {
    "name": "ipython",
    "version": 3
   },
   "file_extension": ".py",
   "mimetype": "text/x-python",
   "name": "python",
   "nbconvert_exporter": "python",
   "pygments_lexer": "ipython3",
   "version": "3.10.9"
  }
 },
 "nbformat": 4,
 "nbformat_minor": 5
}
