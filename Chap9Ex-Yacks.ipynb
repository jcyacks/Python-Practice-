{
 "cells": [
  {
   "cell_type": "markdown",
   "id": "cd5e4886",
   "metadata": {},
   "source": [
    "# Chapter 9 Coding Work "
   ]
  },
  {
   "cell_type": "markdown",
   "id": "6324a1e8",
   "metadata": {},
   "source": [
    "### Programming Excercises (Choose One) \n"
   ]
  },
  {
   "cell_type": "markdown",
   "id": "2c8f5805",
   "metadata": {},
   "source": [
    "Question 2: Capital Quiz - Write a program that creates a dictionary containing the U.S. states as keys and and their capitals as values ( Use the internet to get a list of the states and their capitals). The program should then randomly quiz the user by displaying the name of a state and asking the user to enter that states capital. "
   ]
  },
  {
   "cell_type": "code",
   "execution_count": null,
   "id": "975ca8f8",
   "metadata": {
    "scrolled": false
   },
   "outputs": [],
   "source": [
    "import random\n",
    "#defining the main function \n",
    "def main():\n",
    "    #Creating the dictionary to add the states and capitals into \n",
    "    capital_dict = {\n",
    "        #Entered the states as the kay and the capitals as the values\n",
    "        'Alabama':'Montgomery', \n",
    "        'Alaska':'Juneau', \n",
    "        'Arizona':'Phoenix', \n",
    "        'Arkansas':'Little Rock',\n",
    "        'California':'Sacramento',\n",
    "        'Colorado':'Denver',\n",
    "        'Connecticut':'Hartford',\n",
    "        'Delaware':'Dover',\n",
    "        'Florida':'Tallahassee',\n",
    "        'Georgia':'Atlanta',\n",
    "        'Hawaii':'Honolulu',\n",
    "        'Idaho':'Boise',\n",
    "        'Illinois':'Springfield',\n",
    "        'Indiana':'Indianapolis',\n",
    "        'Iowa':'Des Moines',\n",
    "        'Kansas':'Topeka',\n",
    "        'Kentucky':'Fankfort',\n",
    "        'Louisiana':'Baton Rouge',\n",
    "        'Maine':'Augusta',\n",
    "        'Maryland':'Annapolis',\n",
    "        'Massachusetts':'Boston',\n",
    "        'Michigan':'Lansing',\n",
    "        'Minnesota':'Saint Paul',\n",
    "        'Mississippi':'Jackson',\n",
    "        'Missouri':'Jefferson City',\n",
    "        'Montana':'Helena',\n",
    "        'Nebraska':'Lincoln',\n",
    "        'Neveda':'Carson City',\n",
    "        'New Hampshire':'Concord',\n",
    "        'New Jersey':'Trenton',\n",
    "        'New Mexico':'Santa Fe',\n",
    "        'New York':'Albany',\n",
    "        'North Carolina':'Raleigh',\n",
    "        'North Dakota':'Bismarck',\n",
    "        'Ohio':'Columbus',\n",
    "        'Oklahoma':'Oklahoma City',\n",
    "        'Oregon':'Salem',\n",
    "        'Pennsylvania':'Harrisburg',\n",
    "        'Rhode Island':'Providence',\n",
    "        'South Carolina':'Columbia',\n",
    "        'South Dakota':'Pierre',\n",
    "        'Tennessee':'Nashville',\n",
    "        'Texas':'Austin',\n",
    "        'Utah':'Salt Lake City',\n",
    "        'Vermont':'Montpelier',\n",
    "        'Virginia':'Richmond',\n",
    "        'Washington':'Olympia',\n",
    "        'West Virginia':'Charleston',\n",
    "        'Wisconsin':'Madison',\n",
    "        'Wyoming':'Cheyenne'}\n",
    "    #completeing the main function\n",
    "    \n",
    "    return capital_dict\n",
    "#complete main function \n",
    "main()\n",
    "\n",
    "#define the capital quiz function to create the quiz\n",
    "def capital_quiz(capital_dict):\n",
    "    #put the states (keys) into a list \n",
    "    states = list(capital_dict.keys())\n",
    "    #shuffle/randomize the states so they do not quiz in order\n",
    "    random.shuffle(states)\n",
    "    \n",
    "    #grab the state from the states list\n",
    "    for state in states:\n",
    "        #Prompt the user with a question and a state name\n",
    "        capital_name = input(f'What is the capital city of {state}?')\n",
    "        #identify the correct capital to the state\n",
    "        correct_capitalcity = capital_dict[state]\n",
    "        \n",
    "        #identify if the user entered the correct capital name \n",
    "        #.lower is used so the code is not case sensative \n",
    "        if capital_name.lower() == correct_capitalcity.lower():\n",
    "            #Print correct if the user entered the correct capital name\n",
    "            print('Correct!')\n",
    "            \n",
    "        else: \n",
    "            #print wrong if the user entered the incorrect capital name \n",
    "            print('Wrong!')\n",
    "#connect the main function to the capital dictionary so it can be used in the quiz \n",
    "capital_dict = main()\n",
    "#call the capital quiz function to run the program \n",
    "capital_quiz(capital_dict)\n"
   ]
  }
 ],
 "metadata": {
  "kernelspec": {
   "display_name": "Python 3 (ipykernel)",
   "language": "python",
   "name": "python3"
  },
  "language_info": {
   "codemirror_mode": {
    "name": "ipython",
    "version": 3
   },
   "file_extension": ".py",
   "mimetype": "text/x-python",
   "name": "python",
   "nbconvert_exporter": "python",
   "pygments_lexer": "ipython3",
   "version": "3.10.9"
  }
 },
 "nbformat": 4,
 "nbformat_minor": 5
}
