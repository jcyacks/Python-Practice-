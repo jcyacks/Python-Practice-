{
 "cells": [
  {
   "cell_type": "code",
   "execution_count": 49,
   "id": "75200a52",
   "metadata": {},
   "outputs": [
    {
     "name": "stdout",
     "output_type": "stream",
     "text": [
      "38\n",
      "False\n",
      "Hello\n"
     ]
    }
   ],
   "source": [
    "#finding length\n",
    "length = len(greeting)\n",
    "print(length)\n",
    "\n",
    "#finding divisibiliy\n",
    "divis = length % 3 ==0 \n",
    "print(divis)\n",
    "\n",
    "#copy and paste greeting\n",
    "greeting = \"  Hello, little people of Earth!      \"\n",
    "\n",
    "#take away spaces infront, behind and inbetween letters \n",
    "no_space = greeting.replace(' ', '')\n",
    "\n",
    "#slice the first five letters from no_space\n",
    "five_letters = no_space[:5]\n",
    "\n",
    "#print step 4 \n",
    "print(five_letters)"
   ]
  },
  {
   "cell_type": "code",
   "execution_count": 46,
   "id": "b9f27635",
   "metadata": {},
   "outputs": [],
   "source": [
    "#append 73 o characters to the string\n",
    "appenind_letters = five_letters +'o'* 73 "
   ]
  },
  {
   "cell_type": "code",
   "execution_count": 48,
   "id": "5a1d80b0",
   "metadata": {},
   "outputs": [
    {
     "name": "stdout",
     "output_type": "stream",
     "text": [
      "Helloooooooooooooooooooooooooooooooooooooooooooooooooooooooooooooooooooooooooo\n"
     ]
    }
   ],
   "source": [
    "print (appenind_letters)"
   ]
  },
  {
   "cell_type": "code",
   "execution_count": 37,
   "id": "e4b196be",
   "metadata": {},
   "outputs": [
    {
     "name": "stdout",
     "output_type": "stream",
     "text": [
      "wow\n",
      "kazow\n",
      "wow\n",
      "29\n"
     ]
    },
    {
     "ename": "NameError",
     "evalue": "name 'number' is not defined",
     "output_type": "error",
     "traceback": [
      "\u001b[1;31m---------------------------------------------------------------------------\u001b[0m",
      "\u001b[1;31mNameError\u001b[0m                                 Traceback (most recent call last)",
      "Cell \u001b[1;32mIn[37], line 23\u001b[0m\n\u001b[0;32m     20\u001b[0m \u001b[38;5;28mprint\u001b[39m(wow_kazow(\u001b[38;5;241m15\u001b[39m))\n\u001b[0;32m     21\u001b[0m \u001b[38;5;28mprint\u001b[39m(wow_kazow(\u001b[38;5;241m29\u001b[39m))\n\u001b[1;32m---> 23\u001b[0m wow_kazow(\u001b[43mnumber\u001b[49m)\n",
      "\u001b[1;31mNameError\u001b[0m: name 'number' is not defined"
     ]
    }
   ],
   "source": [
    "#define the wow_kazow function \n",
    "def wow_kazow(number):\n",
    "    #if devisible by 5 or 7 \n",
    "    if number % 5 == 0 and number % 7 == 0: \n",
    "        #return the wowkazow\n",
    "        return 'wowkazow'\n",
    "    #if devisible by 5 \n",
    "    elif number % 5 == 0:\n",
    "        return 'wow'\n",
    "    #if divisble by 7 \n",
    "    elif number % 7 == 0:\n",
    "        return 'kazow'\n",
    "    #return the number\n",
    "    else:\n",
    "        return number \n",
    "    \n",
    "#test the outputs \n",
    "print(wow_kazow(10))\n",
    "print(wow_kazow(14))\n",
    "print(wow_kazow(15))\n",
    "print(wow_kazow(29))\n",
    "\n",
    "wow_kazow(number)"
   ]
  },
  {
   "cell_type": "code",
   "execution_count": 36,
   "id": "cbeee9cb",
   "metadata": {},
   "outputs": [
    {
     "name": "stdout",
     "output_type": "stream",
     "text": [
      "41 41\n",
      "42 kazow\n",
      "43 43\n",
      "44 44\n",
      "45 wow\n",
      "46 46\n",
      "47 47\n",
      "48 48\n",
      "49 kazow\n",
      "50 wow\n",
      "51 51\n",
      "52 52\n",
      "53 53\n",
      "54 54\n",
      "55 wow\n",
      "56 kazow\n",
      "57 57\n",
      "58 58\n",
      "59 59\n",
      "60 wow\n",
      "61 61\n",
      "62 62\n",
      "63 kazow\n",
      "64 64\n",
      "65 wow\n",
      "66 66\n",
      "67 67\n",
      "68 68\n",
      "69 69\n",
      "70 wowkazow\n",
      "71 71\n",
      "72 72\n",
      "73 73\n",
      "74 74\n",
      "75 wow\n",
      "76 76\n",
      "77 kazow\n",
      "78 78\n",
      "79 79\n",
      "80 wow\n",
      "81 81\n",
      "82 82\n",
      "83 83\n",
      "84 kazow\n",
      "85 wow\n",
      "86 86\n",
      "87 87\n",
      "88 88\n",
      "89 89\n"
     ]
    }
   ],
   "source": [
    "def main():\n",
    "    for num in range(41,90):\n",
    "        result = wow_kazow(num)\n",
    "        print(num, result)\n",
    "main()"
   ]
  },
  {
   "cell_type": "code",
   "execution_count": 39,
   "id": "f30b109d",
   "metadata": {},
   "outputs": [],
   "source": [
    "class glasses:\n",
    "    def __init__(self, color, price, prescription):\n",
    "        self.__color\n",
    "        self.__price\n",
    "        self.__prescription \n",
    "        \n",
    "    def set_price(self, price):\n",
    "        self.__price = price\n",
    "        \n",
    "    def set_prescription(self, prescription):\n",
    "        self.__prescrition = presciption \n",
    "        \n",
    "    def get_price(self):\n",
    "        return self.__price\n",
    "    def get_prescription(self):\n",
    "        return self.__prescrition\n",
    "    \n",
    "class bifocals(glasses):\n",
    "    def __init__(self, _read_prescrition):\n",
    "        self._read_prescrition \n",
    "        \n",
    "    def _read_prescrition(self):\n",
    "        self._read_prescrition = read_prescrition \n",
    "        \n",
    "    def set_read_prescrition(self, read):\n",
    "        self.set_read_prescrition = set_read_prescrition\n",
    "        \n",
    "    def get_read_prescrition(self):\n",
    "         return get_read_prescrition "
   ]
  },
  {
   "cell_type": "code",
   "execution_count": null,
   "id": "bda74ceb",
   "metadata": {},
   "outputs": [],
   "source": []
  }
 ],
 "metadata": {
  "kernelspec": {
   "display_name": "Python 3 (ipykernel)",
   "language": "python",
   "name": "python3"
  },
  "language_info": {
   "codemirror_mode": {
    "name": "ipython",
    "version": 3
   },
   "file_extension": ".py",
   "mimetype": "text/x-python",
   "name": "python",
   "nbconvert_exporter": "python",
   "pygments_lexer": "ipython3",
   "version": "3.10.9"
  }
 },
 "nbformat": 4,
 "nbformat_minor": 5
}
